{
 "cells": [
  {
   "cell_type": "code",
   "execution_count": 1,
   "metadata": {},
   "outputs": [],
   "source": [
    "import matplotlib.pylab as plt\n",
    "import numpy as np\n",
    "import pandas as pd\n",
    "import time\n",
    "import sys\n",
    "import os\n",
    "\n",
    "import seaborn as sns\n",
    "import gensim "
   ]
  },
  {
   "cell_type": "code",
   "execution_count": 2,
   "metadata": {},
   "outputs": [],
   "source": [
    "import django\n",
    "import platform\n",
    "\n",
    "if platform.node() == \"mcc-apsis\":\n",
    "    sys.path.append('/home/leey/tmv/BasicBrowser/')\n",
    "else:\n",
    "    # local paths\n",
    "    sys.path.append('/Documents/Data/tmv/BasicBrowser/')\n",
    "\n",
    "os.environ.setdefault(\"DJANGO_SETTINGS_MODULE\", \"BasicBrowser.settings\")\n",
    "django.setup()\n",
    "\n",
    "# import from appended path\n",
    "import parliament.models as pm\n",
    "from parliament.tasks import do_search, run_tm\n",
    "import cities.models as cmodels\n",
    "from django.contrib.auth.models import User\n",
    "from tmv_app.models import *\n",
    "from utils.tm_mgmt import update_topic_scores\n",
    "from utils.text import *\n",
    "from django.db.models import Q, Count, Func, F, Sum, Avg, Value as V"
   ]
  },
  {
   "cell_type": "code",
   "execution_count": 29,
   "metadata": {
    "code_folding": [
     2
    ]
   },
   "outputs": [],
   "source": [
    "# Defining get_coherence\n",
    "# Modified for parliament \n",
    "def get_coherence(run_id):\n",
    "    stat = RunStats.objects.get(run_id=run_id)\n",
    "    K = stat.K\n",
    "    \n",
    "    # obtain utterances in run_id \n",
    "    uts = pm.Utterance.objects.filter(search_matches=par_search_tei)\n",
    "    # obtain paragraphs from utterances in queryset  \n",
    "    texts = []\n",
    "    for ut in uts:\n",
    "        pars = ut.paragraph_set.all()\n",
    "        texts.append(\" \".join([x.text for x in pars]))\n",
    "\n",
    "    sentences = [get_sentence_g(x) for x in texts]\n",
    "    model = gensim.models.Word2Vec(sentences)\n",
    "    validation_measure = WithinTopicMeasure(\n",
    "        ModelSimilarity(model)\n",
    "    )\n",
    "\n",
    "    term_rankings = []\n",
    "\n",
    "    topics = Topic.objects.filter(\n",
    "        run_id=run_id\n",
    "    )\n",
    "\n",
    "    for topic in topics:\n",
    "        term_ranking = list(Term.objects.filter(\n",
    "            topicterm__topic=topic\n",
    "        ).order_by(\n",
    "            '-topicterm__score'\n",
    "        ).values_list('title',flat=True)[:50])\n",
    "        term_rankings.append(term_ranking)\n",
    "\n",
    "    stat.coherence = validation_measure.evaluate_rankings(\n",
    "        term_rankings\n",
    "    )\n",
    "    stat.save()\n",
    "\n",
    "    return"
   ]
  },
  {
   "cell_type": "code",
   "execution_count": 3,
   "metadata": {},
   "outputs": [
    {
     "name": "stdout",
     "output_type": "stream",
     "text": [
      "leey\n"
     ]
    }
   ],
   "source": [
    "user1, created =  User.objects.get_or_create(username='leey', email='lee@mcc-berlin.net')\n",
    "print(user1)\n",
    "user1.save()"
   ]
  },
  {
   "cell_type": "code",
   "execution_count": 35,
   "metadata": {},
   "outputs": [
    {
     "name": "stdout",
     "output_type": "stream",
     "text": [
      "muef\n"
     ]
    }
   ],
   "source": [
    "user2, created =  User.objects.get_or_create(username='muef', email='mueller-hansen@mcc-berlin.net')\n",
    "print(user2)\n",
    "user2.save()"
   ]
  },
  {
   "cell_type": "code",
   "execution_count": 36,
   "metadata": {
    "code_folding": [
     8
    ]
   },
   "outputs": [
    {
     "name": "stdout",
     "output_type": "stream",
     "text": [
      "3281 utterances with search kohle\n",
      "35275\n",
      "3281\n",
      "35298\n",
      "3284\n",
      "<QuerySet [<RunStats: RunStats object (1028)>, <RunStats: RunStats object (1029)>, <RunStats: RunStats object (1030)>, <RunStats: RunStats object (1031)>, <RunStats: RunStats object (1032)>, <RunStats: RunStats object (1033)>, <RunStats: RunStats object (948)>, <RunStats: RunStats object (951)>]>\n"
     ]
    }
   ],
   "source": [
    "# simple search for utterances\n",
    "par_search_tei, created = pm.Search.objects.get_or_create(\n",
    "                title=\"Kohle tei utterance\",\n",
    "                text=\"kohle\",\n",
    "                creator=user2,\n",
    "                document_source=\"GermaParlTEI\",\n",
    "                search_object_type=2)\n",
    "par_search_tei.save()\n",
    "if created:\n",
    "    print(\"doing search\")\n",
    "do_search(par_search_tei.id)\n",
    "print(par_search_tei.par_count)\n",
    "print(par_search_tei.utterance_count)\n",
    "print(par_search_tei.runstats_set.all())"
   ]
  },
  {
   "cell_type": "code",
   "execution_count": 40,
   "metadata": {},
   "outputs": [],
   "source": [
    "Ks = [20, 30, 40, 50] \n",
    "search_word = \"Kohle\"\n",
    "\n",
    "method=\"LD\"\n",
    "run_ids_ld = []\n",
    "for K in Ks:\n",
    "    run_ids_ld.append(RunStats.objects.get(psearch__title=\"{} tei utterance\".format(search_word), method=method, K=K).run_id)"
   ]
  },
  {
   "cell_type": "code",
   "execution_count": 41,
   "metadata": {},
   "outputs": [],
   "source": [
    "method_2=\"NM\"\n",
    "run_ids_nm = []\n",
    "for K in Ks:\n",
    "    run_ids_nm.append(RunStats.objects.filter(psearch__title=\"{} tei utterance\".format(search_word), method=method_2, K=K)[0].run_id)"
   ]
  },
  {
   "cell_type": "code",
   "execution_count": 42,
   "metadata": {},
   "outputs": [
    {
     "name": "stdout",
     "output_type": "stream",
     "text": [
      "[1045, 1046, 1047, 1048]\n",
      "[1029, 948, 1030, 1031]\n"
     ]
    }
   ],
   "source": [
    "print(run_ids_ld)\n",
    "print(run_ids_nm)"
   ]
  },
  {
   "cell_type": "code",
   "execution_count": 27,
   "metadata": {},
   "outputs": [],
   "source": [
    "for run_id in run_ids_ld:\n",
    "    get_coherence(run_id)"
   ]
  },
  {
   "cell_type": "code",
   "execution_count": 38,
   "metadata": {},
   "outputs": [],
   "source": [
    "for run_id in run_ids_nm:\n",
    "    get_coherence(run_id)"
   ]
  },
  {
   "cell_type": "markdown",
   "metadata": {},
   "source": [
    "## Plots "
   ]
  },
  {
   "cell_type": "code",
   "execution_count": 14,
   "metadata": {},
   "outputs": [],
   "source": [
    "# Style\n",
    "sns.set_style('whitegrid')"
   ]
  },
  {
   "cell_type": "code",
   "execution_count": 44,
   "metadata": {},
   "outputs": [],
   "source": [
    "coherences_ld = []\n",
    "for run_id in run_ids_ld:\n",
    "    coherences_ld.append(RunStats.objects.get(run_id=run_id).coherence)\n",
    "    \n",
    "coherences_nm = []\n",
    "for run_id in run_ids_nm:\n",
    "    coherences_nm.append(RunStats.objects.get(run_id=run_id).coherence)"
   ]
  },
  {
   "cell_type": "code",
   "execution_count": 47,
   "metadata": {},
   "outputs": [
    {
     "data": {
      "text/plain": [
       "0.271738489210892"
      ]
     },
     "execution_count": 47,
     "metadata": {},
     "output_type": "execute_result"
    }
   ],
   "source": [
    "RunStats.objects.get(run_id=948).coherence"
   ]
  },
  {
   "cell_type": "code",
   "execution_count": 45,
   "metadata": {},
   "outputs": [
    {
     "data": {
      "text/plain": [
       "<function matplotlib.pyplot.show>"
      ]
     },
     "execution_count": 45,
     "metadata": {},
     "output_type": "execute_result"
    },
    {
     "data": {
      "image/png": "[encoded data removed]",
      "text/plain": [
       "<matplotlib.figure.Figure at 0x7fbbaf2d2710>"
      ]
     },
     "metadata": {},
     "output_type": "display_data"
    }
   ],
   "source": [
    "fig, ax = plt.subplots(figsize=(10,6))\n",
    "sns.lineplot(Ks, coherences_ld, ax = ax)\n",
    "ax.set(xlim=(20,50),xlabel=\"Number of topics\",ylabel=\"Coherence\", title=\"Coherence measure against number of topics, model = {}\".format(method))\n",
    "plt.show"
   ]
  },
  {
   "cell_type": "code",
   "execution_count": 49,
   "metadata": {},
   "outputs": [
    {
     "data": {
      "text/plain": [
       "<function matplotlib.pyplot.show>"
      ]
     },
     "execution_count": 49,
     "metadata": {},
     "output_type": "execute_result"
    },
    {
     "data": {
      "image/png": "[encoded data removed]",
      "text/plain": [
       "<matplotlib.figure.Figure at 0x7fbbbb906048>"
      ]
     },
     "metadata": {},
     "output_type": "display_data"
    }
   ],
   "source": [
    "fig, ax = plt.subplots(figsize=(10,6))\n",
    "sns.lineplot(Ks, coherences_nm, ax = ax)\n",
    "ax.set(xlim=(20,50),xlabel=\"Number of topics\",ylabel=\"Coherence\", title=\"Coherence measure against number of topics, model = {}\".format(method_2))\n",
    "plt.show"
   ]
  }
 ],
 "metadata": {
  "kernelspec": {
   "display_name": "tmv_yt",
   "language": "python",
   "name": "tmv_yt"
  },
  "language_info": {
   "codemirror_mode": {
    "name": "ipython",
    "version": 3
   },
   "file_extension": ".py",
   "mimetype": "text/x-python",
   "name": "python",
   "nbconvert_exporter": "python",
   "pygments_lexer": "ipython3",
   "version": "3.6.6"
  }
 },
 "nbformat": 4,
 "nbformat_minor": 2
}
