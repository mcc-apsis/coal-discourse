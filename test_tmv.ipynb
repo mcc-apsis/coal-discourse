{
 "cells": [
  {
   "cell_type": "code",
   "execution_count": 6,
   "metadata": {
    "collapsed": true,
    "deletable": true,
    "editable": true
   },
   "outputs": [],
   "source": [
    "import matplotlib.pylab as plt\n",
    "# import networkx as nx\n",
    "import numpy as np\n",
    "import pandas as pd\n",
    "import time\n",
    "import sys\n",
    "import os\n",
    "import datetime"
   ]
  },
  {
   "cell_type": "code",
   "execution_count": 8,
   "metadata": {
    "collapsed": true
   },
   "outputs": [],
   "source": [
    "# preamble for jupyter notebook and django\n",
    "import django\n",
    "\n",
    "sys.path.append('/home/leey/tmv/BasicBrowser/')\n",
    "\n",
    "os.environ.setdefault(\"DJANGO_SETTINGS_MODULE\", \"BasicBrowser.settings\")\n",
    "django.setup()\n",
    "\n",
    "# import from appended path\n",
    "import parliament.models as pm\n",
    "from parliament.tasks import do_search, run_tm\n",
    "import cities.models as cmodels\n",
    "from django.contrib.auth.models import User\n",
    "import tmv_app.models as tm\n",
    "from utils.tm_mgmt import update_topic_scores\n",
    "from django.db.models import Q, Count, Func, F, Sum, Avg, Value as V\n",
    "\n",
    "from utils.topic_comparison import compare_topic_queryset, save_res, sort_matrix, draw_score_matrix\n",
    "from utils.topic_comparison import save_topic_list_as_table, draw_bipartite_topic_graph, bipartite_graph_from_matrix"
   ]
  },
  {
   "cell_type": "code",
   "execution_count": 3,
   "metadata": {
    "collapsed": false,
    "deletable": true,
    "editable": true
   },
   "outputs": [
    {
     "name": "stdout",
     "output_type": "stream",
     "text": [
      "253\n"
     ]
    }
   ],
   "source": [
    "docs = pm.Document.objects.filter(parlperiod__n=17, text_source=\"from https://www.bundestag.de/service/opendata \"\n",
    "                                              +\"(scans of pdfs with xml metadata)\" )\n",
    "print(docs.count())"
   ]
  },
  {
   "cell_type": "code",
   "execution_count": 4,
   "metadata": {
    "collapsed": false,
    "deletable": true,
    "editable": true
   },
   "outputs": [
    {
     "name": "stdout",
     "output_type": "stream",
     "text": [
      "leey\n"
     ]
    }
   ],
   "source": [
    "#user1 = User.objects.create_user('finn', 'mueller-hansen@mcc-berlin.net', 'mcc123')\n",
    "user1, created =  User.objects.get_or_create(username='leey', email='lee@mcc-berlin.net')\n",
    "print(user1)\n",
    "user1.save()"
   ]
  },
  {
   "cell_type": "code",
   "execution_count": 5,
   "metadata": {
    "collapsed": true,
    "deletable": true,
    "editable": true
   },
   "outputs": [],
   "source": [
    "# Note: saving of paragraph and utterance count not working properly, only on the second call of do_search!\n",
    "# pm.Search.objects.all().delete()"
   ]
  },
  {
   "cell_type": "code",
   "execution_count": 7,
   "metadata": {
    "collapsed": false,
    "deletable": true,
    "editable": true
   },
   "outputs": [
    {
     "name": "stdout",
     "output_type": "stream",
     "text": [
      "35298\n",
      "3284\n",
      "<QuerySet [<RunStats: RunStats object (964)>]>\n"
     ]
    }
   ],
   "source": [
    "# simple search for utterances\n",
    "ut_search_tei, created = pm.Search.objects.get_or_create(\n",
    "                title=\"Kohle tei utterance\",\n",
    "                text=\"kohle\",\n",
    "                creator=user1,\n",
    "                document_source=\"GermaParlTEI\",\n",
    "                search_object_type=2)\n",
    "ut_search_tei.save()\n",
    "if created:\n",
    "    do_search(ut_search_tei.id)\n",
    "print(ut_search_tei.par_count)\n",
    "print(ut_search_tei.utterance_count)\n",
    "print(ut_search_tei.runstats_set.all())"
   ]
  },
  {
   "cell_type": "code",
   "execution_count": 9,
   "metadata": {
    "collapsed": false,
    "deletable": true,
    "editable": true
   },
   "outputs": [],
   "source": [
    "# static NMF \n",
    "# run_tm(ut_search_tei.id, 10)"
   ]
  },
  {
   "cell_type": "code",
   "execution_count": null,
   "metadata": {
    "collapsed": true,
    "deletable": true,
    "editable": true
   },
   "outputs": [],
   "source": [
    "# dynamic NMF \n",
    "# run_tm(ut_search_tei.id, 50, method='DT')"
   ]
  },
  {
   "cell_type": "code",
   "execution_count": 11,
   "metadata": {
    "collapsed": false,
    "deletable": true,
    "editable": true
   },
   "outputs": [
    {
     "name": "stdout",
     "output_type": "stream",
     "text": [
      "4961 paragraphs with search kohle\n",
      "4961\n",
      "3284\n",
      "4961\n",
      "3284\n",
      "<QuerySet []>\n"
     ]
    }
   ],
   "source": [
    "# simple search for paragraphs\n",
    "par_search_tei, created = pm.Search.objects.get_or_create(\n",
    "                title=\"Kohle tei paragraph\",\n",
    "                text=\"kohle\",\n",
    "                creator=user1,\n",
    "                document_source=\"GermaParlTEI\",\n",
    "                search_object_type=1)\n",
    "par_search_tei.save()\n",
    "if created:\n",
    "    print(\"doing search\")\n",
    "do_search(par_search_tei.id)\n",
    "print(par_search_tei.par_count)\n",
    "print(par_search_tei.utterance_count)\n",
    "print(par_search_tei.runstats_set.all())"
   ]
  },
  {
   "cell_type": "code",
   "execution_count": null,
   "metadata": {
    "collapsed": true,
    "deletable": true,
    "editable": true
   },
   "outputs": [],
   "source": [
    "# number of topics\n",
    "K = [20,30,40,50]"
   ]
  },
  {
   "cell_type": "code",
   "execution_count": 13,
   "metadata": {
    "collapsed": false,
    "deletable": true,
    "editable": true
   },
   "outputs": [
    {
     "name": "stdout",
     "output_type": "stream",
     "text": [
      "creating term frequency-inverse document frequency matrix (0.215179443359375)\n",
      "save terms to db (18.933669090270996)\n",
      "running matrix factorization with NMF (40.507906675338745)\n",
      "Reconstruction error of nmf: 67.3514953070532\n",
      "saving document topic matrix to db (61.06920552253723)\n",
      "topic model run done (68.8557231426239)\n",
      "creating term frequency-inverse document frequency matrix (0.18682217597961426)\n",
      "save terms to db (18.957873821258545)\n",
      "running matrix factorization with NMF (41.17347192764282)\n",
      "Reconstruction error of nmf: 66.71248906843883\n",
      "saving document topic matrix to db (67.48965978622437)\n",
      "topic model run done (77.71578574180603)\n",
      "creating term frequency-inverse document frequency matrix (0.20966100692749023)\n",
      "save terms to db (18.981791496276855)\n",
      "running matrix factorization with NMF (40.7155864238739)\n",
      "Reconstruction error of nmf: 66.17439504086828\n",
      "saving document topic matrix to db (72.71077275276184)\n",
      "topic model run done (85.25193619728088)\n",
      "creating term frequency-inverse document frequency matrix (0.21846675872802734)\n",
      "save terms to db (19.488870859146118)\n",
      "running matrix factorization with NMF (41.375972032547)\n",
      "Reconstruction error of nmf: 65.68253049112865\n",
      "saving document topic matrix to db (80.75189113616943)\n",
      "topic model run done (95.8350830078125)\n"
     ]
    }
   ],
   "source": [
    "# K= 20 to 50 for static LDA\n",
    "for i in K:\n",
    "    run_tm(par_search_tei.id, i, method='NM')"
   ]
  },
  {
   "cell_type": "code",
   "execution_count": 14,
   "metadata": {
    "collapsed": false,
    "deletable": true,
    "editable": true
   },
   "outputs": [
    {
     "name": "stdout",
     "output_type": "stream",
     "text": [
      "creating term frequency matrix (0.37505531311035156)\n",
      "save terms to db (19.831410884857178)\n",
      "running Latent Dirichlet Allocation (47.257975816726685)\n",
      "saving document topic matrix to db (360.3576240539551)\n",
      "topic model run done (375.2204215526581)\n",
      "creating term frequency matrix (0.41091012954711914)\n",
      "save terms to db (18.888075590133667)\n",
      "running Latent Dirichlet Allocation (39.877817153930664)\n",
      "saving document topic matrix to db (103.55408644676208)\n",
      "topic model run done (127.19487071037292)\n",
      "creating term frequency matrix (0.20089960098266602)\n",
      "save terms to db (18.702800750732422)\n",
      "running Latent Dirichlet Allocation (39.945536851882935)\n",
      "saving document topic matrix to db (125.68475413322449)\n",
      "topic model run done (156.14503693580627)\n",
      "creating term frequency matrix (0.23378729820251465)\n",
      "save terms to db (19.08131217956543)\n",
      "running Latent Dirichlet Allocation (41.06908965110779)\n",
      "saving document topic matrix to db (145.6504306793213)\n",
      "topic model run done (185.45620894432068)\n"
     ]
    }
   ],
   "source": [
    "# K= 20 to 50 for static LDA\n",
    "for i in K:\n",
    "    run_tm(par_search_tei.id, i, method='LD')"
   ]
  },
  {
   "cell_type": "markdown",
   "metadata": {},
   "source": [
    "## Dynamic ##"
   ]
  },
  {
   "cell_type": "code",
   "execution_count": null,
   "metadata": {
    "collapsed": true
   },
   "outputs": [],
   "source": []
  },
  {
   "cell_type": "markdown",
   "metadata": {
    "collapsed": true,
    "deletable": true,
    "editable": true
   },
   "source": [
    "## Running Comparison ##"
   ]
  },
  {
   "cell_type": "code",
   "execution_count": null,
   "metadata": {
    "collapsed": true
   },
   "outputs": [],
   "source": []
  },
  {
   "cell_type": "code",
   "execution_count": 10,
   "metadata": {
    "collapsed": false
   },
   "outputs": [
    {
     "ename": "NameError",
     "evalue": "name 'RunStats' is not defined",
     "output_type": "error",
     "traceback": [
      "\u001b[0;31m---------------------------------------------------------------------------\u001b[0m",
      "\u001b[0;31mNameError\u001b[0m                                 Traceback (most recent call last)",
      "\u001b[0;32m<ipython-input-10-56eb0b997013>\u001b[0m in \u001b[0;36m<module>\u001b[0;34m()\u001b[0m\n\u001b[1;32m      2\u001b[0m \u001b[0;34m\u001b[0m\u001b[0m\n\u001b[1;32m      3\u001b[0m \u001b[0mruns\u001b[0m \u001b[0;34m=\u001b[0m \u001b[0;34m[\u001b[0m\u001b[0;36m968\u001b[0m\u001b[0;34m,\u001b[0m \u001b[0;36m969\u001b[0m\u001b[0;34m]\u001b[0m\u001b[0;34m\u001b[0m\u001b[0m\n\u001b[0;32m----> 4\u001b[0;31m \u001b[0mruns\u001b[0m \u001b[0;34m=\u001b[0m \u001b[0mRunStats\u001b[0m\u001b[0;34m.\u001b[0m\u001b[0mobjects\u001b[0m\u001b[0;34m.\u001b[0m\u001b[0mfilter\u001b[0m\u001b[0;34m(\u001b[0m\u001b[0mpk__in\u001b[0m\u001b[0;34m=\u001b[0m\u001b[0mruns\u001b[0m\u001b[0;34m)\u001b[0m\u001b[0;34m.\u001b[0m\u001b[0morder_by\u001b[0m\u001b[0;34m(\u001b[0m\u001b[0;34m'K'\u001b[0m\u001b[0;34m)\u001b[0m\u001b[0;34m\u001b[0m\u001b[0m\n\u001b[0m\u001b[1;32m      5\u001b[0m \u001b[0;34m\u001b[0m\u001b[0m\n\u001b[1;32m      6\u001b[0m \u001b[0mres_tw\u001b[0m\u001b[0;34m,\u001b[0m \u001b[0mss\u001b[0m\u001b[0;34m,\u001b[0m \u001b[0mscore_matrix\u001b[0m \u001b[0;34m=\u001b[0m \u001b[0mcompare_topic_queryset\u001b[0m\u001b[0;34m(\u001b[0m\u001b[0mruns\u001b[0m\u001b[0;34m)\u001b[0m\u001b[0;34m\u001b[0m\u001b[0m\n",
      "\u001b[0;31mNameError\u001b[0m: name 'RunStats' is not defined"
     ]
    }
   ],
   "source": [
    "% matplotlib inline\n",
    "\n",
    "runs = [968, 969]\n",
    "runs = RunStats.objects.filter(pk__in=runs).order_by('K')\n",
    "\n",
    "res_tw, ss, score_matrix = compare_topic_queryset(runs)\n",
    "#options = {'fname': \"/home/leey/coal-discourse\"}\n",
    "#save_res([res_tw,ss], options)\n",
    "res_tw"
   ]
  },
  {
   "cell_type": "code",
   "execution_count": null,
   "metadata": {
    "collapsed": true
   },
   "outputs": [],
   "source": []
  }
 ],
 "metadata": {
  "kernelspec": {
   "display_name": "tmv_yt",
   "language": "python",
   "name": "tmv_yt"
  },
  "language_info": {
   "codemirror_mode": {
    "name": "ipython",
    "version": 3
   },
   "file_extension": ".py",
   "mimetype": "text/x-python",
   "name": "python",
   "nbconvert_exporter": "python",
   "pygments_lexer": "ipython3",
   "version": "3.6.6"
  }
 },
 "nbformat": 4,
 "nbformat_minor": 2
}
