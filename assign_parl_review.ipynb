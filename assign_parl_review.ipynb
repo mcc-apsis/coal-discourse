{
 "cells": [
  {
   "cell_type": "code",
   "execution_count": 1,
   "metadata": {
    "collapsed": false,
    "deletable": true,
    "editable": true
   },
   "outputs": [
    {
     "data": {
      "text/plain": [
       "<Project: Coal-discourse>"
      ]
     },
     "execution_count": 1,
     "metadata": {},
     "output_type": "execute_result"
    }
   ],
   "source": [
    "import django\n",
    "import sys, os\n",
    "import pandas as pd\n",
    "import matplotlib.pyplot as plt\n",
    "\n",
    "sys.path.append('/home/galm/software/django/tmv/BasicBrowser/')\n",
    "os.environ.setdefault(\"DJANGO_SETTINGS_MODULE\", \"BasicBrowser.settings\")\n",
    "django.setup()\n",
    "\n",
    "from scoping.models import *\n",
    "import parliament.models as pm\n",
    "\n",
    "from django.db.models import Count, Sum\n",
    "import random\n",
    "p = Project.objects.get(pk=134)\n",
    "p"
   ]
  },
  {
   "cell_type": "code",
   "execution_count": 9,
   "metadata": {
    "collapsed": false,
    "deletable": true,
    "editable": true
   },
   "outputs": [
    {
     "data": {
      "text/plain": [
       "8594"
      ]
     },
     "execution_count": 9,
     "metadata": {},
     "output_type": "execute_result"
    }
   ],
   "source": [
    "par_search_pdf = pm.Search.objects.get(\n",
    "    title=\"Kohle pdf utterance all\",\n",
    "    creator=User.objects.get(username=\"leey\")\n",
    ")\n",
    "\n",
    "uts = par_search_pdf.utterance_set.all()\n",
    "\n",
    "uts.count()"
   ]
  },
  {
   "cell_type": "code",
   "execution_count": 10,
   "metadata": {
    "collapsed": false,
    "deletable": true,
    "editable": true
   },
   "outputs": [
    {
     "name": "stdout",
     "output_type": "stream",
     "text": [
      "<QuerySet [<User: minj>, <User: galm>, <User: leia>]>\n"
     ]
    }
   ],
   "source": [
    "q, created = Query.objects.get_or_create(\n",
    "    title=\"Kohle tei utterance\",\n",
    "    text=\"kohle\",\n",
    "    project=p,\n",
    "    creator=User.objects.get(username=\"galm\")\n",
    ")\n",
    "\n",
    "\n",
    "users = User.objects.filter(username__in=[\"galm\",\"minj\",\"leia\"])\n",
    "print(users)\n",
    "\n",
    "for u in users:\n",
    "    q.users.add(u)\n",
    "\n",
    "tag, created = Tag.objects.get_or_create(\n",
    "    query=q,\n",
    "    title=\"Kohle tei utterance\",\n",
    "    text=\"kohle\",\n",
    "    document_linked=False,\n",
    "    utterance_linked=True\n",
    ")\n",
    "\n"
   ]
  },
  {
   "cell_type": "code",
   "execution_count": 12,
   "metadata": {
    "collapsed": false,
    "deletable": true,
    "editable": true
   },
   "outputs": [],
   "source": [
    "sample_size = 200\n",
    "\n",
    "ut_ids = list(uts.values_list('pk',flat=True))\n",
    "ut_sample = uts.filter(id__in=random.sample(ut_ids,sample_size*users.count()))\n",
    "\n",
    "for i,ut in enumerate(ut_sample):\n",
    "    u = users[i%users.count()]\n",
    "    do = DocOwnership.objects.filter(tag=tag)[i]\n",
    "    if do.relevant==0:\n",
    "        do.utterance = ut\n",
    "        do.save()\n",
    "    #do, created = DocOwnership.objects.get_or_create(\n",
    "    #    utterance=ut,\n",
    "    #    document_linked=False,\n",
    "    #    utterance_linked=True,\n",
    "    #    user=u,\n",
    "    #    query=q,\n",
    "    #    tag=tag\n",
    "    #)"
   ]
  }
 ],
 "metadata": {
  "kernelspec": {
   "display_name": "tmvenv_36",
   "language": "python",
   "name": "tmvenv_36"
  },
  "language_info": {
   "codemirror_mode": {
    "name": "ipython",
    "version": 3
   },
   "file_extension": ".py",
   "mimetype": "text/x-python",
   "name": "python",
   "nbconvert_exporter": "python",
   "pygments_lexer": "ipython3",
   "version": "3.4.3"
  }
 },
 "nbformat": 4,
 "nbformat_minor": 2
}
