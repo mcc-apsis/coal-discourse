{
 "cells": [
  {
   "cell_type": "code",
   "execution_count": 1,
   "metadata": {},
   "outputs": [],
   "source": [
    "import matplotlib.pylab as plt\n",
    "import numpy as np\n",
    "import pandas as pd\n",
    "import time\n",
    "import sys\n",
    "import os\n",
    "\n",
    "import seaborn as sns\n",
    "import matplotlib.dates as mdates\n",
    "from datetime import datetime, date\n",
    "\n",
    "# preamble for jupyter notebook and django\n",
    "import django\n",
    "import platform\n",
    "\n",
    "if platform.node() == \"srv-mcc-apsis\":\n",
    "    sys.path.append(\"/home/muef/tmv/BasicBrowser/\")\n",
    "    #sys.path.append('/home/leey/tmv/BasicBrowser/')\n",
    "    dtm_path = \"/home/galm/software/dtm/dtm/main\"\n",
    "else:\n",
    "    # local paths\n",
    "    sys.path.append('/media/Data/MCC/tmv/BasicBrowser/')\n",
    "    dtm_path = \"/home/finn/dtm/dtm/main\"\n",
    "\n",
    "os.environ.setdefault(\"DJANGO_SETTINGS_MODULE\", \"BasicBrowser.settings\")\n",
    "django.setup()\n",
    "\n",
    "# import from appended path\n",
    "import parliament.models as pm\n",
    "from parliament.tasks import do_search, run_tm, combine_searches\n",
    "import cities.models as cmodels\n",
    "from django.contrib.auth.models import User\n",
    "import tmv_app.models as tm\n",
    "import scoping.models as sm\n",
    "from utils.tm_mgmt import update_topic_scores\n",
    "from django.db.models import Q, Count, Func, F, Sum, Avg, Value as V\n",
    "from django.db.models.functions import TruncDate, TruncMonth, TruncYear"
   ]
  },
  {
   "cell_type": "code",
   "execution_count": 2,
   "metadata": {},
   "outputs": [],
   "source": [
    "user1 =  User.objects.get(username='muef')\n",
    "coal_project = sm.Project.objects.get(id=134)\n",
    "\n",
    "search_regex = '(?<!Gemeinschaft für )kohle(?!nwasser)(?!nstoff)(?!ndiox)(?!nmonox)(?!rnte)'\n",
    "search_object_type = 2\n",
    "search_object_text = 'utterance'"
   ]
  },
  {
   "cell_type": "code",
   "execution_count": 3,
   "metadata": {},
   "outputs": [
    {
     "name": "stdout",
     "output_type": "stream",
     "text": [
      "doing search\n",
      "5607 utterances with search (?<!Gemeinschaft für )kohle(?!nwasser)(?!nstoff)(?!ndiox)(?!nmonox)(?!rnte)\n",
      "62076\n",
      "5607\n",
      "None\n",
      "None\n",
      "<QuerySet []>\n",
      "82\n"
     ]
    }
   ],
   "source": [
    "# search in older protocols\n",
    "par_search_old, created = pm.Search.objects.get_or_create(\n",
    "                title=\"Kohle pdf 01/01 - 13/85 {}\".format(search_object_text),\n",
    "                text=search_regex,\n",
    "                creator=user1,\n",
    "                stop_date=date(1996,2,7),\n",
    "                document_source=\"from https.*scans of pdfs with xml metadata\",\n",
    "                search_object_type=search_object_type,\n",
    "                project=coal_project)\n",
    "par_search_old.save()\n",
    "\n",
    "if created:\n",
    "    print(\"doing search\")\n",
    "    do_search(par_search_old.id)\n",
    "print(par_search_old.par_count)\n",
    "print(par_search_old.utterance_count)\n",
    "print(par_search_old.runstats_set.all())\n",
    "print(par_search_old.id)"
   ]
  },
  {
   "cell_type": "code",
   "execution_count": 4,
   "metadata": {
    "scrolled": true
   },
   "outputs": [
    {
     "name": "stdout",
     "output_type": "stream",
     "text": [
      "doing search\n",
      "4542 paragraphs with search (?<!Gemeinschaft für )kohle(?!nwasser)(?!nstoff)(?!ndiox)(?!nmonox)(?!rnte)\n",
      "4542\n",
      "2951\n",
      "None\n",
      "None\n",
      "<QuerySet []>\n",
      "77\n"
     ]
    }
   ],
   "source": [
    "# search in speeches parsed from TEI documents\n",
    "par_search, created = pm.Search.objects.get_or_create(\n",
    "                title=\"Kohle tei {}\".format(search_object_text),\n",
    "                text=search_regex,\n",
    "                creator=user1,\n",
    "                document_source=\"GermaParlTEI\",\n",
    "                search_object_type=search_object_type,\n",
    "                project=coal_project)\n",
    "par_search.save()\n",
    "\n",
    "if created:\n",
    "    print(\"doing search\")\n",
    "    do_search(par_search.id)\n",
    "print(par_search.par_count)\n",
    "print(par_search.utterance_count)\n",
    "print(par_search.runstats_set.all())\n",
    "print(par_search.id)"
   ]
  },
  {
   "cell_type": "code",
   "execution_count": 5,
   "metadata": {},
   "outputs": [
    {
     "name": "stdout",
     "output_type": "stream",
     "text": [
      "doing search\n",
      "34 paragraphs with search (?<!Gemeinschaft für )kohle(?!nwasser)(?!nstoff)(?!ndiox)(?!nmonox)(?!rnte)\n",
      "34\n",
      "24\n",
      "None\n",
      "None\n",
      "<QuerySet []>\n",
      "78\n"
     ]
    }
   ],
   "source": [
    "# search for missing protocols from 18th period\n",
    "par_search2, created = pm.Search.objects.get_or_create(\n",
    "                title=\"Kohle pdf 18/211 - 18/245 {}\".format(search_object_text),\n",
    "                text=search_regex,\n",
    "                creator=user1,\n",
    "                start_date=date(2017,1,18),\n",
    "                stop_date=date(2017,5,9),\n",
    "                document_source=\"from https.*scans of pdfs with xml metadata\",\n",
    "                search_object_type=search_object_type,\n",
    "                project=coal_project)\n",
    "par_search2.save()\n",
    "\n",
    "if created:\n",
    "    print(\"doing search\")\n",
    "    do_search(par_search2.id)\n",
    "print(par_search2.par_count)\n",
    "print(par_search2.utterance_count)\n",
    "print(par_search2.runstats_set.all())\n",
    "print(par_search2.id)"
   ]
  },
  {
   "cell_type": "code",
   "execution_count": 6,
   "metadata": {},
   "outputs": [
    {
     "name": "stdout",
     "output_type": "stream",
     "text": [
      "doing search\n",
      "980 paragraphs with search (?<!Gemeinschaft für )kohle(?!nwasser)(?!nstoff)(?!ndiox)(?!nmonox)(?!rnte)\n",
      "980\n",
      "510\n",
      "None\n",
      "None\n",
      "<QuerySet []>\n",
      "79\n"
     ]
    }
   ],
   "source": [
    "# search for current parliament\n",
    "par_search_xml, created = pm.Search.objects.get_or_create(\n",
    "                title=\"Kohle XML {}\".format(search_object_text),\n",
    "                text=search_regex,\n",
    "                creator=user1,\n",
    "                start_date=date(2017,10,24),\n",
    "                document_source=\"XML from www.bundestag.de/service/opendata\",\n",
    "                search_object_type=search_object_type,\n",
    "                project=coal_project)\n",
    "par_search_xml.save()\n",
    "\n",
    "if created:\n",
    "    print(\"doing search\")\n",
    "    do_search(par_search_xml.id)\n",
    "print(par_search_xml.par_count)\n",
    "print(par_search_xml.utterance_count)\n",
    "print(par_search_xml.runstats_set.all())\n",
    "print(par_search_xml.id)"
   ]
  },
  {
   "cell_type": "code",
   "execution_count": 12,
   "metadata": {},
   "outputs": [
    {
     "name": "stdout",
     "output_type": "stream",
     "text": [
      "all search object types identical\n",
      "Created combined search: id = 83\n"
     ]
    }
   ],
   "source": [
    "# combine function\n",
    "#combine_searches([par_search.id,par_search2.id,par_search_xml.id, par_search_old.id])\n",
    "combine_searches([72, 73, 74, 82])"
   ]
  },
  {
   "cell_type": "code",
   "execution_count": 11,
   "metadata": {},
   "outputs": [
    {
     "data": {
      "text/plain": [
       "5033"
      ]
     },
     "execution_count": 11,
     "metadata": {},
     "output_type": "execute_result"
    }
   ],
   "source": [
    "pm.Utterance.objects.filter(search_matches=75).count()"
   ]
  },
  {
   "cell_type": "code",
   "execution_count": 8,
   "metadata": {},
   "outputs": [
    {
     "data": {
      "text/plain": [
       "581"
      ]
     },
     "execution_count": 8,
     "metadata": {},
     "output_type": "execute_result"
    }
   ],
   "source": [
    "pm.Utterance.objects.filter(search_matches=82, document__parlperiod__n=12).count()"
   ]
  },
  {
   "cell_type": "code",
   "execution_count": 9,
   "metadata": {},
   "outputs": [
    {
     "data": {
      "text/plain": [
       "(1,\n",
       " {'parliament.Document_search_matches': 0,\n",
       "  'parliament.Paragraph_search_matches': 0,\n",
       "  'parliament.Search': 1,\n",
       "  'parliament.Search_speaker_regions': 0,\n",
       "  'parliament.Utterance_search_matches': 0})"
      ]
     },
     "execution_count": 9,
     "metadata": {},
     "output_type": "execute_result"
    }
   ],
   "source": [
    "# delete searches\n",
    "#pm.Search.objects.get(id=70).delete()"
   ]
  }
 ],
 "metadata": {
  "kernelspec": {
   "display_name": "Python 3",
   "language": "python",
   "name": "python3"
  },
  "language_info": {
   "codemirror_mode": {
    "name": "ipython",
    "version": 3
   },
   "file_extension": ".py",
   "mimetype": "text/x-python",
   "name": "python",
   "nbconvert_exporter": "python",
   "pygments_lexer": "ipython3",
   "version": "3.6.7"
  }
 },
 "nbformat": 4,
 "nbformat_minor": 2
}
