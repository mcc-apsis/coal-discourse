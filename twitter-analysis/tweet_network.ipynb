{
 "cells": [
  {
   "cell_type": "code",
   "execution_count": 1,
   "metadata": {
    "collapsed": true,
    "deletable": true,
    "editable": true
   },
   "outputs": [],
   "source": [
    "import django\n",
    "import sys, os\n",
    "import pandas as pd\n",
    "import matplotlib.pyplot as plt\n",
    "from datetime import timedelta\n",
    "\n",
    "sys.path.append('/home/galm/software/django/tmv/BasicBrowser/')\n",
    "os.environ.setdefault(\"DJANGO_SETTINGS_MODULE\", \"BasicBrowser.settings\")\n",
    "django.setup()\n",
    "\n",
    "from twitter.models import *\n",
    "import parliament.models as pms\n",
    "\n",
    "from django.db.models import Sum, Count\n",
    "from django.db.models.fields import DateField\n",
    "from django.db.models.functions import Cast\n",
    "import textwrap as tw\n",
    "import datetime"
   ]
  },
  {
   "cell_type": "code",
   "execution_count": 2,
   "metadata": {
    "collapsed": false,
    "deletable": true,
    "editable": true
   },
   "outputs": [
    {
     "data": {
      "text/plain": [
       "1251591"
      ]
     },
     "execution_count": 2,
     "metadata": {},
     "output_type": "execute_result"
    }
   ],
   "source": [
    "# Number of replies\n",
    "Status.objects.filter(in_reply_to_status__isnull=False).count()"
   ]
  },
  {
   "cell_type": "code",
   "execution_count": 3,
   "metadata": {
    "collapsed": false,
    "deletable": true,
    "editable": true
   },
   "outputs": [
    {
     "data": {
      "text/plain": [
       "1287430"
      ]
     },
     "execution_count": 3,
     "metadata": {},
     "output_type": "execute_result"
    }
   ],
   "source": [
    "# Number of tweets by parliamentarians\n",
    "pt = Status.objects.filter(author__monitoring=True)\n",
    "pt.count()"
   ]
  },
  {
   "cell_type": "code",
   "execution_count": 4,
   "metadata": {
    "collapsed": false,
    "deletable": true,
    "editable": true
   },
   "outputs": [
    {
     "data": {
      "text/plain": [
       "6634"
      ]
     },
     "execution_count": 4,
     "metadata": {},
     "output_type": "execute_result"
    }
   ],
   "source": [
    "# Coal tweets by parliamentarians\n",
    "kp = Status.objects.filter(author__monitoring=True,text__icontains=\"Kohle\")\n",
    "kp.count()"
   ]
  },
  {
   "cell_type": "code",
   "execution_count": 5,
   "metadata": {
    "collapsed": false,
    "deletable": true,
    "editable": true
   },
   "outputs": [
    {
     "data": {
      "text/plain": [
       "842"
      ]
     },
     "execution_count": 5,
     "metadata": {},
     "output_type": "execute_result"
    }
   ],
   "source": [
    "# Replies to coal tweets by parliamentarians\n",
    "Status.objects.filter(in_reply_to_status__in=kp).count()"
   ]
  },
  {
   "cell_type": "code",
   "execution_count": 6,
   "metadata": {
    "collapsed": false,
    "deletable": true,
    "editable": true
   },
   "outputs": [
    {
     "data": {
      "text/plain": [
       "743"
      ]
     },
     "execution_count": 6,
     "metadata": {},
     "output_type": "execute_result"
    }
   ],
   "source": [
    "# Replies from non-parliamentarians to coal tweets by parliamentarians\n",
    "Status.objects.filter(in_reply_to_status__in=kp,author__monitoring=False).count()"
   ]
  },
  {
   "cell_type": "code",
   "execution_count": 7,
   "metadata": {
    "collapsed": false,
    "deletable": true,
    "editable": true
   },
   "outputs": [
    {
     "data": {
      "text/plain": [
       "116"
      ]
     },
     "execution_count": 7,
     "metadata": {},
     "output_type": "execute_result"
    }
   ],
   "source": [
    "# Coal tweets by parliamentarians that were retweeted \n",
    "kp.filter(retweeted_by__isnull=False).count()"
   ]
  },
  {
   "cell_type": "code",
   "execution_count": 8,
   "metadata": {
    "collapsed": false,
    "deletable": true,
    "editable": true
   },
   "outputs": [
    {
     "data": {
      "text/plain": [
       "789"
      ]
     },
     "execution_count": 8,
     "metadata": {},
     "output_type": "execute_result"
    }
   ],
   "source": [
    "# Coal tweets that were retweeted by parliamentarians\n",
    "statuses = Status.objects.filter(\n",
    "    retweeted_by__monitoring=True,\n",
    "    text__icontains=\"kohle\"\n",
    ")\n",
    "\n",
    "statuses.count()"
   ]
  },
  {
   "cell_type": "code",
   "execution_count": 9,
   "metadata": {
    "collapsed": false,
    "deletable": true,
    "editable": true
   },
   "outputs": [
    {
     "data": {
      "text/plain": [
       "<QuerySet [{'text': 'Auch ohne die 20 dreckigsten Kohlekraftwerke ist die deutsche Energieversorgung sicher und die Preise bleiben stabi… https://t.co/1l7lhZu0OB', 'n': 6}, {'text': 'Kohlestrom schadet. Der Gesundheit. Dem Klima. Dem Geldbeutel. Deswegen: Die dreckigsten Meiler direkt abschalten!… https://t.co/dvxML1DJZq', 'n': 6}, {'text': 'Die #Klimakrise wartet nicht. Wir müssen den #Kohleausstieg jetzt einleiten. Macht das deutlich und kommt mit uns a… https://t.co/2mHfkwVY3l', 'n': 6}, {'text': 'Es gibt in Deutschland mehr Erneuerbare-Energien-Unternehmen als Braunkohle-Beschäftigte. Und dennoch erlaubt die B… https://t.co/lMf0kjjCmH', 'n': 4}, {'text': 'Unser Vorstand solidarisiert sich mit #HambiBleibt. Jetzt gilt reden statt roden. Die #Kohlekommission kann nicht e… https://t.co/HIMBV0Ys9W', 'n': 4}, {'text': 'Worauf warten wir noch? \\n#Jamaica #Kohleausstieg https://t.co/mB3G1dOB4e', 'n': 4}, {'text': 'Dreckiger Kohlestrom im Überfluss blockiert die Erneuerbaren. Das zeigt eine Analyse. #Kohleausstieg #SaveThePlanet… https://t.co/bMA4HSOVcg', 'n': 4}, {'text': 'Gemeinsam auf der Straße für den Kohleausstieg!  Klima schützen, Kohle stoppen! #Kohleausstieg #StopKohle… https://t.co/7vemAnWbDu', 'n': 4}, {'text': '#Klima schützen - #Kohle stoppen Dafür gehen wir heute in Berlin auf die Straße. https://t.co/0JhFxeIBzF', 'n': 4}, {'text': 'Die polizeiliche Räumung des #HambacherForst|es zeigt, dass die Dinosaurier des Kohlezeitalters wie RWE in der Bund… https://t.co/7BwdA805St', 'n': 4}, {'text': 'Die Bäume im #HambacherForst sind 12.000 Jahre alt. Keine Räumung und Abholzung für das Geschäft mit der #Kohle. RW… https://t.co/pTU74fMxhq', 'n': 3}, {'text': 'Räumung am Boden in Oaktown im #HambacherForst durch @RWE_AG läuft #HambiBleibt #Kohleausstieg #RedenstattRoden https://t.co/xu0KC3JyZg', 'n': 3}, {'text': 'Zum Thema #Kohleausstieg von @Die_Gruenen - hier einmal die tatsächliche Stromproduktion heute um 17:00 Uhr in Deut… https://t.co/7zPXXCYrom', 'n': 3}, {'text': 'Die Klimakrise wartet nicht. Was die #Kohlekomission jetzt liefern muss: https://t.co/4aqLgxiSJT #stoppkohle', 'n': 3}, {'text': 'Wenn es mit dem #Klimawandel so weitergeht, können wir womöglich eh bald keine #Kohle-, #Gas- und #Atomkraft\\u200bwerke… https://t.co/hIT6qs0Bof', 'n': 3}, {'text': '#Kohleausstieg gestalten &amp; Modernisierung vorantreiben.\\nNeue Studie zum Strukturwandel im Kohlesektor:… https://t.co/Nbdanze5aw', 'n': 3}, {'text': '40 Konzerne, von Aldi bis Telekom, fordern den Kohleausstieg #Jamaika https://t.co/AYY18t6lzw', 'n': 3}, {'text': \"In Brandenburg schneit es schwarzen Schnee ❄❄❄ Der 'überraschende' Grund: die Braunkohle. Die #GroKo setzt bald die… https://t.co/B2SuYI0wkC\", 'n': 3}, {'text': 'Der #Kohleausstieg muss kommen. Er ist zwingend nötig zur Bekämpfung der #Klimakrise u.für die Einhaltung internati… https://t.co/wDnZLBG2x2', 'n': 3}, {'text': 'Vollständiger #Kohleausstieg in 2030 (Steinkohle und Braunkohle; Bergwerke, Tagebau und Kraftwerke) würde nur 6000-… https://t.co/ByNGrqjPGX', 'n': 2}, '...(remaining elements truncated)...']>"
      ]
     },
     "execution_count": 9,
     "metadata": {},
     "output_type": "execute_result"
    }
   ],
   "source": [
    "status_rts = statuses.annotate(\n",
    "    n=Count('retweeted_by__pk')\n",
    ")\n",
    "status_rts.order_by('-n').values('n','text')"
   ]
  },
  {
   "cell_type": "code",
   "execution_count": 10,
   "metadata": {
    "collapsed": false,
    "deletable": true,
    "editable": true
   },
   "outputs": [
    {
     "data": {
      "text/plain": [
       "'Nach #KMW -Hauptversammlung: Projekt Mainzer #Kohlekraftwerk endgültig beerdigt. http://t.co/Iplo3HUH'"
      ]
     },
     "execution_count": 10,
     "metadata": {},
     "output_type": "execute_result"
    }
   ],
   "source": [
    "statuses.first().text"
   ]
  },
  {
   "cell_type": "code",
   "execution_count": 11,
   "metadata": {
    "collapsed": false,
    "deletable": true,
    "editable": true
   },
   "outputs": [
    {
     "data": {
      "text/plain": [
       "<QuerySet [{'author__person__clean_name': 'Dr. Julia Verlinden', 'author__person__party__name': 'gruene', 'author__person__party__colour': '#64A12D', 'n': 376}, {'author__person__clean_name': 'Oliver Krischer', 'author__person__party__name': 'gruene', 'author__person__party__colour': '#64A12D', 'n': 365}, {'author__person__clean_name': 'Annalena Baerbock', 'author__person__party__name': 'gruene', 'author__person__party__colour': '#64A12D', 'n': 266}, {'author__person__clean_name': 'Lorenz Gösta Beutin', 'author__person__party__name': 'linke', 'author__person__party__colour': '#8C3473', 'n': 184}, {'author__person__clean_name': 'Hubertus Zdebel', 'author__person__party__name': 'linke', 'author__person__party__colour': '#8C3473', 'n': 117}, {'author__person__clean_name': 'Jürgen Trittin', 'author__person__party__name': 'gruene', 'author__person__party__colour': '#64A12D', 'n': 111}, {'author__person__clean_name': 'Stephan Kühn (Dresden)', 'author__person__party__name': 'gruene', 'author__person__party__colour': '#64A12D', 'n': 97}, {'author__person__clean_name': 'Britta Haßelmann', 'author__person__party__name': 'gruene', 'author__person__party__colour': '#64A12D', 'n': 95}, {'author__person__clean_name': 'Sabine Leidig', 'author__person__party__name': 'linke', 'author__person__party__colour': '#8C3473', 'n': 86}, {'author__person__clean_name': 'Lisa Badum', 'author__person__party__name': 'gruene', 'author__person__party__colour': '#64A12D', 'n': 65}, {'author__person__clean_name': 'Cem Özdemir', 'author__person__party__name': 'gruene', 'author__person__party__colour': '#64A12D', 'n': 63}, {'author__person__clean_name': 'Sylvia Kotting-Uhl', 'author__person__party__name': 'gruene', 'author__person__party__colour': '#64A12D', 'n': 63}, {'author__person__clean_name': 'Kai Gehring', 'author__person__party__name': 'gruene', 'author__person__party__colour': '#64A12D', 'n': 58}, {'author__person__clean_name': 'Katrin Göring-Eckardt', 'author__person__party__name': 'gruene', 'author__person__party__colour': '#64A12D', 'n': 56}, {'author__person__clean_name': 'Dr. Martin Neumann (Lausitz)', 'author__person__party__name': 'fdp', 'author__person__party__colour': '#FFED00', 'n': 41}, {'author__person__clean_name': 'Oliver Luksic', 'author__person__party__name': 'fdp', 'author__person__party__colour': '#FFED00', 'n': 40}, {'author__person__clean_name': 'Frank Schwabe', 'author__person__party__name': 'spd', 'author__person__party__colour': '#EB001F', 'n': 39}, {'author__person__clean_name': 'Christian Kühn (Tübingen)', 'author__person__party__name': 'gruene', 'author__person__party__colour': '#64A12D', 'n': 38}, {'author__person__clean_name': 'Sven Lehmann', 'author__person__party__name': 'gruene', 'author__person__party__colour': '#64A12D', 'n': 37}, {'author__person__clean_name': 'Norbert Müller (Potsdam)', 'author__person__party__name': 'linke', 'author__person__party__colour': '#8C3473', 'n': 37}, '...(remaining elements truncated)...']>"
      ]
     },
     "execution_count": 11,
     "metadata": {},
     "output_type": "execute_result"
    }
   ],
   "source": [
    "# Which parliamentarians tweet the most about coal\n",
    "\n",
    "byauth = kp.filter(author__person__isnull=False).values('author__person').annotate(\n",
    "    n = Count('pk')\n",
    ").order_by('-n').values(\n",
    "    'author__person__clean_name',\n",
    "    'author__person__party__name',\n",
    "    'author__person__party__colour',\n",
    "    'n')\n",
    "\n",
    "byauth"
   ]
  },
  {
   "cell_type": "code",
   "execution_count": 12,
   "metadata": {
    "collapsed": false,
    "deletable": true,
    "editable": true
   },
   "outputs": [
    {
     "data": {
      "text/html": [
       "<div>\n",
       "<style scoped>\n",
       "    .dataframe tbody tr th:only-of-type {\n",
       "        vertical-align: middle;\n",
       "    }\n",
       "\n",
       "    .dataframe tbody tr th {\n",
       "        vertical-align: top;\n",
       "    }\n",
       "\n",
       "    .dataframe thead th {\n",
       "        text-align: right;\n",
       "    }\n",
       "</style>\n",
       "<table border=\"1\" class=\"dataframe\">\n",
       "  <thead>\n",
       "    <tr style=\"text-align: right;\">\n",
       "      <th></th>\n",
       "      <th>col</th>\n",
       "      <th>party</th>\n",
       "      <th>person</th>\n",
       "      <th>tweets</th>\n",
       "    </tr>\n",
       "  </thead>\n",
       "  <tbody>\n",
       "    <tr>\n",
       "      <th>0</th>\n",
       "      <td>#64A12D</td>\n",
       "      <td>gruene</td>\n",
       "      <td>Dr. Julia Verlinden</td>\n",
       "      <td>376</td>\n",
       "    </tr>\n",
       "    <tr>\n",
       "      <th>1</th>\n",
       "      <td>#64A12D</td>\n",
       "      <td>gruene</td>\n",
       "      <td>Oliver Krischer</td>\n",
       "      <td>365</td>\n",
       "    </tr>\n",
       "    <tr>\n",
       "      <th>2</th>\n",
       "      <td>#64A12D</td>\n",
       "      <td>gruene</td>\n",
       "      <td>Annalena Baerbock</td>\n",
       "      <td>266</td>\n",
       "    </tr>\n",
       "    <tr>\n",
       "      <th>3</th>\n",
       "      <td>#8C3473</td>\n",
       "      <td>linke</td>\n",
       "      <td>Lorenz Gösta Beutin</td>\n",
       "      <td>184</td>\n",
       "    </tr>\n",
       "    <tr>\n",
       "      <th>4</th>\n",
       "      <td>#8C3473</td>\n",
       "      <td>linke</td>\n",
       "      <td>Hubertus Zdebel</td>\n",
       "      <td>117</td>\n",
       "    </tr>\n",
       "  </tbody>\n",
       "</table>\n",
       "</div>"
      ],
      "text/plain": [
       "       col   party               person  tweets\n",
       "0  #64A12D  gruene  Dr. Julia Verlinden     376\n",
       "1  #64A12D  gruene      Oliver Krischer     365\n",
       "2  #64A12D  gruene    Annalena Baerbock     266\n",
       "3  #8C3473   linke  Lorenz Gösta Beutin     184\n",
       "4  #8C3473   linke      Hubertus Zdebel     117"
      ]
     },
     "execution_count": 12,
     "metadata": {},
     "output_type": "execute_result"
    }
   ],
   "source": [
    "adf = pd.DataFrame.from_dict([\n",
    "    {\n",
    "        \"person\": x['author__person__clean_name'],\n",
    "        \"tweets\": x['n'],\n",
    "        \"party\": x['author__person__party__name'],\n",
    "        \"col\": x['author__person__party__colour']\n",
    "    } \n",
    "    for x in byauth\n",
    "])\n",
    "\n",
    "adf.head()"
   ]
  },
  {
   "cell_type": "code",
   "execution_count": 13,
   "metadata": {
    "collapsed": false,
    "deletable": true,
    "editable": true
   },
   "outputs": [
    {
     "data": {
      "text/html": [
       "<div>\n",
       "<style scoped>\n",
       "    .dataframe tbody tr th:only-of-type {\n",
       "        vertical-align: middle;\n",
       "    }\n",
       "\n",
       "    .dataframe tbody tr th {\n",
       "        vertical-align: top;\n",
       "    }\n",
       "\n",
       "    .dataframe thead th {\n",
       "        text-align: right;\n",
       "    }\n",
       "</style>\n",
       "<table border=\"1\" class=\"dataframe\">\n",
       "  <thead>\n",
       "    <tr style=\"text-align: right;\">\n",
       "      <th></th>\n",
       "      <th>col</th>\n",
       "      <th>party</th>\n",
       "      <th>person</th>\n",
       "      <th>tweets</th>\n",
       "    </tr>\n",
       "  </thead>\n",
       "  <tbody>\n",
       "    <tr>\n",
       "      <th>0</th>\n",
       "      <td>#64A12D</td>\n",
       "      <td>gruene</td>\n",
       "      <td>Dr. Julia Verlinden</td>\n",
       "      <td>376</td>\n",
       "    </tr>\n",
       "    <tr>\n",
       "      <th>1</th>\n",
       "      <td>#64A12D</td>\n",
       "      <td>gruene</td>\n",
       "      <td>Oliver Krischer</td>\n",
       "      <td>365</td>\n",
       "    </tr>\n",
       "    <tr>\n",
       "      <th>2</th>\n",
       "      <td>#64A12D</td>\n",
       "      <td>gruene</td>\n",
       "      <td>Annalena Baerbock</td>\n",
       "      <td>266</td>\n",
       "    </tr>\n",
       "    <tr>\n",
       "      <th>3</th>\n",
       "      <td>#8C3473</td>\n",
       "      <td>linke</td>\n",
       "      <td>Lorenz Gösta Beutin</td>\n",
       "      <td>184</td>\n",
       "    </tr>\n",
       "    <tr>\n",
       "      <th>4</th>\n",
       "      <td>#8C3473</td>\n",
       "      <td>linke</td>\n",
       "      <td>Hubertus Zdebel</td>\n",
       "      <td>117</td>\n",
       "    </tr>\n",
       "    <tr>\n",
       "      <th>5</th>\n",
       "      <td>#64A12D</td>\n",
       "      <td>gruene</td>\n",
       "      <td>Jürgen Trittin</td>\n",
       "      <td>111</td>\n",
       "    </tr>\n",
       "    <tr>\n",
       "      <th>6</th>\n",
       "      <td>#64A12D</td>\n",
       "      <td>gruene</td>\n",
       "      <td>Stephan Kühn (Dresden)</td>\n",
       "      <td>97</td>\n",
       "    </tr>\n",
       "    <tr>\n",
       "      <th>7</th>\n",
       "      <td>#64A12D</td>\n",
       "      <td>gruene</td>\n",
       "      <td>Britta Haßelmann</td>\n",
       "      <td>95</td>\n",
       "    </tr>\n",
       "    <tr>\n",
       "      <th>8</th>\n",
       "      <td>#8C3473</td>\n",
       "      <td>linke</td>\n",
       "      <td>Sabine Leidig</td>\n",
       "      <td>86</td>\n",
       "    </tr>\n",
       "    <tr>\n",
       "      <th>9</th>\n",
       "      <td>#64A12D</td>\n",
       "      <td>gruene</td>\n",
       "      <td>Lisa Badum</td>\n",
       "      <td>65</td>\n",
       "    </tr>\n",
       "    <tr>\n",
       "      <th>10</th>\n",
       "      <td>#64A12D</td>\n",
       "      <td>gruene</td>\n",
       "      <td>Sylvia Kotting-Uhl</td>\n",
       "      <td>63</td>\n",
       "    </tr>\n",
       "    <tr>\n",
       "      <th>11</th>\n",
       "      <td>#64A12D</td>\n",
       "      <td>gruene</td>\n",
       "      <td>Cem Özdemir</td>\n",
       "      <td>63</td>\n",
       "    </tr>\n",
       "    <tr>\n",
       "      <th>12</th>\n",
       "      <td>#64A12D</td>\n",
       "      <td>gruene</td>\n",
       "      <td>Kai Gehring</td>\n",
       "      <td>58</td>\n",
       "    </tr>\n",
       "    <tr>\n",
       "      <th>13</th>\n",
       "      <td>#64A12D</td>\n",
       "      <td>gruene</td>\n",
       "      <td>Katrin Göring-Eckardt</td>\n",
       "      <td>56</td>\n",
       "    </tr>\n",
       "    <tr>\n",
       "      <th>14</th>\n",
       "      <td>#FFED00</td>\n",
       "      <td>fdp</td>\n",
       "      <td>Dr. Martin Neumann (Lausitz)</td>\n",
       "      <td>41</td>\n",
       "    </tr>\n",
       "    <tr>\n",
       "      <th>15</th>\n",
       "      <td>#FFED00</td>\n",
       "      <td>fdp</td>\n",
       "      <td>Oliver Luksic</td>\n",
       "      <td>40</td>\n",
       "    </tr>\n",
       "    <tr>\n",
       "      <th>16</th>\n",
       "      <td>#EB001F</td>\n",
       "      <td>spd</td>\n",
       "      <td>Frank Schwabe</td>\n",
       "      <td>39</td>\n",
       "    </tr>\n",
       "    <tr>\n",
       "      <th>17</th>\n",
       "      <td>#64A12D</td>\n",
       "      <td>gruene</td>\n",
       "      <td>Christian Kühn (Tübingen)</td>\n",
       "      <td>38</td>\n",
       "    </tr>\n",
       "    <tr>\n",
       "      <th>18</th>\n",
       "      <td>#8C3473</td>\n",
       "      <td>linke</td>\n",
       "      <td>Norbert Müller (Potsdam)</td>\n",
       "      <td>37</td>\n",
       "    </tr>\n",
       "    <tr>\n",
       "      <th>19</th>\n",
       "      <td>#64A12D</td>\n",
       "      <td>gruene</td>\n",
       "      <td>Sven Lehmann</td>\n",
       "      <td>37</td>\n",
       "    </tr>\n",
       "    <tr>\n",
       "      <th>20</th>\n",
       "      <td>#64A12D</td>\n",
       "      <td>gruene</td>\n",
       "      <td>Monika Lazar</td>\n",
       "      <td>34</td>\n",
       "    </tr>\n",
       "    <tr>\n",
       "      <th>21</th>\n",
       "      <td>#64A12D</td>\n",
       "      <td>gruene</td>\n",
       "      <td>Katharina Dröge</td>\n",
       "      <td>34</td>\n",
       "    </tr>\n",
       "    <tr>\n",
       "      <th>22</th>\n",
       "      <td>#64A12D</td>\n",
       "      <td>gruene</td>\n",
       "      <td>Renate Künast</td>\n",
       "      <td>34</td>\n",
       "    </tr>\n",
       "    <tr>\n",
       "      <th>23</th>\n",
       "      <td>#8C3473</td>\n",
       "      <td>linke</td>\n",
       "      <td>Michel Brandt</td>\n",
       "      <td>33</td>\n",
       "    </tr>\n",
       "    <tr>\n",
       "      <th>24</th>\n",
       "      <td>#64A12D</td>\n",
       "      <td>gruene</td>\n",
       "      <td>Dr. Gerhard Schick</td>\n",
       "      <td>32</td>\n",
       "    </tr>\n",
       "    <tr>\n",
       "      <th>25</th>\n",
       "      <td>#64A12D</td>\n",
       "      <td>gruene</td>\n",
       "      <td>Dr. Wolfgang Strengmann-Kuhn</td>\n",
       "      <td>31</td>\n",
       "    </tr>\n",
       "    <tr>\n",
       "      <th>26</th>\n",
       "      <td>#64A12D</td>\n",
       "      <td>gruene</td>\n",
       "      <td>Steffi Lemke</td>\n",
       "      <td>29</td>\n",
       "    </tr>\n",
       "    <tr>\n",
       "      <th>27</th>\n",
       "      <td>#64A12D</td>\n",
       "      <td>gruene</td>\n",
       "      <td>Claudia Müller</td>\n",
       "      <td>27</td>\n",
       "    </tr>\n",
       "    <tr>\n",
       "      <th>28</th>\n",
       "      <td>#64A12D</td>\n",
       "      <td>gruene</td>\n",
       "      <td>Katja Dörner</td>\n",
       "      <td>27</td>\n",
       "    </tr>\n",
       "    <tr>\n",
       "      <th>29</th>\n",
       "      <td>#EB001F</td>\n",
       "      <td>spd</td>\n",
       "      <td>Ulrich Kelber</td>\n",
       "      <td>26</td>\n",
       "    </tr>\n",
       "    <tr>\n",
       "      <th>30</th>\n",
       "      <td>#64A12D</td>\n",
       "      <td>gruene</td>\n",
       "      <td>Sven-Christian Kindler</td>\n",
       "      <td>25</td>\n",
       "    </tr>\n",
       "    <tr>\n",
       "      <th>31</th>\n",
       "      <td>#64A12D</td>\n",
       "      <td>gruene</td>\n",
       "      <td>Lisa Paus</td>\n",
       "      <td>25</td>\n",
       "    </tr>\n",
       "    <tr>\n",
       "      <th>32</th>\n",
       "      <td>#64A12D</td>\n",
       "      <td>gruene</td>\n",
       "      <td>Uwe Kekeritz</td>\n",
       "      <td>24</td>\n",
       "    </tr>\n",
       "    <tr>\n",
       "      <th>33</th>\n",
       "      <td>#000000</td>\n",
       "      <td>cducsu</td>\n",
       "      <td>Thomas Bareiß</td>\n",
       "      <td>22</td>\n",
       "    </tr>\n",
       "    <tr>\n",
       "      <th>34</th>\n",
       "      <td>#8C3473</td>\n",
       "      <td>linke</td>\n",
       "      <td>Katja Kipping</td>\n",
       "      <td>22</td>\n",
       "    </tr>\n",
       "    <tr>\n",
       "      <th>35</th>\n",
       "      <td>#64A12D</td>\n",
       "      <td>gruene</td>\n",
       "      <td>Maria Klein-Schmeink</td>\n",
       "      <td>21</td>\n",
       "    </tr>\n",
       "    <tr>\n",
       "      <th>36</th>\n",
       "      <td>#EB001F</td>\n",
       "      <td>spd</td>\n",
       "      <td>Dr. Karl Lauterbach</td>\n",
       "      <td>19</td>\n",
       "    </tr>\n",
       "    <tr>\n",
       "      <th>37</th>\n",
       "      <td>#EB001F</td>\n",
       "      <td>spd</td>\n",
       "      <td>Rita Schwarzelühr-Sutter</td>\n",
       "      <td>18</td>\n",
       "    </tr>\n",
       "    <tr>\n",
       "      <th>38</th>\n",
       "      <td>#64A12D</td>\n",
       "      <td>gruene</td>\n",
       "      <td>Tabea Rößner</td>\n",
       "      <td>18</td>\n",
       "    </tr>\n",
       "    <tr>\n",
       "      <th>39</th>\n",
       "      <td>#FFED00</td>\n",
       "      <td>fdp</td>\n",
       "      <td>Torsten Herbst</td>\n",
       "      <td>17</td>\n",
       "    </tr>\n",
       "    <tr>\n",
       "      <th>40</th>\n",
       "      <td>#8C3473</td>\n",
       "      <td>linke</td>\n",
       "      <td>Caren Lay</td>\n",
       "      <td>17</td>\n",
       "    </tr>\n",
       "    <tr>\n",
       "      <th>41</th>\n",
       "      <td>#64A12D</td>\n",
       "      <td>gruene</td>\n",
       "      <td>Filiz Polat</td>\n",
       "      <td>16</td>\n",
       "    </tr>\n",
       "    <tr>\n",
       "      <th>42</th>\n",
       "      <td>#64A12D</td>\n",
       "      <td>gruene</td>\n",
       "      <td>Stefan Gelbhaar</td>\n",
       "      <td>16</td>\n",
       "    </tr>\n",
       "    <tr>\n",
       "      <th>43</th>\n",
       "      <td>#000000</td>\n",
       "      <td>cducsu</td>\n",
       "      <td>Peter Altmaier</td>\n",
       "      <td>16</td>\n",
       "    </tr>\n",
       "    <tr>\n",
       "      <th>44</th>\n",
       "      <td>#0095e0</td>\n",
       "      <td>afd</td>\n",
       "      <td>Stephan Brandner</td>\n",
       "      <td>16</td>\n",
       "    </tr>\n",
       "    <tr>\n",
       "      <th>45</th>\n",
       "      <td>#FFED00</td>\n",
       "      <td>fdp</td>\n",
       "      <td>Michael Theurer</td>\n",
       "      <td>15</td>\n",
       "    </tr>\n",
       "    <tr>\n",
       "      <th>46</th>\n",
       "      <td>#64A12D</td>\n",
       "      <td>gruene</td>\n",
       "      <td>Dr. Danyal Bayaz</td>\n",
       "      <td>15</td>\n",
       "    </tr>\n",
       "    <tr>\n",
       "      <th>47</th>\n",
       "      <td>#FFED00</td>\n",
       "      <td>fdp</td>\n",
       "      <td>Dr. Lukas Köhler</td>\n",
       "      <td>14</td>\n",
       "    </tr>\n",
       "    <tr>\n",
       "      <th>48</th>\n",
       "      <td>#64A12D</td>\n",
       "      <td>gruene</td>\n",
       "      <td>Harald Ebner</td>\n",
       "      <td>14</td>\n",
       "    </tr>\n",
       "    <tr>\n",
       "      <th>49</th>\n",
       "      <td>#FFED00</td>\n",
       "      <td>fdp</td>\n",
       "      <td>Dr. Christian Jung</td>\n",
       "      <td>13</td>\n",
       "    </tr>\n",
       "  </tbody>\n",
       "</table>\n",
       "</div>"
      ],
      "text/plain": [
       "        col   party                        person  tweets\n",
       "0   #64A12D  gruene           Dr. Julia Verlinden     376\n",
       "1   #64A12D  gruene               Oliver Krischer     365\n",
       "2   #64A12D  gruene             Annalena Baerbock     266\n",
       "3   #8C3473   linke           Lorenz Gösta Beutin     184\n",
       "4   #8C3473   linke               Hubertus Zdebel     117\n",
       "5   #64A12D  gruene                Jürgen Trittin     111\n",
       "6   #64A12D  gruene        Stephan Kühn (Dresden)      97\n",
       "7   #64A12D  gruene              Britta Haßelmann      95\n",
       "8   #8C3473   linke                 Sabine Leidig      86\n",
       "9   #64A12D  gruene                    Lisa Badum      65\n",
       "10  #64A12D  gruene            Sylvia Kotting-Uhl      63\n",
       "11  #64A12D  gruene                   Cem Özdemir      63\n",
       "12  #64A12D  gruene                   Kai Gehring      58\n",
       "13  #64A12D  gruene         Katrin Göring-Eckardt      56\n",
       "14  #FFED00     fdp  Dr. Martin Neumann (Lausitz)      41\n",
       "15  #FFED00     fdp                 Oliver Luksic      40\n",
       "16  #EB001F     spd                 Frank Schwabe      39\n",
       "17  #64A12D  gruene     Christian Kühn (Tübingen)      38\n",
       "18  #8C3473   linke      Norbert Müller (Potsdam)      37\n",
       "19  #64A12D  gruene                  Sven Lehmann      37\n",
       "20  #64A12D  gruene                  Monika Lazar      34\n",
       "21  #64A12D  gruene               Katharina Dröge      34\n",
       "22  #64A12D  gruene                 Renate Künast      34\n",
       "23  #8C3473   linke                 Michel Brandt      33\n",
       "24  #64A12D  gruene            Dr. Gerhard Schick      32\n",
       "25  #64A12D  gruene  Dr. Wolfgang Strengmann-Kuhn      31\n",
       "26  #64A12D  gruene                  Steffi Lemke      29\n",
       "27  #64A12D  gruene                Claudia Müller      27\n",
       "28  #64A12D  gruene                  Katja Dörner      27\n",
       "29  #EB001F     spd                 Ulrich Kelber      26\n",
       "30  #64A12D  gruene        Sven-Christian Kindler      25\n",
       "31  #64A12D  gruene                     Lisa Paus      25\n",
       "32  #64A12D  gruene                  Uwe Kekeritz      24\n",
       "33  #000000  cducsu                 Thomas Bareiß      22\n",
       "34  #8C3473   linke                 Katja Kipping      22\n",
       "35  #64A12D  gruene          Maria Klein-Schmeink      21\n",
       "36  #EB001F     spd           Dr. Karl Lauterbach      19\n",
       "37  #EB001F     spd      Rita Schwarzelühr-Sutter      18\n",
       "38  #64A12D  gruene                  Tabea Rößner      18\n",
       "39  #FFED00     fdp                Torsten Herbst      17\n",
       "40  #8C3473   linke                     Caren Lay      17\n",
       "41  #64A12D  gruene                   Filiz Polat      16\n",
       "42  #64A12D  gruene               Stefan Gelbhaar      16\n",
       "43  #000000  cducsu                Peter Altmaier      16\n",
       "44  #0095e0     afd              Stephan Brandner      16\n",
       "45  #FFED00     fdp               Michael Theurer      15\n",
       "46  #64A12D  gruene              Dr. Danyal Bayaz      15\n",
       "47  #FFED00     fdp              Dr. Lukas Köhler      14\n",
       "48  #64A12D  gruene                  Harald Ebner      14\n",
       "49  #FFED00     fdp            Dr. Christian Jung      13"
      ]
     },
     "execution_count": 13,
     "metadata": {},
     "output_type": "execute_result"
    }
   ],
   "source": [
    "adf.head(50)"
   ]
  },
  {
   "cell_type": "code",
   "execution_count": 23,
   "metadata": {
    "collapsed": false,
    "deletable": true,
    "editable": true
   },
   "outputs": [
    {
     "data": {
      "image/png": "[encoded data removed]",
      "text/plain": [
       "<matplotlib.figure.Figure at 0x7fe4de6524a8>"
      ]
     },
     "metadata": {},
     "output_type": "display_data"
    }
   ],
   "source": [
    "fig, ax = plt.subplots()\n",
    "\n",
    "pdf = adf.head(15)\n",
    "\n",
    "ax.bar(pdf.index,pdf['tweets'],color=pdf['col'],linewidth=1,edgecolor=\"grey\")\n",
    "ax.set_xticks(pdf.index)\n",
    "ax.set_xticklabels(pdf['person'])\n",
    "plt.xticks(rotation=45,ha=\"right\")\n",
    "#ax.tick_params(axis='x', rotation=45)\n",
    "\n",
    "plt.show()"
   ]
  },
  {
   "cell_type": "code",
   "execution_count": 24,
   "metadata": {
    "collapsed": false,
    "deletable": true,
    "editable": true
   },
   "outputs": [
    {
     "data": {
      "text/plain": [
       "<QuerySet [{'author__person__party__name': 'gruene', 'author__person__party__colour': '#64A12D', 'n': 2336}, {'author__person__party__name': 'linke', 'author__person__party__colour': '#8C3473', 'n': 653}, {'author__person__party__name': 'spd', 'author__person__party__colour': '#EB001F', 'n': 270}, {'author__person__party__name': 'fdp', 'author__person__party__colour': '#FFED00', 'n': 266}, {'author__person__party__name': 'cducsu', 'author__person__party__colour': '#000000', 'n': 153}, {'author__person__party__name': 'afd', 'author__person__party__colour': '#0095e0', 'n': 102}, {'author__person__party__name': 'parteilos', 'author__person__party__colour': None, 'n': 5}]>"
      ]
     },
     "execution_count": 24,
     "metadata": {},
     "output_type": "execute_result"
    }
   ],
   "source": [
    "# Which parliamentarians tweet the most about coal\n",
    "\n",
    "bypart = kp.filter(author__person__isnull=False).values('author__person__party').annotate(\n",
    "    n = Count('pk')\n",
    ").order_by('-n').values(\n",
    "    'author__person__party__name',\n",
    "    'author__person__party__colour',\n",
    "    'n')\n",
    "\n",
    "bypart"
   ]
  },
  {
   "cell_type": "code",
   "execution_count": 25,
   "metadata": {
    "collapsed": false,
    "deletable": true,
    "editable": true
   },
   "outputs": [
    {
     "data": {
      "image/png": "[encoded data removed]",
      "text/plain": [
       "<matplotlib.figure.Figure at 0x7fe4de5ba128>"
      ]
     },
     "metadata": {},
     "output_type": "display_data"
    }
   ],
   "source": [
    "for x in bypart:\n",
    "    if x['author__person__party__colour'] == None:\n",
    "        x['author__person__party__colour'] = \"white\"\n",
    "pdf = pd.DataFrame.from_dict([\n",
    "    {\n",
    "        \"tweets\": x['n'],\n",
    "        \"party\": x['author__person__party__name'],\n",
    "        \"col\": x['author__person__party__colour']\n",
    "    } \n",
    "    for x in bypart\n",
    "])\n",
    "\n",
    "fig, ax = plt.subplots()\n",
    "\n",
    "ax.bar(pdf.index,pdf['tweets'],color=pdf['col'],edgecolor=\"grey\")\n",
    "ax.set_xticks(pdf.index)\n",
    "ax.set_xticklabels(pdf['party'])\n",
    "\n",
    "plt.savefig('../plots/twitter/party_kohle_tweets.png')\n",
    "plt.show()"
   ]
  },
  {
   "cell_type": "code",
   "execution_count": 17,
   "metadata": {
    "collapsed": false,
    "deletable": true,
    "editable": true
   },
   "outputs": [
    {
     "data": {
      "text/plain": [
       "198"
      ]
     },
     "execution_count": 17,
     "metadata": {},
     "output_type": "execute_result"
    }
   ],
   "source": [
    "## Tweets that Lisa Badum (Grüne) sent in reply to others\n",
    "\n",
    "lb = pms.Person.objects.get(surname=\"Badum\")\n",
    "\n",
    "Status.objects.filter(\n",
    "    author__person=lb,\n",
    "    in_reply_to_status__isnull=False\n",
    ").count()\n"
   ]
  },
  {
   "cell_type": "code",
   "execution_count": 18,
   "metadata": {
    "collapsed": false,
    "deletable": true,
    "editable": true
   },
   "outputs": [
    {
     "data": {
      "text/plain": [
       "144"
      ]
     },
     "execution_count": 18,
     "metadata": {},
     "output_type": "execute_result"
    }
   ],
   "source": [
    "## Tweets (so far collected) sent in reply to Lisa Badum\n",
    "\n",
    "lb = pms.Person.objects.get(surname=\"Badum\")\n",
    "\n",
    "Status.objects.filter(\n",
    "    in_reply_to_status__author__person=lb\n",
    ").count()"
   ]
  },
  {
   "cell_type": "code",
   "execution_count": 19,
   "metadata": {
    "collapsed": false,
    "deletable": true,
    "editable": true
   },
   "outputs": [
    {
     "name": "stdout",
     "output_type": "stream",
     "text": [
      "14\n",
      "\n",
      "@badulrichmartha Ich habe großen Respekt für den Wiss. Dienst des BT, aber warum die Stilllegung von Kohlekraftwerk… https://t.co/y9jpTushdB\n",
      "@chrislange86 Es geht dabei um die Planungssicherheit und der Kohleausstieg wird sowieso natürlicherweise kommen (d… https://t.co/gatEAgooO5\n",
      "\n",
      "None\n",
      "@Edgar231 @GoeringEckardt Wer ohne Not Fakten gegen eine Kommission schafft die den Kohleausstieg gerade diskutiert… https://t.co/FIGNOiFJUB\n",
      "\n",
      "@badulrichmartha @GrueneBundestag @Tagesspiegel Der #Kohleausstieg ist enorm Wichtig und auch richtig. Jedoch könne… https://t.co/38VgKHct42\n",
      "@DerGerstenberg @GrueneBundestag @Tagesspiegel Wie kommst du auf Millionen?\n",
      "\n",
      "Wir reden über #Kohleausstieg. Währenddessen schlägt #NRW im #bundesrat vor, den Ausbau von #Windenergie weiter zu… https://t.co/oVJSlmG5O9\n",
      "In meinem Landkreis steht nur ein Windrad aus dem Jahr 1999. ich würde mich freuen welche dazuzubekommen aber leide… https://t.co/EpJ2FAXOid\n",
      "\n",
      "@badulrichmartha Danke, dass ihr da seid &amp; liebe Grüße aus Würzburg, von ca. 70 Menschen, die ebenfalls gegen Kohle… https://t.co/vIasX8yStt\n",
      "@DrummerCindy @EGwuerzburg @keinhektarmehr @GJ_Wuerzburg @GrueneWuerzburg Super ! 👍🤗\n",
      "\n",
      "Genau:\n",
      "1. Rodung für Kohleabbau nicht tolerierbar.\n",
      "2. Stärker kommunizieren dass #RWE der Schuldige.\n",
      "3. Polizeigewa… https://t.co/RPG2Gyi22e\n",
      "@news_rapha RWE und auch Merkel, die sich einschalten müsste!\n",
      "\n",
      "DLF: Braunkohle. \"Hambacher Forst steht symbolisch für die Klimakrise.“ Militante Klimaschützer greifen im Hambache… https://t.co/vM3cYG0Zkk\n",
      "@hstubner @igbce @HambiBleibt @RWE_AG Genau so ist es.\n",
      "\n",
      "@badulrichmartha Ich selbst habe als Verhandlungsführer in der GroKo mit Ex-Ministerin Hendricks die Kohlekommissio… https://t.co/32xHjZdLya\n",
      "@ArminLaschet Warum schlagen Sie dann eine Abstandsregelung vor? In Bayern ist die Windkraft so gut wie tot, warum kopieren Sie das?\n",
      "\n",
      "Die #COP24 in #Kattowice beginnt morgen. Gestern haben 36.000 für den #Kohleausstieg demonstriert. #Deutschland hat… https://t.co/YCGANZss9W\n",
      "Ja dafür bräuchten wir eine Weltgemeinschaft die sich gemeinsam ambitionierte Ziele steckt. Wenn einzelne Staaten w… https://t.co/SpC1IKwtSq\n",
      "\n",
      "Nicht nur Maina Talia vom Inselstaat #tuvalu, dem aufgrund des Klimawandels der Untergang droht, bestätigt mir: Men… https://t.co/ai2PsktISn\n",
      "Indien hat gerade seinen kohleausstieg beschlossen und China hat 57 gw an erneuerbaren letztes Jahr zugebaut, 50% d… https://t.co/U3py3BeKQ3\n",
      "\n",
      "@badulrichmartha Wir retten das Klima mit dem Kohleausstieg 😄 https://t.co/gymgcWkfhQ\n",
      "@BossBaxx Naja das eine lassen und das andere auch reduzieren. Kerosin muss natürlich endlich besteuert werden.\n",
      "\n",
      "@badulrichmartha Anstehende Rodungen sind f. d. kurzfristigen Fortgang d. Tagebaus erforderlich. Hambach-Kohle deck… https://t.co/ob5OHDTJvh\n",
      "@RWE_AG Es geht zuerst einmal um ein Moratorium für die Zeit der Kohlekommission.\n",
      "\n",
      "@badulrichmartha Es gibt das schöne Sprichwort wenn du mit einem Finger auf jemanden zeigst, weißen 4 Finger auf di… https://t.co/aw1As3n2tJ\n",
      "@CathrinRamelow Die Lösungen liegen doch vor: schmutzigste Kohlekraftwerke abschalten und die schrittweise Ersetzun… https://t.co/O9Rb5nx6PP\n",
      "\n",
      "@badulrichmartha @JoachimPfeiffer @CDU Die gleiche Sichtweise gilt ja für viele Umweltverbände. Gilt die Schlussfolgerung auch für die?\n",
      "@f_rtz @JoachimPfeiffer @CDU Sie stellen nicht in Frage, dass es nun einen Plan für den Kohleausstieg gibt der umge… https://t.co/KlhP0Shbic\n"
     ]
    }
   ],
   "source": [
    "## Tweets about coal that Lisa Badum (Grüne) sent in reply to others\n",
    "\n",
    "lb = pms.Person.objects.get(surname=\"Badum\")\n",
    "\n",
    "lbcoalreplies = Status.objects.filter(\n",
    "    author__person=lb,\n",
    "    in_reply_to_status__isnull=False,\n",
    "    text__icontains=\"kohle\"\n",
    ") | Status.objects.filter(\n",
    "    author__person=lb,\n",
    "    in_reply_to_status__isnull=False,\n",
    "    in_reply_to_status__text__icontains=\"kohle\"\n",
    ")\n",
    "\n",
    "print(lbcoalreplies.count())\n",
    "\n",
    "for s in lbcoalreplies:\n",
    "    print()\n",
    "    print(s.in_reply_to_status.text)\n",
    "    print(s.text)\n"
   ]
  },
  {
   "cell_type": "code",
   "execution_count": 20,
   "metadata": {
    "collapsed": false,
    "deletable": true,
    "editable": true
   },
   "outputs": [
    {
     "name": "stdout",
     "output_type": "stream",
     "text": [
      "45\n",
      "\n",
      "Sven - @SvenGoe\n",
      "@badulrichmartha @kohleprotest Das ist keine Kohlekommission sondern die \"Kommission für Wachstum, Strukturwandel u… https://t.co/TXTjxVaH8M\n",
      "\n",
      "Antonie Gad - @antonieschlecht\n",
      "@badulrichmartha und Infoflyer gegen Links, zur Aufklärung an Schulen, will NRW entwickeln. NRW ist richtig aktiv g… https://t.co/3DWemBSx2n\n",
      "\n",
      "Lisa Badum - @badulrichmartha\n",
      "In meinem Landkreis steht nur ein Windrad aus dem Jahr 1999. ich würde mich freuen welche dazuzubekommen aber leide… https://t.co/EpJ2FAXOid\n",
      "\n",
      "Jonas - @tunfux\n",
      "@badulrichmartha Kann sie das denn, nach dem nicht mal die kleinste Einheit #Kohlekommission rechtzeitig liefert?\n",
      "\n",
      "M🙃rte - @oOMorteOo\n",
      "@badulrichmartha @GrueneBundestag in zeiten einer postmodernen antiaufklärung kein wunder.\n",
      "zu dem thema findet kaum… https://t.co/0PA1kfk9GU\n",
      "\n",
      "Michael Wahl - @deutschermichl\n",
      "@badulrichmartha @ArminLaschet Das ist schon eher verbrecherisch.\n",
      "\n",
      "Hans - @hans_s_punkt\n",
      "@badulrichmartha @ArminLaschet Das ist ja als würde man AFD Politiker in Dokus zum 3. Reich zu Wort kommen lassen.… https://t.co/U4neZTdViw\n",
      "\n",
      "Joachim Heck - @JoachimHeck\n",
      "@badulrichmartha @ArminLaschet Das Thema der Zeit verfehlt.\n",
      "\n",
      "birgit linde - @birgit_linde\n",
      "@badulrichmartha @SPIEGELONLINE Ich wäre froh, hätte HH diese Abstandsregelung, danke für 625m knarrendes Ungetüm v… https://t.co/wlGqTtOefj\n",
      "\n",
      "Friesland - @SCHIETHUS\n",
      "@badulrichmartha @SPIEGELONLINE Lisa Badum Sprecherin für #Klimapolitik, MdB, B90/ #DieGrünen,… https://t.co/VjnSDSDOul\n",
      "\n",
      "Hans Andre Schmitz - @has977\n",
      "@badulrichmartha @SPIEGELONLINE Na die sinkende Zahl von Neuanlagen könnte ja auch an der sinkenden Akzeptanz der B… https://t.co/rAGUCPYuGg\n",
      "\n",
      "Arthur Bordramy - @ABordramy\n",
      "@badulrichmartha @SPIEGELONLINE Ich wäre ja dafür, die Abstandsregelung fallweise zu beseitigen. Und zwar dort, wo… https://t.co/NBIUEEldig\n",
      "\n",
      "Cindy Peter 💚🐝🌻 - @DrummerCindy\n",
      "@badulrichmartha Danke, dass ihr da seid &amp; liebe Grüße aus Würzburg, von ca. 70 Menschen, die ebenfalls gegen Kohle… https://t.co/vIasX8yStt\n",
      "\n",
      "Jim Panse - @Jim1panse\n",
      "@badulrichmartha @GoeringEckardt Bäume werden zu Kohle....guter Synergieeffekt....oder auf Neudeutsch: win-win-Situation\n",
      "\n",
      "Sebastian B. - @Shawnstein88\n",
      "@badulrichmartha @RWE_AG Da stellt sich die Frage, wo kommt der Strom weiter zuverlässig her, wenn Kohle und Atom v… https://t.co/xFoWCLd7jy\n",
      "\n",
      "Markus  Stüker - @markstueker\n",
      "@badulrichmartha @klimareport Leider wurde und wird der Ausstieg aus der Kohle noch immer noch konsequent durchgezo… https://t.co/pcP9Azni17\n",
      "\n",
      "Karl-Heinz Peeks - @peeks_karl\n",
      "@badulrichmartha Was tut ihre Partei außer Wälder für Kohle und einen privat finanzierten Park für eine Straßenbahn… https://t.co/R1D4FwEBOT\n",
      "\n",
      "Rentner - @Rentner19\n",
      "@badulrichmartha Es steigen nur die Länder aus der Kohle aus, die keine haben. Wir werden mit keiner Maßnahme eine… https://t.co/6g9W8FolQO\n",
      "\n",
      "BossBaxx - @BossBaxx\n",
      "@badulrichmartha Wir retten das Klima mit dem Kohleausstieg 😄 https://t.co/gymgcWkfhQ\n",
      "\n",
      "Christian Lange - @chrislange86\n",
      "@badulrichmartha Ich habe großen Respekt für den Wiss. Dienst des BT, aber warum die Stilllegung von Kohlekraftwerk… https://t.co/y9jpTushdB\n",
      "\n",
      "Tschabba - @Tschabba2\n",
      "@badulrichmartha @greenpeace_de Es wäre zu WÜNSCHEN, wenn sich die Regierung nicht schon wieder von der Kohle-Lobby… https://t.co/yvqdTlCjvm\n",
      "\n",
      "RWE AG - @RWE_AG\n",
      "@badulrichmartha Anstehende Rodungen sind f. d. kurzfristigen Fortgang d. Tagebaus erforderlich. Hambach-Kohle deck… https://t.co/ob5OHDTJvh\n",
      "\n",
      "Max_Mel - @Max_Mel1\n",
      "@badulrichmartha @AngelaMerkeICDU Neben der kohlekommission müssen wir den blick auf verkehr, speichertechnologien und industrie werfen\n",
      "\n",
      "FW Forchheim - @fwfo\n",
      "@badulrichmartha Noch überraschender: #Seehofer, #CSU ist die Ursache.\n",
      "\n",
      "#Klimawandel #Energiewende #Kohlekommission… https://t.co/uKQ0UrkYRA\n",
      "\n",
      "El Supremo - @The_ElSupremo\n",
      "@badulrichmartha @HambiBleibt Die Franzosen haben bestimmt Gründe gesucht. Der deutsche #Kohleausstieg liefert ihn.… https://t.co/F3ve5j3yjo\n",
      "\n",
      "Olaf Bandt (BUND) - @Olaf_Bandt\n",
      "@badulrichmartha @HambiBleibt Genau, Kohleaustieg bleibt Kampf.\n",
      "\n",
      "Dustin Curtis Goncz - @DGoncz\n",
      "@badulrichmartha @HambiBleibt Das man sich wünscht ihn zu erhalten es aber nicht kann.\n",
      "\n",
      "Michael Bloss - @michabl\n",
      "@badulrichmartha @HambiBleibt 👏👏👏 genau richtig!\n",
      "\n",
      "Luca Brunsch 🌍 - @LucaBrunsch\n",
      "@badulrichmartha @HambiBleibt wichtiger: sie hat vor allem ein Ausstiegsdatum genannt, und dieses Ausstiegsdatum (2… https://t.co/ABUorPFq9q\n",
      "\n",
      "Armin Laschet - @ArminLaschet\n",
      "@badulrichmartha Ich selbst habe als Verhandlungsführer in der GroKo mit Ex-Ministerin Hendricks die Kohlekommissio… https://t.co/32xHjZdLya\n",
      "\n",
      "Der_Gerstenberg🇪🇺 - @DerGerstenberg\n",
      "@badulrichmartha @GrueneBundestag @Tagesspiegel Der #Kohleausstieg ist enorm Wichtig und auch richtig. Jedoch könne… https://t.co/38VgKHct42\n",
      "\n",
      "Lisa Badum - @badulrichmartha\n",
      "Ja dafür bräuchten wir eine Weltgemeinschaft die sich gemeinsam ambitionierte Ziele steckt. Wenn einzelne Staaten w… https://t.co/SpC1IKwtSq\n",
      "\n",
      "Jo Wi - @jowimuenchen\n",
      "@badulrichmartha @GrueneBundestag @Tagesspiegel Was soll das sein? Radikaler Klimaschutz?\n",
      "\n",
      "Bernard - @embato3\n",
      "@badulrichmartha Das ist so schlimm, was Laschet und seine Sch-Koalition laufen lassen --und die \" Kohle- Kommissio… https://t.co/rnpKOaaT8B\n",
      "\n",
      "RWE AG - @RWE_AG\n",
      "@badulrichmartha Hier bildlich dargestellt, warum die Rodung dieses Jahr nicht noch einmal ausgesetzt werden kann: https://t.co/F3f7E1O7MW\n",
      "\n",
      "Felix Reitz - @f_rtz\n",
      "@badulrichmartha @JoachimPfeiffer @CDU Die gleiche Sichtweise gilt ja für viele Umweltverbände. Gilt die Schlussfolgerung auch für die?\n",
      "\n",
      "Philipp - @hysterixblog\n",
      "@badulrichmartha @JoachimPfeiffer @CDU Badum Tsssss.\n",
      "\n",
      "Mehr fällt mir dazu nicht ein.\n",
      "Sorry :&gt;\n",
      "\n",
      "Hain Blöd - @hain_blod\n",
      "@badulrichmartha @RWE_AG @ArminLaschet @BuirerFuerBuir Mit \"Yep Fest klingt gut\" meinst du bestimmt die Idee vom… https://t.co/HQMkg6cbNl\n",
      "\n",
      "Hain Blöd - @hain_blod\n",
      "@badulrichmartha @RWE_AG @ArminLaschet @BuirerFuerBuir Vielleicht sollten wir einfach anfangen die Siegesparty vorz… https://t.co/UyDH4ls0Iq\n",
      "\n",
      "Hain Blöd - @hain_blod\n",
      "@badulrichmartha @BuirerFuerBuir @RWE_AG @ArminLaschet Ich wünsche euch ganz viel Kraft und alles gute, für euch un… https://t.co/1XO6v9cHgw\n",
      "\n",
      "stef - @chamecko\n",
      "@badulrichmartha Das ist tatsächlich ein schwaches Ergebnis - ich hatte mir wesentlich mehr erhofft. 2038 ist eindeutig zu spät!\n",
      "\n",
      "Randy Rheindorf - @R_Rheindorf\n",
      "@badulrichmartha Das Klima endet nicht an der Grenze von #Deutschland! Die #Energiewende muss global angegangen &amp; d… https://t.co/OFRVvK3uA3\n",
      "\n",
      "(((Jörg Prante))) - @joergprante\n",
      "@badulrichmartha Richtig, 17 GW decken sich mit dem \"Pofalla-Vorschlag\", bei der die Kohle-Industrie nichts befürch… https://t.co/cDJtaczwRM\n",
      "\n",
      "Lisa Badum - @badulrichmartha\n",
      "Indien hat gerade seinen kohleausstieg beschlossen und China hat 57 gw an erneuerbaren letztes Jahr zugebaut, 50% d… https://t.co/U3py3BeKQ3\n",
      "\n",
      "Felix Reitz - @f_rtz\n",
      "@badulrichmartha @JoachimPfeiffer @CDU Der Punkt ist doch: Das ist kein Konsens, den alle mittragen. Das ist  eine… https://t.co/rE85xZOhtT\n"
     ]
    }
   ],
   "source": [
    "## replies about coal to Lisa Badum\n",
    "\n",
    "lb = pms.Person.objects.get(surname=\"Badum\")\n",
    "\n",
    "lbcoalreplies = Status.objects.filter(\n",
    "    in_reply_to_status__author__person=lb,\n",
    "    text__icontains=\"kohle\"\n",
    ") | Status.objects.filter(\n",
    "    in_reply_to_status__author__person=lb,\n",
    "    in_reply_to_status__text__icontains=\"kohle\"\n",
    ")\n",
    "\n",
    "print(lbcoalreplies.count())\n",
    "\n",
    "for s in lbcoalreplies:\n",
    "    print('')\n",
    "    print(s.author)\n",
    "    print(s.text)"
   ]
  }
 ],
 "metadata": {
  "kernelspec": {
   "display_name": "tmvenv_36",
   "language": "python",
   "name": "tmvenv_36"
  },
  "language_info": {
   "codemirror_mode": {
    "name": "ipython",
    "version": 3
   },
   "file_extension": ".py",
   "mimetype": "text/x-python",
   "name": "python",
   "nbconvert_exporter": "python",
   "pygments_lexer": "ipython3",
   "version": "3.6.6"
  }
 },
 "nbformat": 4,
 "nbformat_minor": 2
}
