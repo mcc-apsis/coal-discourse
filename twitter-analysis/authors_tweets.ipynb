{
 "cells": [
  {
   "cell_type": "code",
   "execution_count": 4,
   "metadata": {
    "collapsed": false,
    "deletable": true,
    "editable": true
   },
   "outputs": [],
   "source": [
    "import django\n",
    "import sys, os\n",
    "import pandas as pd\n",
    "import matplotlib.pyplot as plt\n",
    "from datetime import timedelta\n",
    "\n",
    "sys.path.append('/home/galm/software/django/tmv/BasicBrowser/')\n",
    "os.environ.setdefault(\"DJANGO_SETTINGS_MODULE\", \"BasicBrowser.settings\")\n",
    "django.setup()\n",
    "\n",
    "from twitter.models import *\n",
    "import parliament.models as pms\n",
    "import scoping.models as sms\n",
    "\n",
    "from django.db.models import Sum, Count\n",
    "from django.db.models.fields import DateField\n",
    "from django.db.models.functions import Cast\n",
    "import textwrap as tw\n",
    "import datetime\n",
    "p = sms.Project.objects.get(pk=134)"
   ]
  },
  {
   "cell_type": "code",
   "execution_count": 2,
   "metadata": {
    "collapsed": false,
    "deletable": true,
    "editable": true
   },
   "outputs": [
    {
     "name": "stdout",
     "output_type": "stream",
     "text": [
      "0 tweets from today\n"
     ]
    },
    {
     "data": {
      "text/plain": [
       "<QuerySet []>"
      ]
     },
     "execution_count": 2,
     "metadata": {},
     "output_type": "execute_result"
    }
   ],
   "source": [
    "# Todays tweets \n",
    "midnight = django.utils.timezone.make_aware(datetime.datetime.now().replace(hour=0,minute=0)) #- timedelta(days=5)\n",
    "tweets = Status.objects.filter(created_at__gt=midnight)\n",
    "print(f\"{tweets.count()} tweets from today\")\n",
    "\n",
    "tweets.values('searches__string').annotate(\n",
    "    n = Count('pk')\n",
    ")"
   ]
  },
  {
   "cell_type": "code",
   "execution_count": null,
   "metadata": {
    "collapsed": false,
    "deletable": true,
    "editable": true
   },
   "outputs": [],
   "source": []
  },
  {
   "cell_type": "code",
   "execution_count": 3,
   "metadata": {
    "collapsed": false,
    "deletable": true,
    "editable": true
   },
   "outputs": [
    {
     "data": {
      "text/plain": [
       "<QuerySet [{'author__screen_name': None, 'n': 59681}, {'author__screen_name': 'EskenSaskia', 'n': 18833}, {'author__screen_name': 'coal_perhaps', 'n': 15056}, {'author__screen_name': 'RenateKuenast', 'n': 13513}, {'author__screen_name': 'kahrs', 'n': 10584}, {'author__screen_name': 'MiRo_SPD', 'n': 9897}, {'author__screen_name': 'StBrandner', 'n': 8618}, {'author__screen_name': 'berlinliebich', 'n': 8495}, {'author__screen_name': 'UdoHemmelgarn', 'n': 7479}, {'author__screen_name': 'BriHasselmann', 'n': 6548}, {'author__screen_name': 'Frank_Pasemann', 'n': 6076}, {'author__screen_name': 'GruenClaudia', 'n': 5899}, {'author__screen_name': 'nicolabeerfdp', 'n': 5604}, {'author__screen_name': 'PetrBystronAfD', 'n': 5593}, {'author__screen_name': 'Nicole_Hoechst', 'n': 5400}, {'author__screen_name': 'Schneider_AfD', 'n': 5304}, {'author__screen_name': 'coal_sora', 'n': 5122}, {'author__screen_name': '3T_Profit_0_Co2', 'n': 4798}, {'author__screen_name': 'OlliLuksic', 'n': 4741}, {'author__screen_name': 'isyy_coal', 'n': 4631}, '...(remaining elements truncated)...']>"
      ]
     },
     "execution_count": 3,
     "metadata": {},
     "output_type": "execute_result"
    }
   ],
   "source": [
    "ustats = Status.objects.values('author__screen_name').annotate(\n",
    "    n = Count('pk')\n",
    ")\n",
    "\n",
    "ustats.order_by('-n')"
   ]
  },
  {
   "cell_type": "code",
   "execution_count": 4,
   "metadata": {
    "collapsed": false,
    "deletable": true,
    "editable": true
   },
   "outputs": [
    {
     "data": {
      "text/plain": [
       "<QuerySet [<Status: Status object (844580240227782656)>, <Status: Status object (708331773483229188)>, <Status: Status object (881261595392962562)>, <Status: Status object (881155952141053952)>, <Status: Status object (823830661802950657)>, <Status: Status object (708330412800675840)>, <Status: Status object (701155351446556672)>, <Status: Status object (634819816684187649)>, <Status: Status object (554355750924222464)>, <Status: Status object (516823763623870464)>, <Status: Status object (840521551095222274)>, <Status: Status object (920560622386991104)>, <Status: Status object (915565591997636609)>, <Status: Status object (905131007149580290)>, <Status: Status object (880074229009592321)>, <Status: Status object (880073502933606401)>, <Status: Status object (880072913411604480)>, <Status: Status object (880014916593360898)>, <Status: Status object (879436600261971969)>, <Status: Status object (865495801853747200)>, '...(remaining elements truncated)...']>"
      ]
     },
     "execution_count": 4,
     "metadata": {},
     "output_type": "execute_result"
    }
   ],
   "source": [
    "Status.objects.filter(author__screen_name=\"EskenSaskia\")\n",
    "\n",
    "# Compare API tweets with scraped tweets\n",
    "# build interface"
   ]
  },
  {
   "cell_type": "code",
   "execution_count": 5,
   "metadata": {
    "collapsed": false,
    "deletable": true,
    "editable": true
   },
   "outputs": [
    {
     "data": {
      "text/plain": [
       "<QuerySet [{'text': 'Claudia Roth hat in den letzten Tagen tausende Hassnachrichten von Rechten bekommen. \\n\\nJetzt anwortet sie mit persönlichen Erklärung. Und mit #LiebeStattHass. https://t.co/jsqExqPcjQ https://t.co/F2JBvsDLSQ', 'author__screen_name': 'GrueneBundestag', 'rts': 22}, {'text': '1⃣5⃣.0⃣0⃣0⃣ Follower - herzlichen Dank für Ihr reges Interesse an unserer Arbeit als Oppositionsführer im… https://t.co/QtGRqs8MKg', 'author__screen_name': 'AfDimBundestag', 'rts': 17}, {'text': '1,7 Milliarden #Überstunden vernichteten im Jahr 2016 eine Million Vollzeitstellen in Deutschland. Die Folge: Gesundheit, Familie und Privatleben bleiben auf der Strecke. Deshalb: Zeitsouveränität in die Hand der Beschäftigten! Es ist 1.MAIne Zeit! #TagderArbeit #1Mai https://t.co/Xk54H9uG7B', 'author__screen_name': 'Linksfraktion', 'rts': 16}, {'text': 'Die Tarn -Maske der Höcke-Gauland -Weidel AfD ist nach Chemnitz endgültig gefallen! Es sind Rechtsradikale , die sich mit Nazis mehr und mehr vermengen. Diese Mischung hat dieses Land und Europa schon einmal ins Verderben geführt.', 'author__screen_name': 'DeppendorfU', 'rts': 16}, {'text': 'Ihnen einen schönen Urlaub - und der Kellnerin einen guten Lohn! Wir wünschen allen eine schöne #Ferien-Zeit. Zeit für eine politische Pause gibt es aber nicht. Denn Viele können es sich keinen #Urlaub leisten. Daher fordern wir 12€ #Mindestlohn: https://t.co/lXaZv69Zbd https://t.co/Mb73HGgH2A', 'author__screen_name': 'Linksfraktion', 'rts': 15}, {'text': 'A. #Nahles: „Wir haben umfangreiche Verabredungen im Koalitionsvertrag zum Thema Migration und #Asyl. Dazu stehen wir. Wir fordern die Union auf, ihre internen Streitigkeiten zu beenden. Theaterstücke im Dienste von Landtagswahlen sind nicht angemessen.“', 'author__screen_name': 'spdbt', 'rts': 15}, {'text': 'Diese 5 Punkte haben wir heute in der Koalition vereinbart: https://t.co/BiBoGKsT4K', 'author__screen_name': 'spdde', 'rts': 15}, {'text': 'Männer und Frauen sind gleichberechtigt. Deshalb: 50/50 in die Politik.\\nDas fordern unsere Abgeordneten und debattieren jetzt bei #Weimar18 \\nwie wir Frauenrechte in Zeiten von #metoo und reaktionärem Backlash voranbringen\\n#Feminismus https://t.co/QQwDEURAAy', 'author__screen_name': 'GrueneBundestag', 'rts': 15}, {'text': 'Klare Kante von @MGrosseBroemer im Bundestag: Die schreckliche Straftat in #Chemnitz muss aufgeklärt und die Täter zur Rechenschaft gezogen werden. Und in Richtung AfD: \"Man marschiert nicht an der Seite des Rechtsextremismus, man bekämpft ihn!\" https://t.co/wNY2rtFJMW', 'author__screen_name': 'cducsubt', 'rts': 15}, {'text': 'Wir stehen zu einer humanitären Flüchtlingspolitik mit klaren Regeln. Unsere 5 Punkte für eine europäische Migrations- und Flüchtlingspolitik findet ihr hier: https://t.co/RgYtuWBnBs https://t.co/g08oqJBeUP', 'author__screen_name': 'spdde', 'rts': 15}, {'text': 'In 7 Tagen können wir uns aufregen, dass rechte Hetzer im Bundestag sitzen. Oder wir können diese 7 Tage nutzen, das zu verhindern.', 'author__screen_name': 'MartinSchulz', 'rts': 13}, {'text': 'Ähm, weil ihr es gemeinsam mit der @CSU jahrelang blockiert habt, liebe @CDU? https://t.co/PW1SpOjD37', 'author__screen_name': 'larsklingbeil', 'rts': 12}, {'text': 'Die @fdpbt trägt heute auch #Kippa. Das ist unser Zeichen für die Solidarität mit #Israel und gegen jede Form von #Antisemitismus. #berlinträgtkippa #bundestag #70JahreIsrael https://t.co/4lfqGqOknl', 'author__screen_name': 'fdpbt', 'rts': 12}, {'text': \"I was pleased to meet @KatjaKipping from Germany's @DieLinke party today.\\n\\nWe discussed how progressive parties and movements inside and outside the European Union can work together to end austerity and privatisation, and promote international peace. https://t.co/QSw0c2ZERN\", 'author__screen_name': 'jeremycorbyn', 'rts': 12}, {'text': 'Jedes 3. Kind in Deutschland lernt #Armut kennen, 2 Mio. von #HartzIV betroffen. #Kinderarmut = schlechtere Bildungschancen, Teilhabe &amp; Gesundheit. Deshalb: 328€ #Kindergeld, 573€ Grundsicherung/Kind, #Bildung gebührenfrei, #kostenlosesMittagessen in #Kita &amp; #Schule! #Kindertag https://t.co/akvuP4vFmi', 'author__screen_name': 'Linksfraktion', 'rts': 12}, {'text': 'Geschafft! Wir haben einen Neustart für stabile #Renten durchgesetzt. Das #Rentenpaket von @hubertus_heil geht Mittwoch ins Kabinett. Das Rentenniveau wird bis 2025 garantiert. Wir werden dafür kämpfen, diesen Weg auch über 2025 hinaus fortzusetzen. #SolidarischesLand https://t.co/pWmOdzzozd', 'author__screen_name': 'spdbt', 'rts': 12}, {'text': 'LIebe @fdp, wieso hat eure Grafik das Datum von Donnerstag als Dateinamen? Ach ja, das war der eigentlich letzte Tag der Sondierungen, richtig... Der Abbruch der Gespräche war aber wirklich noch nicht länger geplant, ne, @c_lindner?\\n#JamaikaAbbruch #Jamaika https://t.co/U5CTHpiEZ3', 'author__screen_name': 'akm0803', 'rts': 12}, {'text': 'Aufgrund von Überlastung fehlen schon jetzt an vielen Orten #Pflegekräfte – fast flächendeckend! Gute #Pflege ist unter diesen Bedingungen extrem schwer. In unserer #Pflegewoche fordern wir 50.000 zusätzliche Pflegekräfte in der Alten- &amp; Krankenpflege! #PflegeStärken https://t.co/8cgN9QQarx', 'author__screen_name': 'GrueneBundestag', 'rts': 12}, {'text': 'Weil die Wahl noch nicht entschieden ist: Spot retweeten &amp; Zweitstimme GRÜN! Für Umwelt und Gerechtigkeit. 👍💪🌻#NurmitGRÜN https://t.co/qnZj9e9vii', 'author__screen_name': 'Die_Gruenen', 'rts': 12}, {'text': '.@GrueneBundestag haben einen umfangreichen Fragenkatalog für die Fragestunde am kommenden Mittwoch vorgelegt. Von Horst #Seehofer fordern wir: Der sogenannte “Masterplan” muss auf den Tisch! https://t.co/HrSy0zT2B6 #CSU #Regierungskrise #Asylstreit', 'author__screen_name': 'GruenSprecher', 'rts': 12}, '...(remaining elements truncated)...']>"
      ]
     },
     "execution_count": 5,
     "metadata": {},
     "output_type": "execute_result"
    }
   ],
   "source": [
    "stats = Status.objects.annotate(\n",
    "    rts = Count('retweeted_by__id')\n",
    ").order_by('-rts')\n",
    "stats.values('rts','text','author__screen_name')"
   ]
  },
  {
   "cell_type": "code",
   "execution_count": 6,
   "metadata": {
    "collapsed": false,
    "deletable": true,
    "editable": true
   },
   "outputs": [
    {
     "name": "stdout",
     "output_type": "stream",
     "text": [
      "4614070 statuses by 1050613 users in database monitoring 690 accounts\n"
     ]
    }
   ],
   "source": [
    "all_users = User.objects.all().count()\n",
    "monitoring_users = User.objects.filter(monitoring=True).count()\n",
    "status_count = Status.objects.all().count()\n",
    "print(\"{} statuses by {} users in database monitoring {} accounts\".format(status_count, all_users, monitoring_users))"
   ]
  },
  {
   "cell_type": "code",
   "execution_count": 7,
   "metadata": {
    "collapsed": false,
    "deletable": true,
    "editable": true
   },
   "outputs": [
    {
     "data": {
      "text/plain": [
       "4324530"
      ]
     },
     "execution_count": 7,
     "metadata": {},
     "output_type": "execute_result"
    }
   ],
   "source": [
    "Status.objects.filter(api_got=True).count()"
   ]
  },
  {
   "cell_type": "code",
   "execution_count": 8,
   "metadata": {
    "collapsed": false,
    "deletable": true,
    "editable": true
   },
   "outputs": [
    {
     "name": "stdout",
     "output_type": "stream",
     "text": [
      "176,744 tweets for search: kohle\n"
     ]
    }
   ],
   "source": [
    "kk = TwitterSearch.objects.get(string=\"kohle\")\n",
    "print(f'{kk.status_set.all().count():,} tweets for search: {kk.string}')\n",
    "\n",
    "midnight = django.utils.timezone.make_aware(datetime.datetime.now().replace(hour=0,minute=0)) \n",
    "\n",
    "bimonth = midnight - timedelta(days=360)\n",
    "\n",
    "byday = kk.status_set.filter(created_at__gt=bimonth).annotate(\n",
    "    date_only=Cast('created_at', DateField())\n",
    ").values('date_only').annotate(\n",
    "    n = Count('pk')\n",
    ").order_by('date_only')\n",
    "\n"
   ]
  },
  {
   "cell_type": "code",
   "execution_count": null,
   "metadata": {
    "collapsed": true,
    "deletable": true,
    "editable": true
   },
   "outputs": [],
   "source": []
  },
  {
   "cell_type": "code",
   "execution_count": 9,
   "metadata": {
    "collapsed": false,
    "deletable": true,
    "editable": true
   },
   "outputs": [
    {
     "data": {
      "text/plain": [
       "<matplotlib.axes._subplots.AxesSubplot at 0x7ff45b1a9668>"
      ]
     },
     "execution_count": 9,
     "metadata": {},
     "output_type": "execute_result"
    },
    {
     "data": {
      "image/png": "[encoded data removed]",
      "text/plain": [
       "<matplotlib.figure.Figure at 0x7ff4af07bfd0>"
      ]
     },
     "metadata": {},
     "output_type": "display_data"
    }
   ],
   "source": [
    "df = pd.DataFrame.from_dict(list(byday))\n",
    "\n",
    "df.head()\n",
    "\n",
    "df['date_only'] = pd.to_datetime(df['date_only'])\n",
    "\n",
    "df.plot('date_only','n', style=\".\")"
   ]
  },
  {
   "cell_type": "code",
   "execution_count": 10,
   "metadata": {
    "collapsed": false,
    "deletable": true,
    "editable": true
   },
   "outputs": [
    {
     "data": {
      "text/plain": [
       "<matplotlib.axes._subplots.AxesSubplot at 0x7ff45afcf470>"
      ]
     },
     "execution_count": 10,
     "metadata": {},
     "output_type": "execute_result"
    },
    {
     "data": {
      "image/png": "[encoded data removed]",
      "text/plain": [
       "<matplotlib.figure.Figure at 0x7ff45af8a978>"
      ]
     },
     "metadata": {},
     "output_type": "display_data"
    }
   ],
   "source": [
    "pp_coal = Status.objects.filter(author__monitoring=True,text__icontains=\"Kohle\").annotate(\n",
    "    date_only=Cast('created_at', DateField())\n",
    ").values('date_only').annotate(\n",
    "    n = Count('pk')\n",
    ").order_by('date_only')\n",
    "\n",
    "df = pd.DataFrame.from_dict(list(pp_coal))\n",
    "\n",
    "df.head()\n",
    "\n",
    "df['date_only'] = pd.to_datetime(df['date_only'])\n",
    "\n",
    "df.plot('date_only','n', style=\".\")\n"
   ]
  },
  {
   "cell_type": "code",
   "execution_count": 58,
   "metadata": {
    "collapsed": false,
    "deletable": true,
    "editable": true,
    "scrolled": false
   },
   "outputs": [
    {
     "name": "stdout",
     "output_type": "stream",
     "text": [
      "#ZDF #Zoom mit Report über Irsinn von Kohle-Import nach Deutschland. Etwas spät. Für deutschen Bergbau ist der Zug 2018 abgefahren. #kohle\n",
      "KaczmarekOliver\n",
      "\n",
      "RT @j_uekermann: Rückt die Kohle raus – BAföG-Reform muss kommen! - http://t.co/yGWLGQwAS9\n",
      "KaczmarekOliver\n",
      "\n",
      "#Kohlekommission tagt heute. In der entscheidenden Sitzung wird über unsere Zukunft entschIeden! Denkt an die Gener… https://t.co/fdUhoDfu4P\n",
      "HildeMattheis\n",
      "\n",
      "Heute Kohlekraftwerk in Bergkamen besucht. Wäre gut, wenn alle, die darüber sprechen, mal eins von innen sehen.\n",
      "KaczmarekOliver\n",
      "\n",
      "#endegelaende #dielinke für systemwandel, gegen klimawandel: Kohle stoppen! mit dem roten Finger https://t.co/0d44dAJ38D\n",
      "SabineLeidig\n",
      "\n",
      "Größte Blockade: Internationale KlimaaktivistInnen besetzen zu Tausenden Kohlegrube. https://t.co/RohpODe1uE #endcoal #endegelaende\n",
      "SabineLeidig\n",
      "\n",
      "ROTE LINIE GEGEN KOHLE. Klima schützen. Kohle stoppen. Demo am 04.11.17 gg. UN-#Klimakonferenz in #Bonn… https://t.co/0KhEtn7X5Z\n",
      "SabineLeidig\n",
      "\n",
      "RT @Linksfraktion: Auf dem Weg nach #Bonn zur @COP23Demo - für #Kohleausstieg &amp; #Klimagerechtigkeit. Kommt auch! Heute, 12 Uhr, Münsterplat…\n",
      "SabineLeidig\n",
      "\n",
      "Dieses Wochenede in Bonn: Rote Linie gegen Kohle. #Klima schützen. #Kohle stoppen. https://t.co/Hv7kV7Ouwi… https://t.co/OhZfmcBCk3\n",
      "SabineLeidig\n",
      "\n",
      "Rote Linie gegen Kohle. Demonstration zur #Klimakonferenz in Bonn. klimaschonende Anreise: https://t.co/dq2afHOdxb… https://t.co/ow2ZwcSiMy\n",
      "SabineLeidig\n",
      "\n"
     ]
    }
   ],
   "source": [
    "for t in kk.status_set.filter(author__monitoring=True)[:10]:\n",
    "    print(t.text)\n",
    "    print(t.author.screen_name)\n",
    "    print()"
   ]
  },
  {
   "cell_type": "code",
   "execution_count": 59,
   "metadata": {
    "collapsed": false,
    "deletable": true,
    "editable": true
   },
   "outputs": [
    {
     "name": "stdout",
     "output_type": "stream",
     "text": [
      "{'text': 'Possini Kohle Ball Swing Arm Plug-In Wall Lamp only $99.95 https://t.co/dKCOP5xX8s'}\n",
      "\n",
      "{'text': 'was soll denn pofalla da? ist die deutsch bahn an den fliessbändern beteiligt, mit denen abraum und kohle von den b… https://t.co/CIqSU7la1A'}\n",
      "\n",
      "{'text': '@zufallszahl @jensurban1 Sagen wir mal so: Kohle kostet bereits im Normalbetrieb sehr viel mehr Menschenleben als K… https://t.co/AR9dXE1sLj'}\n",
      "\n",
      "{'text': '@SonnykissJay @PowerSpiky Jared hat genug Kohle. 😂 Echt ein Autogramm Tattoo ? Cool.'}\n",
      "\n",
      "{'text': 'Lilly trennt sich von Boris?  Scheisse wenn man keine Kohle mehr hat.....'}\n",
      "\n",
      "{'text': 'Grill Outdoorchef Easy Charcoal 480 - Kugelgrill Kohle - NEU https://t.co/wd3tfsBVzp'}\n",
      "\n",
      "{'text': '@ShannonLetoGER @PowerSpiky Mit Sicherheit haben sie es nicht so nötig,aber Kohle bleibt Kohle,nä😉😂'}\n",
      "\n",
      "{'text': 'Überall noch Kohle @BravaQuattro #bravaquattro #lbms #leberwurstbrotmitsenf @ChristinaNonis https://t.co/u1qbGhxlGT'}\n",
      "\n",
      "{'text': 'Deutschland darf seine Klimaschutzziele nicht aufgeben, muss aus der #Kohle aussteigen. Uns läuft die Zeit davon. J… https://t.co/RC6XBE3UIY'}\n",
      "\n",
      "{'text': '@BulletMC1 @SerixuZ89 @AllsTaR__xX @trooooniic237 @SephirothCOD Es ist heutzutage so einfach an Kohle zu kommen! Da… https://t.co/deTYvtEOXa'}\n",
      "\n"
     ]
    }
   ],
   "source": [
    "for t in kk.status_set.values('text')[:10]:\n",
    "    print(t)\n",
    "    print()"
   ]
  },
  {
   "cell_type": "code",
   "execution_count": 60,
   "metadata": {
    "collapsed": false,
    "deletable": true,
    "editable": true
   },
   "outputs": [
    {
     "data": {
      "text/plain": [
       "<matplotlib.axes._subplots.AxesSubplot at 0x7f93231c1160>"
      ]
     },
     "execution_count": 60,
     "metadata": {},
     "output_type": "execute_result"
    },
    {
     "data": {
      "image/png": "[encoded data removed]",
      "text/plain": [
       "<matplotlib.figure.Figure at 0x7f9326422400>"
      ]
     },
     "metadata": {},
     "output_type": "display_data"
    }
   ],
   "source": [
    "byday = Status.objects.filter(author__monitoring=True).annotate(\n",
    "    date_only=Cast('created_at', DateField())\n",
    ").values('date_only').annotate(\n",
    "    n = Count('pk')\n",
    ").order_by('date_only')\n",
    "\n",
    "df = pd.DataFrame.from_dict(list(byday))\n",
    "\n",
    "df.head()\n",
    "\n",
    "df['date_only'] = pd.to_datetime(df['date_only'])\n",
    "\n",
    "df.plot('date_only','n', style=\".\")"
   ]
  },
  {
   "cell_type": "code",
   "execution_count": 7,
   "metadata": {
    "collapsed": false,
    "deletable": true,
    "editable": true
   },
   "outputs": [
    {
     "data": {
      "text/plain": [
       "1128525"
      ]
     },
     "execution_count": 7,
     "metadata": {},
     "output_type": "execute_result"
    }
   ],
   "source": [
    "Status.objects.filter(text__icontains=\"…\").count()"
   ]
  },
  {
   "cell_type": "code",
   "execution_count": 5,
   "metadata": {
    "collapsed": false,
    "deletable": true,
    "editable": true
   },
   "outputs": [
    {
     "name": "stdout",
     "output_type": "stream",
     "text": [
      "coal\n",
      "220217\n",
      "1622139\n",
      "@badulrichmartha\n",
      "1231\n",
      "94\n",
      "kohle\n",
      "182607\n",
      "38321\n",
      "Kohlekommission\n",
      "32455\n",
      "5060\n"
     ]
    }
   ],
   "source": [
    "Through = Status.searches.through\n",
    "reassign=True\n",
    "if reassign:\n",
    "    for ts in TwitterSearch.objects.filter(project=p):\n",
    "        print(ts.string)\n",
    "        print(ts.status_set.count())\n",
    "        #ts.status_set.clear()\n",
    "        tweets = Status.objects.filter(text__icontains=ts.string).exclude(searches=ts)\n",
    "        #tts = [Through(status=t,twittersearch=ts) for t in tweets]\n",
    "        #Through.objects.bulk_create(tts)\n",
    "        print(tweets.count())\n",
    "    "
   ]
  },
  {
   "cell_type": "code",
   "execution_count": 62,
   "metadata": {
    "collapsed": false,
    "deletable": true,
    "editable": true
   },
   "outputs": [
    {
     "data": {
      "text/plain": [
       "<matplotlib.figure.Figure at 0x7f9325df0278>"
      ]
     },
     "metadata": {},
     "output_type": "display_data"
    },
    {
     "data": {
      "image/png": "[encoded data removed]",
      "text/plain": [
       "<matplotlib.figure.Figure at 0x7f9331cd64e0>"
      ]
     },
     "metadata": {},
     "output_type": "display_data"
    }
   ],
   "source": [
    "plt.close()\n",
    "fig = plt.figure(figsize=(12,12))\n",
    "\n",
    "searches = TwitterSearch.objects.all()\n",
    "\n",
    "fig, axs = plt.subplots(searches.count(),2,figsize=(8,8))\n",
    "\n",
    "for i, ts in enumerate(TwitterSearch.objects.all()):\n",
    "    byday = ts.status_set.all().annotate(\n",
    "        date_only=Cast('created_at', DateField())\n",
    "    ).values('date_only').annotate(\n",
    "        n = Count('pk')\n",
    "    ).order_by('date_only')\n",
    "\n",
    "    df = pd.DataFrame.from_dict(list(byday))\n",
    "    df['date_only'] = pd.to_datetime(df['date_only'])\n",
    "\n",
    "    #if i > 1:\n",
    "    #    ax = fig.add_subplot(1,2,i+1,sharex=ax)\n",
    "    #else:\n",
    "    #    ax = fig.add_subplot(1,2,i+1)\n",
    "    #\n",
    "    \n",
    "    ax = axs[i,0]\n",
    "    ax.set_title(ts.string)\n",
    "    \n",
    "    df.plot('date_only','n', style=\".\",colormap='Paired', ax = ax)\n",
    "\n",
    "    continue \n",
    "    \n",
    "    # This way of counting up hashtags is way too slow\n",
    "    hts = []\n",
    "    for s in ts.status_set.filter(entities__hashtags__iregex='\\w'):\n",
    "        for hashtag in s.entities['hashtags']:\n",
    "            try:\n",
    "                ht = [x for x in hts if x['text']==hashtag['text']][0]\n",
    "                ht['count']+=1\n",
    "            except:\n",
    "                ht = {\"text\": hashtag[\"text\"], \"count\": 1}\n",
    "                hts.append(ht) \n",
    "    \n",
    "    #print(ht_df.sort_values('count',ascending=False).head(20))\n",
    "    ax = axs[i,1]\n",
    "    ht_df = df.from_dict(hts)\n",
    "    ht_df = ht_df.sort_values('count',ascending=False).head(10)\n",
    "    ht_df.plot.bar('text','count',colormap='Paired',ax = ax)\n",
    "    labels = ax.get_xticklabels()\n",
    "    ax.set_xticklabels(labels,rotation=40,ha=\"right\")\n",
    "    \n",
    "fig.tight_layout()\n",
    "plt.show()"
   ]
  },
  {
   "cell_type": "code",
   "execution_count": 15,
   "metadata": {
    "collapsed": false,
    "deletable": true,
    "editable": true
   },
   "outputs": [
    {
     "data": {
      "text/plain": [
       "<a list of 6 Text xticklabel objects>"
      ]
     },
     "execution_count": 15,
     "metadata": {},
     "output_type": "execute_result"
    }
   ],
   "source": [
    "ax.get_xticklabels()"
   ]
  },
  {
   "cell_type": "code",
   "execution_count": null,
   "metadata": {
    "collapsed": false,
    "deletable": true,
    "editable": true
   },
   "outputs": [
    {
     "name": "stdout",
     "output_type": "stream",
     "text": [
      "CDUCSU\n",
      "SPD\n",
      "LINKE\n"
     ]
    }
   ],
   "source": [
    "plt.close()\n",
    "fig = plt.figure(figsize=(18,24))\n",
    "\n",
    "searches = TwitterSearch.objects.all()\n",
    "\n",
    "parties = pms.Party.objects.filter(name__in=['cducsu','spd','linke','fdp','afd','gruene'])\n",
    "\n",
    "fig, axs = plt.subplots(4,parties.count(),figsize=(18,12), sharey='row')\n",
    "\n",
    "for i, party in enumerate(parties):\n",
    "    \n",
    "    users = User.objects.filter(person__party=party)\n",
    "    \n",
    "    statuses = Status.objects.filter(\n",
    "        author__person__party=party\n",
    "    )\n",
    "    print(party)\n",
    "    byday = statuses.annotate(\n",
    "        date_only=Cast('created_at', DateField())\n",
    "    ).values('date_only').annotate(\n",
    "        n = Count('pk'),\n",
    "        rts = Sum('retweets_count')\n",
    "    ).order_by('date_only')\n",
    "\n",
    "    df = pd.DataFrame.from_dict(list(byday))\n",
    "    df['date_only'] = pd.to_datetime(df['date_only'])\n",
    "    \n",
    "    ax = axs[0,i]\n",
    "    ax.set_title(f\"{party.name} - {users.count()} tweeters\")\n",
    "    ax.xaxis.label.set_visible(False)\n",
    "    ax.yaxis.label.set_visible(False)\n",
    "    \n",
    "    df.plot('date_only','n', style=\".\",colormap='Paired', ax = ax)\n",
    "    \n",
    "    ax = axs[1,i]\n",
    "    ax.xaxis.label.set_visible(False)\n",
    "    ax.yaxis.label.set_visible(False)\n",
    "    \n",
    "    df.plot('date_only','rts', style=\".\",colormap='Paired', ax = ax)\n",
    "\n",
    "    hts = []\n",
    "    for s in statuses.filter(entities__hashtags__iregex='\\w'):\n",
    "        for hashtag in s.entities['hashtags']:\n",
    "            try:\n",
    "                ht = [x for x in hts if x['text']==hashtag['text']][0]\n",
    "                ht['count']+=1\n",
    "            except:\n",
    "                ht = {\"text\": hashtag[\"text\"], \"count\": 1}\n",
    "                hts.append(ht) \n",
    "    \n",
    "    #print(ht_df.sort_values('count',ascending=False).head(20))\n",
    "    ax = axs[2,i]\n",
    "    ax.xaxis.label.set_visible(False)\n",
    "    ax.yaxis.label.set_visible(False)\n",
    "    ht_df = df.from_dict(hts)\n",
    "    ht_df = ht_df.sort_values('count',ascending=False).head(10)\n",
    "    ht_df.plot.bar('text','count',colormap='Paired',ax = ax)\n",
    "    labels = ax.get_xticklabels()\n",
    "    ax.set_xticklabels(labels,rotation=40,ha=\"right\")\n",
    "    ax.set_title(f\"{party.name} - most used hashtags\")\n",
    "    \n",
    "    most_retweeted = statuses.order_by('-retweets_count').first()\n",
    "    ax = axs[3,i]\n",
    "    ax.text(\n",
    "        0.5,\n",
    "        0.9,\n",
    "        tw.fill(tw.dedent(most_retweeted.author.person.__str__()),width=40),\n",
    "        ha=\"center\",\n",
    "        va=\"top\"\n",
    "    )\n",
    "    ax.text(\n",
    "        0.5,\n",
    "        0.75,\n",
    "        tw.fill(tw.dedent(f\"retweeted {most_retweeted.retweets_count} times\"),width=40),\n",
    "        ha=\"center\",\n",
    "        va=\"top\"\n",
    "    )\n",
    "    ax.text(\n",
    "        0.5,\n",
    "        0.6,\n",
    "        tw.fill(tw.dedent(most_retweeted.text),width=40),\n",
    "        ha=\"center\",\n",
    "        va=\"top\"\n",
    "    )\n",
    "    ax.grid(False)\n",
    "    ax.axis('off')\n",
    "    \n",
    "    \n",
    "fig.tight_layout()\n",
    "plt.show()"
   ]
  },
  {
   "cell_type": "code",
   "execution_count": null,
   "metadata": {
    "collapsed": false,
    "deletable": true,
    "editable": true
   },
   "outputs": [],
   "source": [
    "parties = pms.Party.objects.filter(name__in=['cducsu','spd','linke','fdp','afd','gruene'])\n",
    "party = parties.first()\n",
    "statuses = Status.objects.filter(\n",
    "    author__person__party=party,\n",
    "    entities__hashtags__iregex='\\w'\n",
    ")[:1000]\n",
    "\n",
    "ss = statuses.annotate(\n",
    "    \n",
    ")\n",
    "\n",
    "hts = statuses.values('entities__hashtags__text').annotate(\n",
    "    n = Count('pk')\n",
    ")\n",
    "\n",
    "#hts\n"
   ]
  },
  {
   "cell_type": "code",
   "execution_count": null,
   "metadata": {
    "collapsed": false,
    "deletable": true,
    "editable": true
   },
   "outputs": [],
   "source": [
    "hts"
   ]
  },
  {
   "cell_type": "code",
   "execution_count": null,
   "metadata": {
    "collapsed": false,
    "deletable": true,
    "editable": true
   },
   "outputs": [],
   "source": [
    "hts = []\n",
    "for s in statuses.filter(entities__hashtags__iregex='\\w'):\n",
    "    for hashtag in s.entities['hashtags']:\n",
    "        try:\n",
    "            ht = [x for x in hts if x['text']==hashtag['text']][0]\n",
    "            ht['count']+=1\n",
    "        except:\n",
    "            ht = {\"text\": hashtag[\"text\"], \"count\": 1}\n",
    "            hts.append(ht) "
   ]
  },
  {
   "cell_type": "code",
   "execution_count": null,
   "metadata": {
    "collapsed": false,
    "deletable": true,
    "editable": true
   },
   "outputs": [],
   "source": []
  }
 ],
 "metadata": {
  "kernelspec": {
   "display_name": "tmvenv_36",
   "language": "python",
   "name": "tmvenv_36"
  },
  "language_info": {
   "codemirror_mode": {
    "name": "ipython",
    "version": 3
   },
   "file_extension": ".py",
   "mimetype": "text/x-python",
   "name": "python",
   "nbconvert_exporter": "python",
   "pygments_lexer": "ipython3",
   "version": "3.6.6"
  }
 },
 "nbformat": 4,
 "nbformat_minor": 2
}
