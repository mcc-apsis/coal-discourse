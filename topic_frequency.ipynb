{
 "cells": [
  {
   "cell_type": "code",
   "execution_count": 1,
   "metadata": {
    "collapsed": true,
    "deletable": true,
    "editable": true
   },
   "outputs": [],
   "source": [
    "import matplotlib.pylab as plt\n",
    "import numpy as np\n",
    "import pandas as pd\n",
    "import time\n",
    "import sys\n",
    "import os\n",
    "\n",
    "import seaborn as sns\n",
    "import gensim \n",
    "from collections import Counter\n",
    "from operator import itemgetter"
   ]
  },
  {
   "cell_type": "code",
   "execution_count": 2,
   "metadata": {
    "collapsed": true,
    "deletable": true,
    "editable": true
   },
   "outputs": [],
   "source": [
    "import django\n",
    "import platform\n",
    "\n",
    "if platform.node() == \"mcc-apsis\":\n",
    "    sys.path.append('/home/leey/tmv/BasicBrowser/')\n",
    "else:\n",
    "    # local paths\n",
    "    sys.path.append('/Documents/Data/tmv/BasicBrowser/')\n",
    "\n",
    "os.environ.setdefault(\"DJANGO_SETTINGS_MODULE\", \"BasicBrowser.settings\")\n",
    "django.setup()\n",
    "\n",
    "# import from appended path\n",
    "import parliament.models as pm\n",
    "from parliament.tasks import do_search, run_tm\n",
    "import cities.models as cmodels\n",
    "from django.contrib.auth.models import User\n",
    "from tmv_app.models import *\n",
    "from utils.tm_mgmt import update_topic_scores\n",
    "from utils.text import *\n",
    "from django.db.models import Q, Count, Func, F, Sum, Avg, Value as V"
   ]
  },
  {
   "cell_type": "code",
   "execution_count": 3,
   "metadata": {
    "collapsed": false,
    "deletable": true,
    "editable": true
   },
   "outputs": [
    {
     "name": "stdout",
     "output_type": "stream",
     "text": [
      "leey\n"
     ]
    }
   ],
   "source": [
    "user1, created =  User.objects.get_or_create(username='leey', email='lee@mcc-berlin.net')\n",
    "print(user1)\n",
    "user1.save()"
   ]
  },
  {
   "cell_type": "code",
   "execution_count": 4,
   "metadata": {
    "code_folding": [
     0
    ],
    "collapsed": false,
    "deletable": true,
    "editable": true
   },
   "outputs": [
    {
     "name": "stdout",
     "output_type": "stream",
     "text": [
      "3281 utterances with search kohle\n",
      "35275\n",
      "3281\n",
      "35275\n",
      "3281\n",
      "<QuerySet [<RunStats: RunStats object (1099)>, <RunStats: RunStats object (1069)>, <RunStats: RunStats object (1070)>, <RunStats: RunStats object (1100)>, <RunStats: RunStats object (1080)>, <RunStats: RunStats object (1101)>, <RunStats: RunStats object (1081)>, <RunStats: RunStats object (1062)>, <RunStats: RunStats object (1082)>, <RunStats: RunStats object (1061)>, <RunStats: RunStats object (1093)>, <RunStats: RunStats object (1094)>, <RunStats: RunStats object (1063)>, <RunStats: RunStats object (1083)>, <RunStats: RunStats object (1045)>, <RunStats: RunStats object (1095)>, <RunStats: RunStats object (1046)>, <RunStats: RunStats object (1084)>, <RunStats: RunStats object (1064)>, <RunStats: RunStats object (1071)>, '...(remaining elements truncated)...']>\n"
     ]
    }
   ],
   "source": [
    "# simple search for utterances\n",
    "par_search_tei, created = pm.Search.objects.get_or_create(\n",
    "                title=\"Kohle tei utterance\",\n",
    "                text=\"kohle\",\n",
    "                creator=user1,\n",
    "                document_source=\"GermaParlTEI\",\n",
    "                search_object_type=2)\n",
    "par_search_tei.save()\n",
    "if created:\n",
    "    print(\"doing search\")\n",
    "do_search(par_search_tei.id)\n",
    "print(par_search_tei.par_count)\n",
    "print(par_search_tei.utterance_count)\n",
    "print(par_search_tei.runstats_set.all())"
   ]
  },
  {
   "cell_type": "code",
   "execution_count": 3,
   "metadata": {
    "collapsed": true,
    "deletable": true,
    "editable": true
   },
   "outputs": [],
   "source": [
    "# List of topics, LDA for K=10-70, steps =5\n",
    "run_ids_ld = [1079, 1080, 1061, 1081, 1062, 1082, 1063, 1083, 1064, 1084, 1085, 1086, 1087]\n",
    "run_ids_ld2 = [1093, 1094, 1061, 1095, 1062, 1096, 1063, 1097, 1064, 1098, 1099, 1100, 1101]"
   ]
  },
  {
   "cell_type": "code",
   "execution_count": 21,
   "metadata": {
    "collapsed": false,
    "deletable": true,
    "editable": true
   },
   "outputs": [],
   "source": [
    "# LDA, K = 10\n",
    "topics1 = Topic.objects.filter(run_id=run_ids_ld[0])\n",
    "\n",
    "# LDA K = 10 for a different run\n",
    "topics2 = Topic.objects.filter(run_id=run_ids_ld2[0])"
   ]
  },
  {
   "cell_type": "code",
   "execution_count": 4,
   "metadata": {
    "collapsed": true
   },
   "outputs": [],
   "source": [
    "# Testing other K values\n",
    "topics3 = Topic.objects.filter(run_id=run_ids_ld[6])\n",
    "topics4 = Topic.objects.filter(run_id=run_ids_ld[12])"
   ]
  },
  {
   "cell_type": "markdown",
   "metadata": {
    "deletable": true,
    "editable": true
   },
   "source": [
    "### Simple Frequency Analysis"
   ]
  },
  {
   "cell_type": "code",
   "execution_count": 52,
   "metadata": {
    "code_folding": [],
    "collapsed": true
   },
   "outputs": [],
   "source": [
    "def get_frequency(run_id):\n",
    "    topics = Topic.objects.filter(run_id=run_id)\n",
    "    \n",
    "    top_words_combined = []\n",
    "    for tw in topics.values('top_words'):\n",
    "        top_words_combined = top_words_combined + tw['top_words']\n",
    "        \n",
    "    word_count = Counter(top_words_combined)\n",
    "    sorted_word_count = sorted(word_count.items(), key=itemgetter(1), reverse=True)\n",
    "\n",
    "    return sorted_word_count, topics"
   ]
  },
  {
   "cell_type": "code",
   "execution_count": 61,
   "metadata": {
    "collapsed": false,
    "scrolled": true
   },
   "outputs": [],
   "source": [
    "freq1, topics1 = get_frequency(1079)"
   ]
  },
  {
   "cell_type": "code",
   "execution_count": 22,
   "metadata": {
    "code_folding": [
     0
    ],
    "collapsed": false,
    "deletable": true,
    "editable": true
   },
   "outputs": [],
   "source": [
    "# adding all topics to single list \n",
    "top_words_combined = []\n",
    "for tw in topics1.values('top_words'):\n",
    "    top_words_combined = top_words_combined + tw['top_words']\n",
    "# print(top_words_combined)    "
   ]
  },
  {
   "cell_type": "code",
   "execution_count": 25,
   "metadata": {
    "collapsed": false,
    "deletable": true,
    "editable": true
   },
   "outputs": [],
   "source": [
    "# adding all topics to single list \n",
    "top_words_combined2 = []\n",
    "for tw in topics2.values('top_words'):\n",
    "    top_words_combined2 = top_words_combined2 + tw['top_words']\n",
    "# print(top_words_combined)    "
   ]
  },
  {
   "cell_type": "code",
   "execution_count": 5,
   "metadata": {
    "collapsed": true
   },
   "outputs": [],
   "source": [
    "# adding all topics to single list \n",
    "top_words_combined3 = []\n",
    "for tw in topics3.values('top_words'):\n",
    "    top_words_combined3 = top_words_combined3 + tw['top_words']\n",
    "\n",
    "top_words_combined4 = []\n",
    "for tw in topics4.values('top_words'):\n",
    "    top_words_combined4 = top_words_combined4 + tw['top_words']    "
   ]
  },
  {
   "cell_type": "code",
   "execution_count": 23,
   "metadata": {
    "collapsed": false,
    "deletable": true,
    "editable": true,
    "scrolled": true
   },
   "outputs": [
    {
     "name": "stdout",
     "output_type": "stream",
     "text": [
      "10 0.01 200 None\n",
      "Counter({'jahr': 9, 'herr': 8, 'mehr': 6, 'deutschland': 5, 'prozent': 4, 'sag': 4, 'schon': 4, 'deutsch': 3, 'europa': 3, 'land': 3, 'neu': 3, 'frag': 3, 'energi': 3, 'ganz': 2, 'polit': 2, 'milliard': 2, 'bundesregier': 2, 'berat': 2, 'antrag': 2, 'wirtschaft': 1, 'frau': 1, 'gesagt': 1, 'heut': 1, 'mensch': 1, 'dafur': 1, 'haushalt': 1, 'euro': 1, 'gross': 1, 'gesetz': 1, 'kolleg': 1, 'erst': 1, 'klimaschutz': 1, 'erneuerbar': 1, 'ziel': 1, 'million': 1, 'unternehm': 1, 'bereich': 1, 'kohlekraftwerk': 1, 'energiew': 1, 'strom': 1, 'deshalb': 1, 'ausschuss': 1, 'drucksach': 1, 'abgeordnet': 1, 'fraktion': 1, 'beschlussempfehl': 1, 'wer': 1, 'enthalt': 1, 'stimmt': 1})\n"
     ]
    }
   ],
   "source": [
    "# run_id = 1079\n",
    "stats1079 = RunStats.objects.get(run_id=1079)\n",
    "word_count = Counter(top_words_combined)\n",
    "\n",
    "print(stats1079.K, stats1079.alpha, stats1079.max_iter, stats1079.coherence)\n",
    "print(word_count)\n",
    "#for word, count in word_count.items():\n",
    "#    print(\"{}: {}\".format(word, count))"
   ]
  },
  {
   "cell_type": "code",
   "execution_count": 26,
   "metadata": {
    "collapsed": false,
    "deletable": true,
    "editable": true,
    "scrolled": false
   },
   "outputs": [
    {
     "name": "stdout",
     "output_type": "stream",
     "text": [
      "10 0.01 200 0.144700699245963\n",
      "Counter({'deutschland': 8, 'herr': 8, 'jahr': 8, 'sag': 6, 'mehr': 6, 'polit': 5, 'prozent': 4, 'land': 3, 'ganz': 3, 'neu': 3, 'europa': 2, 'frag': 2, 'bundesregier': 2, 'euro': 2, 'milliard': 2, 'energi': 2, 'schon': 2, 'heut': 2, 'deutsch': 1, 'union': 1, 'million': 1, 'umweltpolit': 1, 'klimaschutz': 1, 'ziel': 1, 'international': 1, 'arbeitsplatz': 1, 'gesetzentwurf': 1, 'fdp': 1, 'bereich': 1, 'erneuerbar': 1, 'strom': 1, 'kernenergi': 1, 'ausschuss': 1, 'drucksach': 1, 'berat': 1, 'abgeordnet': 1, 'beschlussempfehl': 1, 'fraktion': 1, 'wer': 1, 'antrag': 1, 'enthalt': 1, 'stimmt': 1, 'mensch': 1, 'sozial': 1, 'haushalt': 1, 'geht': 1, 'gross': 1, 'gut': 1})\n"
     ]
    }
   ],
   "source": [
    "# run_id = 1093\n",
    "stats1093 = RunStats.objects.get(run_id=1093)\n",
    "word_count2 = Counter(top_words_combined2)\n",
    "\n",
    "print(stats1093.K, stats1093.alpha, stats1093.max_iter, stats1093.coherence)\n",
    "print(word_count2)\n",
    "#print(list(word_count2.elements()))"
   ]
  },
  {
   "cell_type": "code",
   "execution_count": 17,
   "metadata": {
    "collapsed": false
   },
   "outputs": [],
   "source": [
    "# K = 40 and 70, run_id = 1063, 1087\n",
    "\n",
    "stats1063 = RunStats.objects.get(run_id=1063)\n",
    "word_count3 = Counter(top_words_combined3)\n",
    "\n",
    "stats1087 = RunStats.objects.get(run_id=1087)\n",
    "word_count4 = Counter(top_words_combined4)\n",
    "\n",
    "#print(stats1063.K, stats1063.alpha, stats1063.max_iter, stats1063.coherence)\n",
    "#print(word_count3)\n",
    "\n",
    "#print(stats1087.K, stats1087.alpha, stats1087.max_iter, stats1087.coherence)\n",
    "#print(word_count4)"
   ]
  },
  {
   "cell_type": "code",
   "execution_count": 10,
   "metadata": {
    "collapsed": true
   },
   "outputs": [],
   "source": [
    "# Compare topics when alpha is varied\n",
    "# K = 30, alpha = 0.005, 0.01, 0.05\n",
    "run_ids_alpha = [1109, 1062, 1108]\n",
    "\n",
    "topics_a1 = Topic.objects.filter(run_id=run_ids_alpha[0])\n",
    "topics_a2= Topic.objects.filter(run_id=run_ids_alpha[1])\n",
    "topics_a3 = Topic.objects.filter(run_id=run_ids_alpha[2])"
   ]
  },
  {
   "cell_type": "code",
   "execution_count": 11,
   "metadata": {
    "code_folding": [
     1,
     5,
     9
    ],
    "collapsed": true
   },
   "outputs": [],
   "source": [
    "top_words_combined_a1 = []\n",
    "for tw in topics_a1.values('top_words'):\n",
    "    top_words_combined_a1 = top_words_combined_a1 + tw['top_words']\n",
    "    \n",
    "top_words_combined_a2 = []\n",
    "for tw in topics_a2.values('top_words'):\n",
    "    top_words_combined_a2 = top_words_combined_a2 + tw['top_words']\n",
    "    \n",
    "top_words_combined_a3 = []\n",
    "for tw in topics_a3.values('top_words'):\n",
    "    top_words_combined_a3 = top_words_combined_a3 + tw['top_words']"
   ]
  },
  {
   "cell_type": "code",
   "execution_count": 18,
   "metadata": {
    "collapsed": false
   },
   "outputs": [],
   "source": [
    "stats1109 = RunStats.objects.get(run_id=1109)\n",
    "word_count_a1 = Counter(top_words_combined_a1)\n",
    "\n",
    "stats1062 = RunStats.objects.get(run_id=1087)\n",
    "word_count_a2 = Counter(top_words_combined_a2)\n",
    "\n",
    "stats1108 = RunStats.objects.get(run_id=1108)\n",
    "word_count_a3 = Counter(top_words_combined_a3)\n",
    "\n",
    "\n",
    "#print(\"alpha = {}\".format(stats1109.alpha), word_count_a1)\n",
    "#print(\"alpha = {}\".format(stats1062.alpha), word_count_a2)\n",
    "#print(\"alpha = {}\".format(stats1108.alpha), word_count_a3)"
   ]
  },
  {
   "cell_type": "markdown",
   "metadata": {
    "deletable": true,
    "editable": true
   },
   "source": [
    "### Frequency Metric"
   ]
  },
  {
   "cell_type": "markdown",
   "metadata": {
    "deletable": true,
    "editable": true
   },
   "source": [
    "share = n/K\n",
    "n = no. of times a word appears in topics within one run\n",
    "K = number of topics\n",
    "share = 1 means word appears in every single topic \n",
    "\n",
    "score = (n-1)/(K-1) # for each word\n",
    "\n",
    "can use score to get mean score for each topic within a topic model, and also overall mean score of individual words "
   ]
  },
  {
   "cell_type": "code",
   "execution_count": 27,
   "metadata": {
    "collapsed": false,
    "deletable": true,
    "editable": true
   },
   "outputs": [],
   "source": [
    "word_count_list = word_count.items()\n",
    "word_count_list2 = word_count2.items()\n",
    "word_count_list3 = word_count3.items()\n",
    "word_count_list4 = word_count4.items()"
   ]
  },
  {
   "cell_type": "code",
   "execution_count": 55,
   "metadata": {
    "collapsed": true
   },
   "outputs": [],
   "source": [
    "def get_word_score(run_id):\n",
    "    stat = RunStats.objects.get(run_id=run_id)\n",
    "    K = stat.K\n",
    "    \n",
    "    freq, topics = get_frequency(run_id=run_id)\n",
    "    word_count_list = word_count.items()\n",
    "    \n",
    "    score_dict = {}\n",
    "    for word, count in word_count_list:\n",
    "        word_share = count/K\n",
    "        word_score = (count - 1)/(K-1)\n",
    "        score_dict[word] = word_score\n",
    "    \n",
    "    # find mean score of each topic in one topic model\n",
    "    # adding topics to list by topic\n",
    "    sigma_mws = []\n",
    "    sigma_ttw = []\n",
    "    for topic in topics.values('top_words'):\n",
    "        total_word_score = []\n",
    "        ttw = []\n",
    "        \n",
    "        for word in topic['top_words']:\n",
    "            wws = score_dict[word]\n",
    "            total_word_score = total_word_score + [wws]\n",
    "            ttw = ttw + [word]\n",
    "    \n",
    "        mean_word_score = sum(total_word_score)/K\n",
    "        sigma_mws = sigma_mws + [mean_word_score]\n",
    "        sigma_ttw = sigma_ttw + [ttw]\n",
    "    \n",
    "    return sigma_mws, sigma_ttw"
   ]
  },
  {
   "cell_type": "code",
   "execution_count": 60,
   "metadata": {
    "collapsed": false
   },
   "outputs": [],
   "source": [
    "mws1, ttw1 = get_word_score(1079)\n",
    "\n",
    "mws1_df = pd.DataFrame(data=ttw1)\n",
    "mws1_df['mws'] = mws1"
   ]
  },
  {
   "cell_type": "code",
   "execution_count": 57,
   "metadata": {
    "code_folding": [
     0
    ],
    "collapsed": false,
    "deletable": true,
    "editable": true,
    "scrolled": false
   },
   "outputs": [],
   "source": [
    "# word_score\n",
    "K = 10\n",
    "score_dict = {}\n",
    "for word, count in word_count_list:\n",
    "    word_share = count/K\n",
    "    word_score = (count - 1)/(K-1)\n",
    "    score_dict[word] = word_score\n",
    "    #print(word, word_score)"
   ]
  },
  {
   "cell_type": "code",
   "execution_count": 58,
   "metadata": {
    "code_folding": [
     0
    ],
    "collapsed": false,
    "deletable": true,
    "editable": true
   },
   "outputs": [],
   "source": [
    "# find mean score of each topic in one topic model\n",
    "# LDA, K = 10, run_id = 1079\n",
    "\n",
    "sigma_mws = []\n",
    "\n",
    "for topic in topics1.values('top_words'):\n",
    "    total_word_score = []\n",
    "    for word in topic['top_words']:\n",
    "        wws = score_dict[word]\n",
    "        total_word_score = total_word_score + [wws]\n",
    "    \n",
    "    mean_word_score = sum(total_word_score)/K\n",
    "    sigma_mws = sigma_mws + [mean_word_score]\n",
    "    #print(mean_word_score)"
   ]
  },
  {
   "cell_type": "code",
   "execution_count": 107,
   "metadata": {
    "code_folding": [
     0
    ],
    "collapsed": false,
    "deletable": true,
    "editable": true,
    "scrolled": true
   },
   "outputs": [
    {
     "name": "stdout",
     "output_type": "stream",
     "text": [
      "['jahr', 'herr', 'prozent', 'deutschland', 'sag', 'wirtschaft', 'deutsch', 'ganz', 'polit', 'europa']\n",
      "['herr', 'sag', 'land', 'mehr', 'frau', 'gesagt', 'heut', 'jahr', 'ganz', 'schon']\n",
      "['europa', 'land', 'deutschland', 'mehr', 'jahr', 'mensch', 'deutsch', 'herr', 'dafur', 'sag']\n",
      "['jahr', 'herr', 'haushalt', 'milliard', 'euro', 'mehr', 'deutschland', 'polit', 'prozent', 'gross']\n",
      "['bundesregier', 'herr', 'gesetz', 'jahr', 'kolleg', 'berat', 'erst', 'antrag', 'neu', 'frag']\n",
      "['klimaschutz', 'energi', 'erneuerbar', 'prozent', 'deutschland', 'jahr', 'herr', 'ziel', 'sag', 'schon']\n",
      "['jahr', 'neu', 'mehr', 'herr', 'million', 'schon', 'unternehm', 'prozent', 'milliard', 'bereich']\n",
      "['herr', 'energi', 'jahr', 'mehr', 'kohlekraftwerk', 'frag', 'energiew', 'schon', 'strom', 'bundesregier']\n",
      "['energi', 'deutschland', 'land', 'frag', 'jahr', 'neu', 'mehr', 'deshalb', 'deutsch', 'europa']\n",
      "['ausschuss', 'drucksach', 'berat', 'abgeordnet', 'fraktion', 'beschlussempfehl', 'antrag', 'wer', 'enthalt', 'stimmt']\n"
     ]
    }
   ],
   "source": [
    "# adding topics to list by topic\n",
    "sigma_ttw = []\n",
    "for topic in topics1.values('top_words'):\n",
    "    ttw = []\n",
    "    for tw in topic['top_words']:\n",
    "        ttw = ttw + [tw]\n",
    "    sigma_ttw = sigma_ttw + [ttw]\n",
    "    print(ttw)"
   ]
  },
  {
   "cell_type": "code",
   "execution_count": 145,
   "metadata": {
    "code_folding": [
     0
    ],
    "collapsed": false,
    "deletable": true,
    "editable": true
   },
   "outputs": [
    {
     "data": {
      "text/plain": [
       "0.2911111111111112"
      ]
     },
     "execution_count": 145,
     "metadata": {},
     "output_type": "execute_result"
    }
   ],
   "source": [
    "# mean word score across all topics\n",
    "m_mws = sum(sigma_mws)/10\n",
    "m_mws"
   ]
  },
  {
   "cell_type": "code",
   "execution_count": 144,
   "metadata": {
    "collapsed": false,
    "deletable": true,
    "editable": true,
    "scrolled": true
   },
   "outputs": [],
   "source": [
    "mws_df = pd.DataFrame(data=sigma_ttw)\n",
    "mws_df['mws'] = sigma_mws\n",
    "#mws_df"
   ]
  },
  {
   "cell_type": "markdown",
   "metadata": {},
   "source": [
    "### Plots"
   ]
  },
  {
   "cell_type": "code",
   "execution_count": 143,
   "metadata": {
    "collapsed": false,
    "deletable": true,
    "editable": true,
    "scrolled": false
   },
   "outputs": [
    {
     "data": {
      "image/png": "[encoded data removed]",
      "text/plain": [
       "<matplotlib.figure.Figure at 0x7f2fa9753390>"
      ]
     },
     "metadata": {},
     "output_type": "display_data"
    }
   ],
   "source": [
    "sns.set_style('whitegrid')\n",
    "fig, ax = plt.subplots(figsize=(10,10))\n",
    "\n",
    "sns.lineplot(data=mws_df['mws'], ax = ax)\n",
    "\n",
    "plt.xticks(np.arange(len(sigma_ttw)), [ttw for ttw in sigma_ttw], rotation='vertical', fontsize=10)\n",
    "\n",
    "ax.set(xlabel=\"Topics\",ylabel=\"Mean Word Score\", title=\"Mean word score within topics\")\n",
    "plt.show()"
   ]
  }
 ],
 "metadata": {
  "kernelspec": {
   "display_name": "tmv_yt",
   "language": "python",
   "name": "tmv_yt"
  },
  "language_info": {
   "codemirror_mode": {
    "name": "ipython",
    "version": 3
   },
   "file_extension": ".py",
   "mimetype": "text/x-python",
   "name": "python",
   "nbconvert_exporter": "python",
   "pygments_lexer": "ipython3",
   "version": "3.6.6"
  }
 },
 "nbformat": 4,
 "nbformat_minor": 2
}
