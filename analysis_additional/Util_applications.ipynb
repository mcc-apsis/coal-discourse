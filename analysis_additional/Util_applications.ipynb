{
 "cells": [
  {
   "cell_type": "code",
   "execution_count": 1,
   "metadata": {},
   "outputs": [],
   "source": [
    "import matplotlib.pylab as plt\n",
    "import numpy as np\n",
    "import pandas as pd\n",
    "import time\n",
    "import sys\n",
    "import os\n",
    "\n",
    "import seaborn as sns\n",
    "import matplotlib.dates as mdates\n",
    "from datetime import datetime, date\n",
    "\n",
    "# preamble for jupyter notebook and django\n",
    "import django\n",
    "import platform\n",
    "\n",
    "if platform.node() == \"srv-mcc-apsis\":\n",
    "    sys.path.append(\"/home/muef/tmv/BasicBrowser/\")\n",
    "    #sys.path.append('/home/leey/tmv/BasicBrowser/')\n",
    "    dtm_path = \"/home/galm/software/dtm/dtm/main\"\n",
    "else:\n",
    "    # local paths\n",
    "    sys.path.append('/media/Data/MCC/tmv/BasicBrowser/')\n",
    "    dtm_path = \"/home/finn/dtm/dtm/main\"\n",
    "\n",
    "os.environ.setdefault(\"DJANGO_SETTINGS_MODULE\", \"BasicBrowser.settings\")\n",
    "django.setup()\n",
    "\n",
    "# import from appended path\n",
    "import parliament.models as pm\n",
    "from parliament.tasks import do_search, run_tm, combine_searches\n",
    "import cities.models as cmodels\n",
    "from django.contrib.auth.models import User\n",
    "import tmv_app.models as tm\n",
    "import scoping.models as sm\n",
    "from utils.tm_mgmt import update_topic_scores\n",
    "from django.db.models import Q, Count, Func, F, Sum, Avg, Value as V\n",
    "from django.db.models.functions import TruncDate, TruncMonth, TruncYear"
   ]
  },
  {
   "cell_type": "code",
   "execution_count": 14,
   "metadata": {},
   "outputs": [],
   "source": [
    "runs = tm.RunStats.objects.filter(~Q(psearch = None))"
   ]
  },
  {
   "cell_type": "code",
   "execution_count": null,
   "metadata": {},
   "outputs": [],
   "source": [
    "from utils.tm_mgmt import topicterm_lscores\n",
    "\n",
    "for run in runs:\n",
    "    topicterm_lscores(run.run_id)"
   ]
  }
 ],
 "metadata": {
  "kernelspec": {
   "display_name": "Python 3",
   "language": "python",
   "name": "python3"
  },
  "language_info": {
   "codemirror_mode": {
    "name": "ipython",
    "version": 3
   },
   "file_extension": ".py",
   "mimetype": "text/x-python",
   "name": "python",
   "nbconvert_exporter": "python",
   "pygments_lexer": "ipython3",
   "version": "3.6.7"
  }
 },
 "nbformat": 4,
 "nbformat_minor": 2
}
