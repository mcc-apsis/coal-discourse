{
 "cells": [
  {
   "cell_type": "code",
   "execution_count": 2,
   "metadata": {
    "collapsed": true,
    "deletable": true,
    "editable": true
   },
   "outputs": [],
   "source": [
    "import matplotlib.pylab as plt\n",
    "import numpy as np\n",
    "import pandas as pd\n",
    "import time\n",
    "import sys\n",
    "import os"
   ]
  },
  {
   "cell_type": "code",
   "execution_count": 3,
   "metadata": {
    "collapsed": true,
    "deletable": true,
    "editable": true
   },
   "outputs": [],
   "source": [
    "# preamble for jupyter notebook and django\n",
    "import django\n",
    "import platform\n",
    "\n",
    "if platform.node() == \"mcc-apsis\":\n",
    "    sys.path.append(\"/home/galm/software/django/tmv/BasicBrowser/\")\n",
    "    #sys.path.append('/home/leey/tmv/BasicBrowser/')\n",
    "else:\n",
    "    # local paths\n",
    "    sys.path.append('/media/Data/MCC/tmv/BasicBrowser/')\n",
    "\n",
    "os.environ.setdefault(\"DJANGO_SETTINGS_MODULE\", \"BasicBrowser.settings\")\n",
    "django.setup()\n",
    "\n",
    "# import from appended path\n",
    "import parliament.models as pm\n",
    "from parliament.tasks import do_search, run_tm\n",
    "import cities.models as cmodels\n",
    "from django.contrib.auth.models import User\n",
    "from tmv_app.models import *\n",
    "from utils.tm_mgmt import update_topic_scores\n",
    "from django.db.models import Q, Count, Func, F, Sum, Avg, Value as V\n",
    "from django.core import serializers"
   ]
  },
  {
   "cell_type": "code",
   "execution_count": 4,
   "metadata": {
    "collapsed": false,
    "deletable": true,
    "editable": true
   },
   "outputs": [
    {
     "data": {
      "text/plain": [
       "<QuerySet [<Person: Dr. Manfred Abelein>, <Person: Dr. Ernst Achenbach>, <Person: Annemarie Ackermann>, <Person: Dr. Else Ackermann>, <Person: Ulrich Adam>, <Person: Rudolf Adams>, <Person: Raban Adelmann>, <Person: Dr. Konrad Adenauer>, <Person: Brigitte Adler>, <Person: Eduard Adorno>, <Person: Dr. Jochen Aerssen>, <Person: Willi Agatz>, <Person: Conrad Ahlers>, <Person: Adolf Ahrens>, <Person: Hermann Ahrens (Salzgitter)>, <Person: Dr. Karl Ahrens>, <Person: Dr. Heinrich Aigner>, <Person: Siegbert Alber>, <Person: Johannes Albers>, <Person: Luise Albertz>, '...(remaining elements truncated)...']>"
      ]
     },
     "execution_count": 4,
     "metadata": {},
     "output_type": "execute_result"
    }
   ],
   "source": [
    "parliamentarians = pm.Person.objects.all()\n",
    "parliamentarians"
   ]
  },
  {
   "cell_type": "code",
   "execution_count": null,
   "metadata": {
    "collapsed": true,
    "deletable": true,
    "editable": true
   },
   "outputs": [],
   "source": [
    "XMLSerializer = serializers.get_serializer(\"xml\")\n",
    "xml_serializer = XMLSerializer()\n",
    "xml_serializer.serialize(parliamentarians)\n",
    "data = xml_serializer.getvalue()"
   ]
  },
  {
   "cell_type": "code",
   "execution_count": 6,
   "metadata": {
    "collapsed": false,
    "deletable": true,
    "editable": true
   },
   "outputs": [],
   "source": [
    "with open(\"german_parliamentarians.xml\", \"w\") as out:\n",
    "    xml_serializer.serialize(parliamentarians, stream=out)"
   ]
  },
  {
   "cell_type": "code",
   "execution_count": 4,
   "metadata": {
    "collapsed": false
   },
   "outputs": [
    {
     "data": {
      "text/plain": [
       "<QuerySet [<Party: CDUCSU>, <Party: SPD>, <Party: LINKE>, <Party: FDP>, <Party: GRUENE>, <Party: AFD>, <Party: KPD>, <Party: BP>, <Party: DP>, <Party: PDS>, <Party: GB/BHE>, <Party: DZP>, <Party: DRP>, <Party: WAV>, <Party: OTHER>, <Party: PARTEILOS>, <Party: FRAKTIONSLOS>]>"
      ]
     },
     "execution_count": 4,
     "metadata": {},
     "output_type": "execute_result"
    }
   ],
   "source": [
    "parties = pm.Party.objects.all()\n",
    "parties"
   ]
  },
  {
   "cell_type": "code",
   "execution_count": 6,
   "metadata": {
    "collapsed": true
   },
   "outputs": [],
   "source": [
    "XMLSerializer = serializers.get_serializer(\"xml\")\n",
    "xml_serializer = XMLSerializer()\n",
    "xml_serializer.serialize(parties)\n",
    "data = xml_serializer.getvalue()\n",
    "\n",
    "with open(\"german_parties.xml\", \"w\") as out:\n",
    "    xml_serializer.serialize(parties, stream=out)"
   ]
  },
  {
   "cell_type": "code",
   "execution_count": null,
   "metadata": {
    "collapsed": true
   },
   "outputs": [],
   "source": []
  }
 ],
 "metadata": {
  "kernelspec": {
   "display_name": "tmv_yt",
   "language": "python",
   "name": "tmv_yt"
  },
  "language_info": {
   "codemirror_mode": {
    "name": "ipython",
    "version": 3
   },
   "file_extension": ".py",
   "mimetype": "text/x-python",
   "name": "python",
   "nbconvert_exporter": "python",
   "pygments_lexer": "ipython3",
   "version": "3.6.6"
  }
 },
 "nbformat": 4,
 "nbformat_minor": 2
}
