{
 "cells": [
  {
   "cell_type": "code",
   "execution_count": 1,
   "metadata": {},
   "outputs": [],
   "source": [
    "import matplotlib.pylab as plt\n",
    "import numpy as np\n",
    "import pandas as pd\n",
    "import time\n",
    "import sys\n",
    "import os\n",
    "\n",
    "import seaborn as sns\n",
    "import gensim\n",
    "\n",
    "import django\n",
    "import platform\n",
    "\n",
    "if platform.node() == \"srv-mcc-apsis\":\n",
    "    sys.path.append('/home/leey/tmv/BasicBrowser/')\n",
    "else:\n",
    "    # local paths\n",
    "    sys.path.append('/Documents/Data/tmv/BasicBrowser/')\n",
    "\n",
    "os.environ.setdefault(\"DJANGO_SETTINGS_MODULE\", \"BasicBrowser.settings\")\n",
    "django.setup()\n",
    "\n",
    "# import from appended path\n",
    "import parliament.models as pm\n",
    "from parliament.tasks import do_search, run_tm\n",
    "import cities.models as cmodels\n",
    "from django.contrib.auth.models import User\n",
    "from tmv_app.models import *\n",
    "from utils.tm_mgmt import update_topic_scores\n",
    "from utils.text import *\n",
    "from django.db.models import Q, Count, Func, F, Sum, Value, Case, When, IntegerField"
   ]
  },
  {
   "cell_type": "code",
   "execution_count": 2,
   "metadata": {},
   "outputs": [],
   "source": [
    "def clean_text(text):\n",
    "\n",
    "    text = text.replace('\\r', '\\n')\n",
    "    text = text.replace(u'\\xa0', ' ')\n",
    "    text = text.replace(u'\\x96', '-')\n",
    "    text = text.replace(u'\\xad', '-')\n",
    "    text = text.replace(u'\\u2014', '–')\n",
    "    # text = text.replace(u'\\u2013', '–')\n",
    "    text = text.replace('(', '')\n",
    "    text = text.replace(')', '')\n",
    "    return text"
   ]
  },
  {
   "cell_type": "markdown",
   "metadata": {},
   "source": [
    "### Finding agenda items"
   ]
  },
  {
   "cell_type": "code",
   "execution_count": 3,
   "metadata": {},
   "outputs": [],
   "source": [
    "# finding the agenda items of the utterances that appear in the search (id = 89)\n",
    "utterances = pm.Utterance.objects.filter(search_matches__pk=89)\n",
    "#agenda_items = pm.AgendaItem.objects.filter()"
   ]
  },
  {
   "cell_type": "code",
   "execution_count": 4,
   "metadata": {},
   "outputs": [],
   "source": [
    "agenda_items = []\n",
    "for ut in utterances:\n",
    "    try:\n",
    "        agenda_items.append(ut.agenda_item.title)\n",
    "    except AttributeError:\n",
    "        pass"
   ]
  },
  {
   "cell_type": "code",
   "execution_count": 5,
   "metadata": {},
   "outputs": [],
   "source": [
    "df_agenda_items = pd.DataFrame(agenda_items)\n",
    "df_agenda_items.columns = ['Agenda Item']"
   ]
  },
  {
   "cell_type": "code",
   "execution_count": 6,
   "metadata": {},
   "outputs": [],
   "source": [
    "# extract unique agenda items only \n",
    "agenda_items_unique = list(set(agenda_items))\n",
    "df_agenda_items_unique = pd.DataFrame(agenda_items_unique)\n",
    "df_agenda_items_unique.columns = ['Agenda Item']"
   ]
  },
  {
   "cell_type": "markdown",
   "metadata": {},
   "source": [
    "---"
   ]
  },
  {
   "cell_type": "markdown",
   "metadata": {},
   "source": [
    "### Preparing corpus and dictionary"
   ]
  },
  {
   "cell_type": "code",
   "execution_count": 9,
   "metadata": {},
   "outputs": [],
   "source": [
    "agenda_items_unique_lower = [word.lower() for word in agenda_items_unique]"
   ]
  },
  {
   "cell_type": "code",
   "execution_count": 10,
   "metadata": {},
   "outputs": [],
   "source": [
    "agenda_items_unique_clean = [clean_text(text) for text in agenda_items_unique_lower]"
   ]
  },
  {
   "cell_type": "code",
   "execution_count": 11,
   "metadata": {},
   "outputs": [],
   "source": [
    "from gensim import corpora\n",
    "from nltk.corpus import stopwords\n",
    "stop_words = set(stopwords.words('german'))\n",
    "\n",
    "# Tokenize(split) the sentences into words\n",
    "texts = [[text for text in doc.split()] for doc in agenda_items_unique_clean]\n",
    "\n",
    "# Remove stopwords \n",
    "texts_no_sw = []\n",
    "for text in texts:\n",
    "    no_sw = [word for word in text if word not in stop_words]\n",
    "    texts_no_sw.append(no_sw)\n",
    "    "
   ]
  },
  {
   "cell_type": "code",
   "execution_count": 12,
   "metadata": {},
   "outputs": [
    {
     "name": "stdout",
     "output_type": "stream",
     "text": [
      "Dictionary(400 unique tokens: ['-preis', '2', 'bundesregierung', 'co', 'haltung']...)\n"
     ]
    }
   ],
   "source": [
    "# Create dictionary\n",
    "dictionary = corpora.Dictionary(texts_no_sw)\n",
    "\n",
    "# Get information about the dictionary\n",
    "print(dictionary)"
   ]
  },
  {
   "cell_type": "code",
   "execution_count": 19,
   "metadata": {
    "scrolled": true
   },
   "outputs": [],
   "source": [
    "agenda_corpus = [dictionary.doc2bow(text, allow_update=True) for text in texts_no_sw]"
   ]
  },
  {
   "cell_type": "markdown",
   "metadata": {},
   "source": [
    "### Running a simple topic model"
   ]
  },
  {
   "cell_type": "code",
   "execution_count": 14,
   "metadata": {},
   "outputs": [],
   "source": [
    "# Step 0: Import packages and stopwords\n",
    "from gensim.models import LdaModel, LdaMulticore\n",
    "from gensim.utils import simple_preprocess, lemmatize\n",
    "import logging\n",
    "logging.basicConfig(format='%(asctime)s : %(levelname)s : %(message)s')\n",
    "logging.root.setLevel(level=logging.INFO)"
   ]
  },
  {
   "cell_type": "code",
   "execution_count": 15,
   "metadata": {},
   "outputs": [
    {
     "name": "stderr",
     "output_type": "stream",
     "text": [
      "2019-08-07 12:09:39,114 : INFO : using autotuned alpha, starting with [0.1, 0.1, 0.1, 0.1, 0.1, 0.1, 0.1, 0.1, 0.1, 0.1]\n",
      "2019-08-07 12:09:39,117 : INFO : using symmetric eta at 0.1\n",
      "2019-08-07 12:09:39,118 : INFO : using serial LDA version on this node\n",
      "2019-08-07 12:09:39,210 : INFO : running online (multi-pass) LDA training, 10 topics, 10 passes over the supplied corpus of 99 documents, updating model once every 99 documents, evaluating perplexity every 99 documents, iterating 50x with a convergence threshold of 0.001000\n",
      "2019-08-07 12:09:39,813 : INFO : -10.530 per-word bound, 1478.1 perplexity estimate based on a held-out corpus of 99 documents with 1214 words\n",
      "2019-08-07 12:09:39,815 : INFO : PROGRESS: pass 0, at document #99/99\n",
      "2019-08-07 12:09:40,233 : INFO : optimized alpha [0.09175396, 0.083210476, 0.085939124, 0.08090174, 0.08895925, 0.08173998, 0.075357035, 0.07777944, 0.077606685, 0.086443864]\n",
      "2019-08-07 12:09:40,262 : INFO : topic #6 (0.075): 0.043*\"beratung\" + 0.034*\"abgeordneter\" + 0.033*\"abgeordneten\" + 0.033*\"weiterer\" + 0.033*\"fraktion\" + 0.025*\"fdp\" + 0.025*\"grigorios\" + 0.024*\"antrags\" + 0.024*\"aggelidis,\" + 0.021*\"beschlussempfehlung\"\n",
      "2019-08-07 12:09:40,264 : INFO : topic #8 (0.078): 0.043*\"–\" + 0.043*\"fraktion\" + 0.030*\"antrag\" + 0.025*\"abgeordneten\" + 0.025*\"90/die\" + 0.024*\"bündnis\" + 0.023*\"grünen\" + 0.020*\"weiterer\" + 0.020*\"abgeordneter\" + 0.020*\"fdp\"\n",
      "2019-08-07 12:09:40,265 : INFO : topic #9 (0.086): 0.056*\"beratung\" + 0.055*\"antrags\" + 0.045*\"90/die\" + 0.043*\"grünen\" + 0.043*\"bündnis\" + 0.031*\"fraktion\" + 0.026*\"weiterer\" + 0.026*\"abgeordneten\" + 0.025*\"abgeordneter\" + 0.022*\"dr.\"\n",
      "2019-08-07 12:09:40,266 : INFO : topic #4 (0.089): 0.062*\"dr.\" + 0.046*\"weiterer\" + 0.045*\"abgeordneter\" + 0.045*\"fraktion\" + 0.045*\"abgeordneten\" + 0.045*\"beratung\" + 0.040*\"antrags\" + 0.023*\"b\" + 0.018*\"afd\" + 0.015*\"linke\"\n",
      "2019-08-07 12:09:40,267 : INFO : topic #0 (0.092): 0.047*\"fraktion\" + 0.045*\"beratung\" + 0.035*\"weiterer\" + 0.033*\"abgeordneten\" + 0.033*\"abgeordneter\" + 0.024*\"antrags\" + 0.022*\"ausschusses\" + 0.022*\"ausschuss\" + 0.022*\"beschlussempfehlung\" + 0.016*\"afd\"\n",
      "2019-08-07 12:09:40,268 : INFO : topic diff=7.280497, rho=1.000000\n",
      "2019-08-07 12:09:40,523 : INFO : -5.930 per-word bound, 61.0 perplexity estimate based on a held-out corpus of 99 documents with 1214 words\n",
      "2019-08-07 12:09:40,524 : INFO : PROGRESS: pass 1, at document #99/99\n",
      "2019-08-07 12:09:40,663 : INFO : optimized alpha [0.08646455, 0.077287994, 0.0791024, 0.07151606, 0.08188345, 0.07454043, 0.066932924, 0.06821651, 0.06859761, 0.08264409]\n",
      "2019-08-07 12:09:40,687 : INFO : topic #6 (0.067): 0.043*\"beratung\" + 0.033*\"abgeordneter\" + 0.033*\"abgeordneten\" + 0.033*\"fraktion\" + 0.033*\"weiterer\" + 0.027*\"fdp\" + 0.023*\"antrags\" + 0.022*\"grigorios\" + 0.022*\"aggelidis,\" + 0.021*\"beschlussempfehlung\"\n",
      "2019-08-07 12:09:40,689 : INFO : topic #7 (0.068): 0.028*\"einzelplan\" + 0.028*\"hier:\" + 0.027*\"abgeordneter\" + 0.026*\"beratung\" + 0.026*\"abgeordneten\" + 0.026*\"dr.\" + 0.026*\"antrags\" + 0.025*\"fraktion\" + 0.025*\"weiterer\" + 0.019*\"nukleare\"\n",
      "2019-08-07 12:09:40,690 : INFO : topic #4 (0.082): 0.065*\"dr.\" + 0.046*\"weiterer\" + 0.045*\"abgeordneter\" + 0.045*\"abgeordneten\" + 0.045*\"fraktion\" + 0.045*\"beratung\" + 0.041*\"antrags\" + 0.023*\"b\" + 0.019*\"afd\" + 0.015*\"linke\"\n",
      "2019-08-07 12:09:40,691 : INFO : topic #9 (0.083): 0.058*\"beratung\" + 0.055*\"antrags\" + 0.053*\"90/die\" + 0.052*\"grünen\" + 0.052*\"bündnis\" + 0.036*\"fraktion\" + 0.028*\"abgeordneten\" + 0.027*\"weiterer\" + 0.027*\"abgeordneter\" + 0.023*\"dr.\"\n",
      "2019-08-07 12:09:40,692 : INFO : topic #0 (0.086): 0.048*\"fraktion\" + 0.044*\"beratung\" + 0.035*\"weiterer\" + 0.034*\"abgeordneter\" + 0.034*\"abgeordneten\" + 0.025*\"ausschusses\" + 0.025*\"ausschuss\" + 0.025*\"beschlussempfehlung\" + 0.025*\"antrags\" + 0.019*\"fdp\"\n",
      "2019-08-07 12:09:40,693 : INFO : topic diff=0.142350, rho=0.577350\n",
      "2019-08-07 12:09:40,913 : INFO : -5.833 per-word bound, 57.0 perplexity estimate based on a held-out corpus of 99 documents with 1214 words\n",
      "2019-08-07 12:09:40,915 : INFO : PROGRESS: pass 2, at document #99/99\n",
      "2019-08-07 12:09:41,061 : INFO : optimized alpha [0.082339376, 0.07281802, 0.073604785, 0.06508499, 0.076651976, 0.0693243, 0.061099656, 0.06280808, 0.062390447, 0.08097278]\n",
      "2019-08-07 12:09:41,085 : INFO : topic #6 (0.061): 0.044*\"beratung\" + 0.034*\"abgeordneter\" + 0.034*\"abgeordneten\" + 0.033*\"fraktion\" + 0.033*\"weiterer\" + 0.028*\"fdp\" + 0.024*\"antrags\" + 0.021*\"grigorios\" + 0.021*\"aggelidis,\" + 0.020*\"beschlussempfehlung\"\n",
      "2019-08-07 12:09:41,087 : INFO : topic #8 (0.062): 0.044*\"–\" + 0.040*\"fraktion\" + 0.033*\"antrag\" + 0.025*\"90/die\" + 0.025*\"bündnis\" + 0.025*\"grünen\" + 0.023*\"abgeordneten\" + 0.022*\"weiterer\" + 0.022*\"abgeordneter\" + 0.014*\"fdp\"\n",
      "2019-08-07 12:09:41,089 : INFO : topic #4 (0.077): 0.067*\"dr.\" + 0.046*\"weiterer\" + 0.046*\"abgeordneter\" + 0.046*\"abgeordneten\" + 0.045*\"fraktion\" + 0.044*\"beratung\" + 0.041*\"antrags\" + 0.023*\"b\" + 0.020*\"afd\" + 0.015*\"linke\"\n",
      "2019-08-07 12:09:41,091 : INFO : topic #9 (0.081): 0.059*\"90/die\" + 0.058*\"grünen\" + 0.058*\"bündnis\" + 0.058*\"beratung\" + 0.054*\"antrags\" + 0.038*\"fraktion\" + 0.028*\"abgeordneten\" + 0.027*\"weiterer\" + 0.027*\"abgeordneter\" + 0.024*\"dr.\"\n",
      "2019-08-07 12:09:41,093 : INFO : topic #0 (0.082): 0.049*\"fraktion\" + 0.043*\"beratung\" + 0.035*\"weiterer\" + 0.035*\"abgeordneter\" + 0.035*\"abgeordneten\" + 0.027*\"ausschusses\" + 0.027*\"beschlussempfehlung\" + 0.027*\"ausschuss\" + 0.025*\"antrags\" + 0.020*\"fdp\"\n",
      "2019-08-07 12:09:41,094 : INFO : topic diff=0.109675, rho=0.500000\n",
      "2019-08-07 12:09:41,327 : INFO : -5.773 per-word bound, 54.7 perplexity estimate based on a held-out corpus of 99 documents with 1214 words\n",
      "2019-08-07 12:09:41,329 : INFO : PROGRESS: pass 3, at document #99/99\n",
      "2019-08-07 12:09:41,455 : INFO : optimized alpha [0.079369135, 0.06926296, 0.069338575, 0.060287222, 0.07255166, 0.06528133, 0.056708056, 0.058714744, 0.057430007, 0.08023431]\n",
      "2019-08-07 12:09:41,479 : INFO : topic #6 (0.057): 0.044*\"beratung\" + 0.034*\"abgeordneter\" + 0.034*\"abgeordneten\" + 0.034*\"fraktion\" + 0.034*\"weiterer\" + 0.029*\"fdp\" + 0.024*\"antrags\" + 0.021*\"grigorios\" + 0.021*\"aggelidis,\" + 0.020*\"beschlussempfehlung\"\n",
      "2019-08-07 12:09:41,480 : INFO : topic #8 (0.057): 0.046*\"–\" + 0.038*\"fraktion\" + 0.034*\"antrag\" + 0.024*\"abgeordneten\" + 0.023*\"weiterer\" + 0.023*\"abgeordneter\" + 0.023*\"90/die\" + 0.023*\"bündnis\" + 0.023*\"grünen\" + 0.013*\"fdp\"\n",
      "2019-08-07 12:09:41,481 : INFO : topic #4 (0.073): 0.068*\"dr.\" + 0.046*\"weiterer\" + 0.046*\"abgeordneter\" + 0.045*\"abgeordneten\" + 0.045*\"fraktion\" + 0.044*\"beratung\" + 0.041*\"antrags\" + 0.023*\"b\" + 0.020*\"afd\" + 0.016*\"linke\"\n",
      "2019-08-07 12:09:41,482 : INFO : topic #0 (0.079): 0.049*\"fraktion\" + 0.043*\"beratung\" + 0.035*\"weiterer\" + 0.035*\"abgeordneter\" + 0.035*\"abgeordneten\" + 0.028*\"ausschusses\" + 0.028*\"beschlussempfehlung\" + 0.028*\"ausschuss\" + 0.025*\"antrags\" + 0.021*\"fdp\"\n",
      "2019-08-07 12:09:41,483 : INFO : topic #9 (0.080): 0.063*\"90/die\" + 0.063*\"grünen\" + 0.063*\"bündnis\" + 0.058*\"beratung\" + 0.053*\"antrags\" + 0.040*\"fraktion\" + 0.029*\"abgeordneten\" + 0.028*\"weiterer\" + 0.028*\"abgeordneter\" + 0.024*\"dr.\"\n",
      "2019-08-07 12:09:41,485 : INFO : topic diff=0.088031, rho=0.447214\n",
      "2019-08-07 12:09:41,715 : INFO : -5.734 per-word bound, 53.2 perplexity estimate based on a held-out corpus of 99 documents with 1214 words\n",
      "2019-08-07 12:09:41,717 : INFO : PROGRESS: pass 4, at document #99/99\n",
      "2019-08-07 12:09:41,842 : INFO : optimized alpha [0.076821506, 0.066330686, 0.06588415, 0.056511518, 0.06920828, 0.062010903, 0.053227615, 0.055439204, 0.053549625, 0.079782516]\n",
      "2019-08-07 12:09:41,865 : INFO : topic #6 (0.053): 0.045*\"beratung\" + 0.034*\"abgeordneter\" + 0.034*\"abgeordneten\" + 0.034*\"fraktion\" + 0.034*\"weiterer\" + 0.029*\"fdp\" + 0.024*\"antrags\" + 0.020*\"grigorios\" + 0.020*\"aggelidis,\" + 0.020*\"beschlussempfehlung\"\n",
      "2019-08-07 12:09:41,867 : INFO : topic #8 (0.054): 0.047*\"–\" + 0.037*\"fraktion\" + 0.035*\"antrag\" + 0.024*\"abgeordneten\" + 0.024*\"weiterer\" + 0.024*\"abgeordneter\" + 0.021*\"90/die\" + 0.021*\"bündnis\" + 0.021*\"grünen\" + 0.013*\"fdp\"\n",
      "2019-08-07 12:09:41,868 : INFO : topic #4 (0.069): 0.069*\"dr.\" + 0.045*\"weiterer\" + 0.045*\"abgeordneter\" + 0.045*\"abgeordneten\" + 0.044*\"fraktion\" + 0.043*\"beratung\" + 0.041*\"antrags\" + 0.023*\"b\" + 0.021*\"afd\" + 0.016*\"linke\"\n"
     ]
    },
    {
     "name": "stderr",
     "output_type": "stream",
     "text": [
      "2019-08-07 12:09:41,869 : INFO : topic #0 (0.077): 0.049*\"fraktion\" + 0.043*\"beratung\" + 0.036*\"abgeordneter\" + 0.036*\"weiterer\" + 0.035*\"abgeordneten\" + 0.028*\"ausschusses\" + 0.028*\"beschlussempfehlung\" + 0.028*\"ausschuss\" + 0.025*\"antrags\" + 0.021*\"berichts\"\n",
      "2019-08-07 12:09:41,870 : INFO : topic #9 (0.080): 0.066*\"90/die\" + 0.066*\"grünen\" + 0.066*\"bündnis\" + 0.059*\"beratung\" + 0.052*\"antrags\" + 0.042*\"fraktion\" + 0.029*\"abgeordneten\" + 0.028*\"weiterer\" + 0.028*\"abgeordneter\" + 0.025*\"dr.\"\n",
      "2019-08-07 12:09:41,871 : INFO : topic diff=0.068424, rho=0.408248\n",
      "2019-08-07 12:09:42,082 : INFO : -5.710 per-word bound, 52.3 perplexity estimate based on a held-out corpus of 99 documents with 1214 words\n",
      "2019-08-07 12:09:42,083 : INFO : PROGRESS: pass 5, at document #99/99\n",
      "2019-08-07 12:09:42,197 : INFO : optimized alpha [0.074617215, 0.06386206, 0.06329118, 0.0534401, 0.06640918, 0.059296377, 0.050380312, 0.053161733, 0.05040785, 0.07958908]\n",
      "2019-08-07 12:09:42,223 : INFO : topic #6 (0.050): 0.045*\"beratung\" + 0.035*\"abgeordneter\" + 0.035*\"fraktion\" + 0.035*\"abgeordneten\" + 0.034*\"weiterer\" + 0.029*\"fdp\" + 0.024*\"antrags\" + 0.020*\"grigorios\" + 0.020*\"aggelidis,\" + 0.020*\"beschlussempfehlung\"\n",
      "2019-08-07 12:09:42,225 : INFO : topic #8 (0.050): 0.048*\"–\" + 0.036*\"antrag\" + 0.035*\"fraktion\" + 0.025*\"abgeordneten\" + 0.024*\"weiterer\" + 0.024*\"abgeordneter\" + 0.019*\"90/die\" + 0.019*\"bündnis\" + 0.019*\"grünen\" + 0.013*\"fdp\"\n",
      "2019-08-07 12:09:42,226 : INFO : topic #4 (0.066): 0.070*\"dr.\" + 0.046*\"weiterer\" + 0.046*\"abgeordneter\" + 0.045*\"abgeordneten\" + 0.044*\"fraktion\" + 0.043*\"beratung\" + 0.041*\"antrags\" + 0.023*\"b\" + 0.021*\"afd\" + 0.016*\"linke\"\n",
      "2019-08-07 12:09:42,227 : INFO : topic #0 (0.075): 0.049*\"fraktion\" + 0.042*\"beratung\" + 0.036*\"abgeordneter\" + 0.036*\"weiterer\" + 0.035*\"abgeordneten\" + 0.029*\"ausschusses\" + 0.029*\"beschlussempfehlung\" + 0.029*\"ausschuss\" + 0.025*\"antrags\" + 0.022*\"berichts\"\n",
      "2019-08-07 12:09:42,228 : INFO : topic #9 (0.080): 0.069*\"90/die\" + 0.068*\"grünen\" + 0.068*\"bündnis\" + 0.059*\"beratung\" + 0.052*\"antrags\" + 0.043*\"fraktion\" + 0.030*\"abgeordneten\" + 0.029*\"weiterer\" + 0.029*\"abgeordneter\" + 0.026*\"dr.\"\n",
      "2019-08-07 12:09:42,229 : INFO : topic diff=0.054747, rho=0.377964\n",
      "2019-08-07 12:09:42,442 : INFO : -5.691 per-word bound, 51.6 perplexity estimate based on a held-out corpus of 99 documents with 1214 words\n",
      "2019-08-07 12:09:42,443 : INFO : PROGRESS: pass 6, at document #99/99\n",
      "2019-08-07 12:09:42,565 : INFO : optimized alpha [0.07267323, 0.06173515, 0.061067592, 0.050866872, 0.06401351, 0.056985676, 0.047986165, 0.051402412, 0.04778905, 0.07928651]\n",
      "2019-08-07 12:09:42,589 : INFO : topic #8 (0.048): 0.048*\"–\" + 0.036*\"antrag\" + 0.034*\"fraktion\" + 0.025*\"abgeordneten\" + 0.025*\"weiterer\" + 0.025*\"abgeordneter\" + 0.018*\"90/die\" + 0.018*\"bündnis\" + 0.018*\"grünen\" + 0.013*\"fdp\"\n",
      "2019-08-07 12:09:42,591 : INFO : topic #6 (0.048): 0.045*\"beratung\" + 0.035*\"fraktion\" + 0.035*\"abgeordneter\" + 0.035*\"abgeordneten\" + 0.035*\"weiterer\" + 0.029*\"fdp\" + 0.025*\"antrags\" + 0.020*\"grigorios\" + 0.020*\"aggelidis,\" + 0.020*\"beschlussempfehlung\"\n",
      "2019-08-07 12:09:42,592 : INFO : topic #4 (0.064): 0.071*\"dr.\" + 0.046*\"weiterer\" + 0.046*\"abgeordneter\" + 0.046*\"abgeordneten\" + 0.044*\"fraktion\" + 0.043*\"beratung\" + 0.041*\"antrags\" + 0.023*\"b\" + 0.021*\"afd\" + 0.016*\"linke\"\n",
      "2019-08-07 12:09:42,593 : INFO : topic #0 (0.073): 0.049*\"fraktion\" + 0.042*\"beratung\" + 0.036*\"abgeordneter\" + 0.036*\"weiterer\" + 0.036*\"abgeordneten\" + 0.029*\"ausschusses\" + 0.029*\"beschlussempfehlung\" + 0.029*\"ausschuss\" + 0.025*\"antrags\" + 0.022*\"berichts\"\n",
      "2019-08-07 12:09:42,595 : INFO : topic #9 (0.079): 0.070*\"90/die\" + 0.070*\"grünen\" + 0.070*\"bündnis\" + 0.059*\"beratung\" + 0.051*\"antrags\" + 0.044*\"fraktion\" + 0.030*\"abgeordneten\" + 0.029*\"weiterer\" + 0.029*\"abgeordneter\" + 0.026*\"dr.\"\n",
      "2019-08-07 12:09:42,596 : INFO : topic diff=0.043302, rho=0.353553\n",
      "2019-08-07 12:09:42,808 : INFO : -5.676 per-word bound, 51.1 perplexity estimate based on a held-out corpus of 99 documents with 1214 words\n",
      "2019-08-07 12:09:42,809 : INFO : PROGRESS: pass 7, at document #99/99\n",
      "2019-08-07 12:09:42,929 : INFO : optimized alpha [0.07094066, 0.059876192, 0.059130374, 0.04866922, 0.061933033, 0.05498589, 0.045934662, 0.04986476, 0.045561403, 0.07918616]\n",
      "2019-08-07 12:09:42,953 : INFO : topic #8 (0.046): 0.049*\"–\" + 0.037*\"antrag\" + 0.033*\"fraktion\" + 0.025*\"abgeordneten\" + 0.025*\"weiterer\" + 0.025*\"abgeordneter\" + 0.017*\"90/die\" + 0.017*\"bündnis\" + 0.017*\"grünen\" + 0.013*\"fdp\"\n",
      "2019-08-07 12:09:42,955 : INFO : topic #6 (0.046): 0.045*\"beratung\" + 0.035*\"fraktion\" + 0.035*\"abgeordneter\" + 0.035*\"abgeordneten\" + 0.035*\"weiterer\" + 0.029*\"fdp\" + 0.025*\"antrags\" + 0.020*\"grigorios\" + 0.020*\"aggelidis,\" + 0.020*\"beschlussempfehlung\"\n",
      "2019-08-07 12:09:42,956 : INFO : topic #4 (0.062): 0.071*\"dr.\" + 0.046*\"weiterer\" + 0.046*\"abgeordneter\" + 0.046*\"abgeordneten\" + 0.044*\"fraktion\" + 0.043*\"beratung\" + 0.041*\"antrags\" + 0.023*\"b\" + 0.022*\"afd\" + 0.016*\"linke\"\n",
      "2019-08-07 12:09:42,957 : INFO : topic #0 (0.071): 0.049*\"fraktion\" + 0.042*\"beratung\" + 0.036*\"abgeordneter\" + 0.036*\"weiterer\" + 0.036*\"abgeordneten\" + 0.029*\"ausschusses\" + 0.029*\"beschlussempfehlung\" + 0.029*\"ausschuss\" + 0.025*\"antrags\" + 0.022*\"berichts\"\n",
      "2019-08-07 12:09:42,958 : INFO : topic #9 (0.079): 0.072*\"90/die\" + 0.072*\"grünen\" + 0.072*\"bündnis\" + 0.059*\"beratung\" + 0.051*\"antrags\" + 0.045*\"fraktion\" + 0.031*\"abgeordneten\" + 0.029*\"weiterer\" + 0.029*\"abgeordneter\" + 0.027*\"dr.\"\n",
      "2019-08-07 12:09:42,960 : INFO : topic diff=0.034854, rho=0.333333\n",
      "2019-08-07 12:09:43,256 : INFO : -5.664 per-word bound, 50.7 perplexity estimate based on a held-out corpus of 99 documents with 1214 words\n",
      "2019-08-07 12:09:43,257 : INFO : PROGRESS: pass 8, at document #99/99\n",
      "2019-08-07 12:09:43,419 : INFO : optimized alpha [0.06937807, 0.058227953, 0.057417367, 0.046760634, 0.060099445, 0.053228274, 0.044147573, 0.04849744, 0.043633193, 0.07899556]\n",
      "2019-08-07 12:09:43,448 : INFO : topic #8 (0.044): 0.049*\"–\" + 0.037*\"antrag\" + 0.033*\"fraktion\" + 0.025*\"abgeordneten\" + 0.025*\"weiterer\" + 0.025*\"abgeordneter\" + 0.017*\"90/die\" + 0.017*\"bündnis\" + 0.017*\"grünen\" + 0.013*\"fdp\"\n",
      "2019-08-07 12:09:43,449 : INFO : topic #6 (0.044): 0.045*\"beratung\" + 0.035*\"fraktion\" + 0.035*\"abgeordneter\" + 0.035*\"abgeordneten\" + 0.035*\"weiterer\" + 0.029*\"fdp\" + 0.025*\"antrags\" + 0.020*\"grigorios\" + 0.020*\"aggelidis,\" + 0.020*\"beschlussempfehlung\"\n",
      "2019-08-07 12:09:43,450 : INFO : topic #4 (0.060): 0.071*\"dr.\" + 0.046*\"weiterer\" + 0.046*\"abgeordneter\" + 0.046*\"abgeordneten\" + 0.044*\"fraktion\" + 0.043*\"beratung\" + 0.041*\"antrags\" + 0.023*\"b\" + 0.022*\"afd\" + 0.016*\"linke\"\n",
      "2019-08-07 12:09:43,451 : INFO : topic #0 (0.069): 0.049*\"fraktion\" + 0.042*\"beratung\" + 0.036*\"abgeordneter\" + 0.036*\"weiterer\" + 0.036*\"abgeordneten\" + 0.029*\"ausschusses\" + 0.029*\"beschlussempfehlung\" + 0.029*\"ausschuss\" + 0.025*\"antrags\" + 0.022*\"berichts\"\n",
      "2019-08-07 12:09:43,453 : INFO : topic #9 (0.079): 0.073*\"90/die\" + 0.073*\"grünen\" + 0.073*\"bündnis\" + 0.059*\"beratung\" + 0.051*\"antrags\" + 0.046*\"fraktion\" + 0.031*\"abgeordneten\" + 0.030*\"weiterer\" + 0.030*\"abgeordneter\" + 0.027*\"dr.\"\n",
      "2019-08-07 12:09:43,454 : INFO : topic diff=0.027943, rho=0.316228\n",
      "2019-08-07 12:09:43,671 : INFO : -5.656 per-word bound, 50.4 perplexity estimate based on a held-out corpus of 99 documents with 1214 words\n",
      "2019-08-07 12:09:43,673 : INFO : PROGRESS: pass 9, at document #99/99\n",
      "2019-08-07 12:09:43,790 : INFO : optimized alpha [0.06817927, 0.05675644, 0.055891212, 0.045084815, 0.05847118, 0.051669966, 0.042574048, 0.047272056, 0.041809354, 0.07899583]\n",
      "2019-08-07 12:09:43,814 : INFO : topic #8 (0.042): 0.050*\"–\" + 0.038*\"antrag\" + 0.031*\"fraktion\" + 0.025*\"abgeordneten\" + 0.025*\"abgeordneter\" + 0.025*\"weiterer\" + 0.015*\"90/die\" + 0.015*\"bündnis\" + 0.015*\"grünen\" + 0.013*\"fdp\"\n",
      "2019-08-07 12:09:43,815 : INFO : topic #6 (0.043): 0.045*\"beratung\" + 0.035*\"fraktion\" + 0.035*\"abgeordneter\" + 0.035*\"abgeordneten\" + 0.035*\"weiterer\" + 0.029*\"fdp\" + 0.025*\"antrags\" + 0.020*\"grigorios\" + 0.020*\"aggelidis,\" + 0.020*\"beschlussempfehlung\"\n",
      "2019-08-07 12:09:43,818 : INFO : topic #4 (0.058): 0.072*\"dr.\" + 0.046*\"weiterer\" + 0.046*\"abgeordneter\" + 0.046*\"abgeordneten\" + 0.044*\"fraktion\" + 0.043*\"beratung\" + 0.041*\"antrags\" + 0.023*\"b\" + 0.022*\"afd\" + 0.017*\"linke\"\n"
     ]
    },
    {
     "name": "stderr",
     "output_type": "stream",
     "text": [
      "2019-08-07 12:09:43,821 : INFO : topic #0 (0.068): 0.050*\"fraktion\" + 0.042*\"beratung\" + 0.036*\"abgeordneter\" + 0.036*\"weiterer\" + 0.036*\"abgeordneten\" + 0.029*\"ausschusses\" + 0.029*\"beschlussempfehlung\" + 0.029*\"ausschuss\" + 0.025*\"antrags\" + 0.023*\"berichts\"\n",
      "2019-08-07 12:09:43,824 : INFO : topic #9 (0.079): 0.074*\"90/die\" + 0.074*\"grünen\" + 0.074*\"bündnis\" + 0.059*\"beratung\" + 0.051*\"antrags\" + 0.046*\"fraktion\" + 0.031*\"abgeordneten\" + 0.030*\"weiterer\" + 0.030*\"abgeordneter\" + 0.028*\"dr.\"\n",
      "2019-08-07 12:09:43,826 : INFO : topic diff=0.023772, rho=0.301511\n"
     ]
    }
   ],
   "source": [
    "# Build LDA model\n",
    "lda_model = gensim.models.ldamodel.LdaModel(corpus=agenda_corpus,\n",
    "                                           id2word=dictionary,\n",
    "                                           num_topics=10, \n",
    "                                           random_state=100,\n",
    "                                           update_every=1,\n",
    "                                           chunksize=100,\n",
    "                                           passes=10,\n",
    "                                           alpha='auto',\n",
    "                                           per_word_topics=True)"
   ]
  },
  {
   "cell_type": "code",
   "execution_count": 27,
   "metadata": {
    "scrolled": false
   },
   "outputs": [],
   "source": [
    "doc_lda = lda_model[agenda_corpus]"
   ]
  },
  {
   "cell_type": "code",
   "execution_count": 26,
   "metadata": {},
   "outputs": [
    {
     "name": "stderr",
     "output_type": "stream",
     "text": [
      "2019-08-07 12:24:38,451 : INFO : topic #0 (0.068): 0.050*\"fraktion\" + 0.042*\"beratung\" + 0.036*\"abgeordneter\" + 0.036*\"weiterer\" + 0.036*\"abgeordneten\" + 0.029*\"ausschusses\" + 0.029*\"beschlussempfehlung\" + 0.029*\"ausschuss\" + 0.025*\"antrags\" + 0.023*\"berichts\"\n",
      "2019-08-07 12:24:38,452 : INFO : topic #1 (0.057): 0.061*\"bundesregierung\" + 0.059*\"beratung\" + 0.045*\"entwurfs\" + 0.045*\"eingebrachten\" + 0.045*\"gesetzes\" + 0.034*\"erste\" + 0.017*\"2019\" + 0.012*\"abgeordneten\" + 0.012*\"–\" + 0.012*\"2018\"\n",
      "2019-08-07 12:24:38,453 : INFO : topic #2 (0.056): 0.064*\"dr.\" + 0.054*\"abgeordneter\" + 0.053*\"weiterer\" + 0.053*\"abgeordneten\" + 0.052*\"fraktion\" + 0.049*\"beratung\" + 0.043*\"antrags\" + 0.019*\"afd\" + 0.015*\"berichts\" + 0.015*\"antrag\"\n",
      "2019-08-07 12:24:38,454 : INFO : topic #3 (0.045): 0.043*\"fraktion\" + 0.041*\"linke\" + 0.032*\"antrags\" + 0.032*\"beratung\" + 0.031*\"abgeordneten\" + 0.031*\"abgeordneter\" + 0.031*\"weiterer\" + 0.021*\"dr.\" + 0.021*\"c\" + 0.021*\"matthias\"\n",
      "2019-08-07 12:24:38,456 : INFO : topic #4 (0.058): 0.072*\"dr.\" + 0.046*\"weiterer\" + 0.046*\"abgeordneter\" + 0.046*\"abgeordneten\" + 0.044*\"fraktion\" + 0.043*\"beratung\" + 0.041*\"antrags\" + 0.023*\"b\" + 0.022*\"afd\" + 0.017*\"linke\"\n",
      "2019-08-07 12:24:38,458 : INFO : topic #5 (0.052): 0.050*\"beratung\" + 0.044*\"abgeordneten\" + 0.037*\"fraktion\" + 0.033*\"weiterer\" + 0.027*\"antrags\" + 0.027*\"abgeordneter\" + 0.017*\"aggelidis,\" + 0.016*\"grigorios\" + 0.014*\"fdp\" + 0.013*\"unterrichtung\"\n",
      "2019-08-07 12:24:38,459 : INFO : topic #6 (0.043): 0.045*\"beratung\" + 0.035*\"fraktion\" + 0.035*\"abgeordneter\" + 0.035*\"abgeordneten\" + 0.035*\"weiterer\" + 0.029*\"fdp\" + 0.025*\"antrags\" + 0.020*\"grigorios\" + 0.020*\"aggelidis,\" + 0.020*\"beschlussempfehlung\"\n",
      "2019-08-07 12:24:38,460 : INFO : topic #7 (0.047): 0.089*\"hier:\" + 0.087*\"einzelplan\" + 0.054*\"bundesministerium\" + 0.023*\"nukleare\" + 0.023*\"naturschutz\" + 0.023*\"umwelt,\" + 0.023*\"sicherheit\" + 0.023*\"16\" + 0.022*\"09\" + 0.012*\"oliver\"\n",
      "2019-08-07 12:24:38,462 : INFO : topic #8 (0.042): 0.050*\"–\" + 0.038*\"antrag\" + 0.031*\"fraktion\" + 0.025*\"abgeordneten\" + 0.025*\"abgeordneter\" + 0.025*\"weiterer\" + 0.015*\"90/die\" + 0.015*\"bündnis\" + 0.015*\"grünen\" + 0.013*\"fdp\"\n",
      "2019-08-07 12:24:38,463 : INFO : topic #9 (0.079): 0.074*\"90/die\" + 0.074*\"grünen\" + 0.074*\"bündnis\" + 0.059*\"beratung\" + 0.051*\"antrags\" + 0.046*\"fraktion\" + 0.031*\"abgeordneten\" + 0.030*\"weiterer\" + 0.030*\"abgeordneter\" + 0.028*\"dr.\"\n"
     ]
    },
    {
     "name": "stdout",
     "output_type": "stream",
     "text": [
      "[(0,\n",
      "'0.050*\"fraktion\" + 0.042*\"beratung\" + 0.036*\"abgeordneter\" + 0.036*\"weiterer\" '\n",
      "'+ 0.036*\"abgeordneten\" + 0.029*\"ausschusses\" + 0.029*\"beschlussempfehlung\" + '\n",
      "'0.029*\"ausschuss\" + 0.025*\"antrags\" + 0.023*\"berichts\"'),\n",
      "(1,\n",
      "'0.061*\"bundesregierung\" + 0.059*\"beratung\" + 0.045*\"entwurfs\" + '\n",
      "'0.045*\"eingebrachten\" + 0.045*\"gesetzes\" + 0.034*\"erste\" + 0.017*\"2019\" + '\n",
      "'0.012*\"abgeordneten\" + 0.012*\"–\" + 0.012*\"2018\"'),\n",
      "(2,\n",
      "'0.064*\"dr.\" + 0.054*\"abgeordneter\" + 0.053*\"weiterer\" + 0.053*\"abgeordneten\" '\n",
      "'+ 0.052*\"fraktion\" + 0.049*\"beratung\" + 0.043*\"antrags\" + 0.019*\"afd\" + '\n",
      "'0.015*\"berichts\" + 0.015*\"antrag\"'),\n",
      "(3,\n",
      "'0.043*\"fraktion\" + 0.041*\"linke\" + 0.032*\"antrags\" + 0.032*\"beratung\" + '\n",
      "'0.031*\"abgeordneten\" + 0.031*\"abgeordneter\" + 0.031*\"weiterer\" + 0.021*\"dr.\" '\n",
      "'+ 0.021*\"c\" + 0.021*\"matthias\"'),\n",
      "(4,\n",
      "'0.072*\"dr.\" + 0.046*\"weiterer\" + 0.046*\"abgeordneter\" + 0.046*\"abgeordneten\" '\n",
      "'+ 0.044*\"fraktion\" + 0.043*\"beratung\" + 0.041*\"antrags\" + 0.023*\"b\" + '\n",
      "'0.022*\"afd\" + 0.017*\"linke\"'),\n",
      "(5,\n",
      "'0.050*\"beratung\" + 0.044*\"abgeordneten\" + 0.037*\"fraktion\" + 0.033*\"weiterer\" '\n",
      "'+ 0.027*\"antrags\" + 0.027*\"abgeordneter\" + 0.017*\"aggelidis,\" + '\n",
      "'0.016*\"grigorios\" + 0.014*\"fdp\" + 0.013*\"unterrichtung\"'),\n",
      "(6,\n",
      "'0.045*\"beratung\" + 0.035*\"fraktion\" + 0.035*\"abgeordneter\" + '\n",
      "'0.035*\"abgeordneten\" + 0.035*\"weiterer\" + 0.029*\"fdp\" + 0.025*\"antrags\" + '\n",
      "'0.020*\"grigorios\" + 0.020*\"aggelidis,\" + 0.020*\"beschlussempfehlung\"'),\n",
      "(7,\n",
      "'0.089*\"hier:\" + 0.087*\"einzelplan\" + 0.054*\"bundesministerium\" + '\n",
      "'0.023*\"nukleare\" + 0.023*\"naturschutz\" + 0.023*\"umwelt,\" + 0.023*\"sicherheit\" '\n",
      "'+ 0.023*\"16\" + 0.022*\"09\" + 0.012*\"oliver\"'),\n",
      "(8,\n",
      "'0.050*\"–\" + 0.038*\"antrag\" + 0.031*\"fraktion\" + 0.025*\"abgeordneten\" + '\n",
      "'0.025*\"abgeordneter\" + 0.025*\"weiterer\" + 0.015*\"90/die\" + 0.015*\"bündnis\" + '\n",
      "'0.015*\"grünen\" + 0.013*\"fdp\"'),\n",
      "(9,\n",
      "'0.074*\"90/die\" + 0.074*\"grünen\" + 0.074*\"bündnis\" + 0.059*\"beratung\" + '\n",
      "'0.051*\"antrags\" + 0.046*\"fraktion\" + 0.031*\"abgeordneten\" + 0.030*\"weiterer\" '\n",
      "'+ 0.030*\"abgeordneter\" + 0.028*\"dr.\"')]\n"
     ]
    }
   ],
   "source": [
    "import pprint\n",
    "pp = pprint.PrettyPrinter(indent=0)\n",
    "pp.pprint(lda_model.print_topics())"
   ]
  },
  {
   "cell_type": "markdown",
   "metadata": {},
   "source": [
    "### Visualising results of topic model"
   ]
  },
  {
   "cell_type": "code",
   "execution_count": 18,
   "metadata": {},
   "outputs": [
    {
     "name": "stderr",
     "output_type": "stream",
     "text": [
      "2019-08-07 12:10:09,871 : INFO : Generating grammar tables from /usr/lib/python3.6/lib2to3/Grammar.txt\n",
      "2019-08-07 12:10:09,919 : INFO : Generating grammar tables from /usr/lib/python3.6/lib2to3/PatternGrammar.txt\n",
      "/home/leey/tmv/BasicBrowser/venv/lib/python3.6/site-packages/pyLDAvis/_prepare.py:257: FutureWarning: Sorting because non-concatenation axis is not aligned. A future version\n",
      "of pandas will change to not sort by default.\n",
      "\n",
      "To accept the future behavior, pass 'sort=False'.\n",
      "\n",
      "To retain the current behavior and silence the warning, pass 'sort=True'.\n",
      "\n",
      "  return pd.concat([default_term_info] + list(topic_dfs))\n"
     ]
    },
    {
     "data": {
      "text/html": [
       "\n",
       "<link rel=\"stylesheet\" type=\"text/css\" href=\"https://cdn.rawgit.com/bmabey/pyLDAvis/files/ldavis.v1.0.0.css\">\n",
       "\n",
       "\n",
       "<div id=\"ldavis_el242931405380546391927055306430\"></div>\n",
       "<script type=\"text/javascript\">\n",
       "\n",
       "var ldavis_el242931405380546391927055306430_data = {\"mdsDat\": {\"x\": [-0.11790140201200905, -0.09890824417653135, -0.09322390078536988, -0.060044509493194766, 0.24647783219037595, 0.06150650249568056, -0.03290415444744132, 0.019701206767662915, 0.07466558510884001, 0.0006310843519870995], \"y\": [-0.0670431997826871, 0.05483935284761771, 0.03210341185171076, 0.041981681411455855, 0.06189585254302741, 0.06687936691015534, 0.04316558325023856, -0.001573069042491091, -0.19907519708144142, -0.0331737829075858], \"topics\": [1, 2, 3, 4, 5, 6, 7, 8, 9, 10], \"cluster\": [1, 1, 1, 1, 1, 1, 1, 1, 1, 1], \"Freq\": [19.221393585205078, 14.946005821228027, 13.923036575317383, 11.937613487243652, 11.558359146118164, 10.309101104736328, 5.546083927154541, 4.92270565032959, 4.267294883728027, 3.3684096336364746]}, \"tinfo\": {\"Category\": [\"Default\", \"Default\", \"Default\", \"Default\", \"Default\", \"Default\", \"Default\", \"Default\", \"Default\", \"Default\", \"Default\", \"Default\", \"Default\", \"Default\", \"Default\", \"Default\", \"Default\", \"Default\", \"Default\", \"Default\", \"Default\", \"Default\", \"Default\", \"Default\", \"Default\", \"Default\", \"Default\", \"Default\", \"Default\", \"Default\", \"Topic1\", \"Topic1\", \"Topic1\", \"Topic1\", \"Topic1\", \"Topic1\", \"Topic1\", \"Topic1\", \"Topic1\", \"Topic1\", \"Topic1\", \"Topic1\", \"Topic1\", \"Topic1\", \"Topic1\", \"Topic1\", \"Topic1\", \"Topic1\", \"Topic1\", \"Topic1\", \"Topic1\", \"Topic1\", \"Topic1\", \"Topic1\", \"Topic1\", \"Topic1\", \"Topic1\", \"Topic1\", \"Topic1\", \"Topic1\", \"Topic1\", \"Topic1\", \"Topic1\", \"Topic1\", \"Topic1\", \"Topic1\", \"Topic1\", \"Topic1\", \"Topic1\", \"Topic1\", \"Topic1\", \"Topic2\", \"Topic2\", \"Topic2\", \"Topic2\", \"Topic2\", \"Topic2\", \"Topic2\", \"Topic2\", \"Topic2\", \"Topic2\", \"Topic2\", \"Topic2\", \"Topic2\", \"Topic2\", \"Topic2\", \"Topic2\", \"Topic2\", \"Topic2\", \"Topic2\", \"Topic2\", \"Topic2\", \"Topic2\", \"Topic2\", \"Topic2\", \"Topic2\", \"Topic2\", \"Topic2\", \"Topic2\", \"Topic2\", \"Topic2\", \"Topic2\", \"Topic2\", \"Topic2\", \"Topic2\", \"Topic2\", \"Topic2\", \"Topic2\", \"Topic2\", \"Topic2\", \"Topic2\", \"Topic2\", \"Topic2\", \"Topic2\", \"Topic2\", \"Topic2\", \"Topic2\", \"Topic2\", \"Topic2\", \"Topic2\", \"Topic2\", \"Topic3\", \"Topic3\", \"Topic3\", \"Topic3\", \"Topic3\", \"Topic3\", \"Topic3\", \"Topic3\", \"Topic3\", \"Topic3\", \"Topic3\", \"Topic3\", \"Topic3\", \"Topic3\", \"Topic3\", \"Topic3\", \"Topic3\", \"Topic3\", \"Topic3\", \"Topic3\", \"Topic3\", \"Topic3\", \"Topic3\", \"Topic3\", \"Topic3\", \"Topic3\", \"Topic3\", \"Topic3\", \"Topic3\", \"Topic3\", \"Topic3\", \"Topic3\", \"Topic3\", \"Topic3\", \"Topic3\", \"Topic3\", \"Topic3\", \"Topic3\", \"Topic3\", \"Topic3\", \"Topic3\", \"Topic3\", \"Topic3\", \"Topic3\", \"Topic3\", \"Topic3\", \"Topic3\", \"Topic3\", \"Topic3\", \"Topic3\", \"Topic3\", \"Topic3\", \"Topic3\", \"Topic4\", \"Topic4\", \"Topic4\", \"Topic4\", \"Topic4\", \"Topic4\", \"Topic4\", \"Topic4\", \"Topic4\", \"Topic4\", \"Topic4\", \"Topic4\", \"Topic4\", \"Topic4\", \"Topic4\", \"Topic4\", \"Topic4\", \"Topic4\", \"Topic4\", \"Topic4\", \"Topic4\", \"Topic4\", \"Topic4\", \"Topic4\", \"Topic4\", \"Topic4\", \"Topic4\", \"Topic4\", \"Topic4\", \"Topic4\", \"Topic4\", \"Topic4\", \"Topic4\", \"Topic4\", \"Topic4\", \"Topic4\", \"Topic4\", \"Topic4\", \"Topic4\", \"Topic4\", \"Topic4\", \"Topic4\", \"Topic4\", \"Topic4\", \"Topic4\", \"Topic5\", \"Topic5\", \"Topic5\", \"Topic5\", \"Topic5\", \"Topic5\", \"Topic5\", \"Topic5\", \"Topic5\", \"Topic5\", \"Topic5\", \"Topic5\", \"Topic5\", \"Topic5\", \"Topic5\", \"Topic5\", \"Topic5\", \"Topic5\", \"Topic5\", \"Topic5\", \"Topic5\", \"Topic5\", \"Topic5\", \"Topic5\", \"Topic5\", \"Topic5\", \"Topic5\", \"Topic5\", \"Topic5\", \"Topic5\", \"Topic5\", \"Topic5\", \"Topic5\", \"Topic5\", \"Topic5\", \"Topic5\", \"Topic5\", \"Topic5\", \"Topic5\", \"Topic5\", \"Topic5\", \"Topic5\", \"Topic5\", \"Topic5\", \"Topic5\", \"Topic5\", \"Topic5\", \"Topic5\", \"Topic5\", \"Topic5\", \"Topic5\", \"Topic5\", \"Topic5\", \"Topic5\", \"Topic5\", \"Topic6\", \"Topic6\", \"Topic6\", \"Topic6\", \"Topic6\", \"Topic6\", \"Topic6\", \"Topic6\", \"Topic6\", \"Topic6\", \"Topic6\", \"Topic6\", \"Topic6\", \"Topic6\", \"Topic6\", \"Topic6\", \"Topic6\", \"Topic6\", \"Topic6\", \"Topic6\", \"Topic6\", \"Topic6\", \"Topic6\", \"Topic6\", \"Topic6\", \"Topic6\", \"Topic6\", \"Topic6\", \"Topic6\", \"Topic6\", \"Topic6\", \"Topic6\", \"Topic6\", \"Topic6\", \"Topic6\", \"Topic6\", \"Topic6\", \"Topic6\", \"Topic6\", \"Topic6\", \"Topic6\", \"Topic6\", \"Topic6\", \"Topic6\", \"Topic6\", \"Topic6\", \"Topic6\", \"Topic6\", \"Topic6\", \"Topic6\", \"Topic7\", \"Topic7\", \"Topic7\", \"Topic7\", \"Topic7\", \"Topic7\", \"Topic7\", \"Topic7\", \"Topic7\", \"Topic7\", \"Topic7\", \"Topic7\", \"Topic7\", \"Topic7\", \"Topic7\", \"Topic7\", \"Topic7\", \"Topic7\", \"Topic7\", \"Topic7\", \"Topic7\", \"Topic7\", \"Topic7\", \"Topic7\", \"Topic7\", \"Topic7\", \"Topic7\", \"Topic7\", \"Topic7\", \"Topic7\", \"Topic7\", \"Topic7\", \"Topic7\", \"Topic7\", \"Topic7\", \"Topic7\", \"Topic8\", \"Topic8\", \"Topic8\", \"Topic8\", \"Topic8\", \"Topic8\", \"Topic8\", \"Topic8\", \"Topic8\", \"Topic8\", \"Topic8\", \"Topic8\", \"Topic8\", \"Topic8\", \"Topic8\", \"Topic8\", \"Topic8\", \"Topic8\", \"Topic8\", \"Topic8\", \"Topic8\", \"Topic8\", \"Topic8\", \"Topic8\", \"Topic8\", \"Topic8\", \"Topic8\", \"Topic8\", \"Topic8\", \"Topic8\", \"Topic8\", \"Topic8\", \"Topic8\", \"Topic8\", \"Topic8\", \"Topic8\", \"Topic8\", \"Topic8\", \"Topic9\", \"Topic9\", \"Topic9\", \"Topic9\", \"Topic9\", \"Topic9\", \"Topic9\", \"Topic9\", \"Topic9\", \"Topic9\", \"Topic9\", \"Topic9\", \"Topic9\", \"Topic9\", \"Topic9\", \"Topic9\", \"Topic9\", \"Topic9\", \"Topic9\", \"Topic9\", \"Topic9\", \"Topic9\", \"Topic9\", \"Topic9\", \"Topic9\", \"Topic9\", \"Topic9\", \"Topic9\", \"Topic9\", \"Topic9\", \"Topic9\", \"Topic9\", \"Topic9\", \"Topic9\", \"Topic9\", \"Topic9\", \"Topic9\", \"Topic9\", \"Topic9\", \"Topic9\", \"Topic9\", \"Topic10\", \"Topic10\", \"Topic10\", \"Topic10\", \"Topic10\", \"Topic10\", \"Topic10\", \"Topic10\", \"Topic10\", \"Topic10\", \"Topic10\", \"Topic10\", \"Topic10\", \"Topic10\", \"Topic10\", \"Topic10\", \"Topic10\", \"Topic10\", \"Topic10\", \"Topic10\", \"Topic10\", \"Topic10\", \"Topic10\", \"Topic10\", \"Topic10\", \"Topic10\", \"Topic10\", \"Topic10\", \"Topic10\", \"Topic10\", \"Topic10\", \"Topic10\", \"Topic10\", \"Topic10\", \"Topic10\", \"Topic10\", \"Topic10\", \"Topic10\"], \"Freq\": [19.0, 19.0, 19.0, 9.0, 31.0, 6.0, 5.0, 8.0, 8.0, 8.0, 8.0, 4.0, 38.0, 3.0, 11.0, 47.0, 6.0, 11.0, 11.0, 37.0, 11.0, 39.0, 5.0, 5.0, 5.0, 5.0, 5.0, 5.0, 42.0, 7.0, 17.239839553833008, 17.233360290527344, 17.2278995513916, 5.273379325866699, 5.272839069366455, 3.610239267349243, 3.5131707191467285, 2.677455186843872, 2.676450490951538, 3.611152410507202, 1.8540701866149902, 1.8540701866149902, 1.8540688753128052, 1.8461147546768188, 1.8459233045578003, 1.7535943984985352, 1.746616244316101, 3.5466201305389404, 2.7369608879089355, 3.5436458587646484, 3.5388565063476562, 3.5385687351226807, 0.9711798429489136, 0.971179723739624, 0.971179723739624, 0.971179723739624, 0.971179723739624, 0.971179723739624, 0.9711793065071106, 0.9711788892745972, 11.793391227722168, 13.740985870361328, 10.778934478759766, 6.457355499267578, 6.967296123504639, 7.302546977996826, 6.979168891906738, 2.78989315032959, 2.789799451828003, 2.80729341506958, 1.9614546298980713, 3.2512550354003906, 3.2512547969818115, 2.4762485027313232, 1.6960126161575317, 1.6960126161575317, 1.6960124969482422, 1.6958410739898682, 1.6958355903625488, 1.6958179473876953, 1.695732593536377, 1.6933401823043823, 1.6924760341644287, 1.691694974899292, 0.8884004354476929, 0.8884004354476929, 0.8884004354476929, 0.8884004354476929, 0.8884004354476929, 0.8884002566337585, 0.8884002566337585, 0.8884002566337585, 0.8884003758430481, 0.8884004354476929, 0.8884004354476929, 0.8884003758430481, 0.8883982300758362, 0.8883982300758362, 0.8883982300758362, 0.8883982300758362, 0.8883982300758362, 1.6968519687652588, 1.6960372924804688, 0.8883982300758362, 4.088315010070801, 1.9395345449447632, 5.2124528884887695, 5.21148681640625, 5.207068920135498, 1.6928044557571411, 3.292119264602661, 3.902513027191162, 1.6960371732711792, 8.993349075317383, 3.3092079162597656, 6.593123912811279, 6.555490970611572, 6.488124370574951, 7.593842029571533, 4.6221842765808105, 1.9028476476669312, 1.6594367027282715, 0.883749783039093, 0.883749783039093, 0.8837499022483826, 0.8837499022483826, 0.883749783039093, 0.883749783039093, 0.883749783039093, 0.883749783039093, 0.883749783039093, 0.883749783039093, 0.883749783039093, 0.883749783039093, 0.883749783039093, 0.883749783039093, 0.883749783039093, 0.883749783039093, 0.883749783039093, 0.883749783039093, 0.883749783039093, 0.883749783039093, 0.883749783039093, 0.883749783039093, 0.883749783039093, 0.883749783039093, 0.883749783039093, 0.883749783039093, 0.883749783039093, 0.883749783039093, 0.8836987018585205, 1.6594369411468506, 10.764638900756836, 9.061637878417969, 9.031575202941895, 8.959120750427246, 8.75195026397705, 3.292367696762085, 7.24896764755249, 2.4874627590179443, 8.255901336669922, 1.6871588230133057, 2.4856319427490234, 2.2207343578338623, 2.106024742126465, 1.6871588230133057, 1.330831527709961, 1.3311570882797241, 1.3190582990646362, 0.8837499022483826, 0.8837499022483826, 0.883749783039093, 0.883749783039093, 0.883749783039093, 2.3947627544403076, 2.3947627544403076, 2.3947627544403076, 1.622252345085144, 1.6222525835037231, 1.6222525835037231, 1.6222525835037231, 1.622238039970398, 1.622238039970398, 1.6219103336334229, 1.6219048500061035, 1.621867299079895, 1.6217546463012695, 1.6217243671417236, 1.6217231750488281, 0.8497569561004639, 0.8497569561004639, 0.8497569561004639, 0.8497569561004639, 0.8497568368911743, 0.84975665807724, 0.8497568368911743, 0.8497568368911743, 0.84975665807724, 0.8497565388679504, 0.8497560024261475, 0.8497476577758789, 0.8497477173805237, 0.8497476577758789, 0.8497476577758789, 1.6222631931304932, 1.622262954711914, 0.8497476577758789, 1.6222385168075562, 10.368659973144531, 3.166189193725586, 6.635007858276367, 3.3480212688446045, 6.636408805847168, 6.623232364654541, 6.001988887786865, 6.415933132171631, 6.2737603187561035, 2.3962578773498535, 0.8497569561004639, 8.564423561096191, 2.394224166870117, 6.261807441711426, 6.261342525482178, 6.260256290435791, 1.6266909837722778, 1.6237996816635132, 1.623528003692627, 1.6225353479385376, 1.6224379539489746, 1.622247576713562, 4.716062068939209, 0.8520762920379639, 0.8520762920379639, 0.8520762920379639, 0.8520762920379639, 0.8520762324333191, 0.8520762324333191, 0.8520762324333191, 0.8520762324333191, 0.8520762324333191, 0.8520762324333191, 0.8520762324333191, 0.8520762324333191, 0.8520762324333191, 0.8520762324333191, 0.8520762324333191, 0.8520762324333191, 0.8520762324333191, 0.8520762324333191, 0.8520762324333191, 0.8520762324333191, 0.8520762324333191, 0.8520762324333191, 0.8520762324333191, 0.8520762324333191, 0.8520762324333191, 0.8520762324333191, 0.8520762324333191, 0.8520762324333191, 1.6198346614837646, 0.8520762324333191, 0.8520762324333191, 0.8520762324333191, 0.8520762324333191, 0.8520762324333191, 0.8520762324333191, 8.31204891204834, 1.6266909837722778, 1.706758975982666, 1.015795350074768, 0.8932183980941772, 0.8938784599304199, 0.8520762920379639, 0.8520762324333191, 1.5887360572814941, 1.5819143056869507, 1.5750653743743896, 0.8322039246559143, 0.8322039246559143, 0.8322038650512695, 0.83220374584198, 0.83220374584198, 0.83220374584198, 0.83220374584198, 0.83220374584198, 0.8322036266326904, 0.8322033286094666, 0.8321625590324402, 0.8321625590324402, 0.8314375281333923, 0.8312051296234131, 0.8310577869415283, 0.8309446573257446, 0.8308548927307129, 0.8303653597831726, 0.8303264379501343, 0.8303065299987793, 0.8304197192192078, 0.8301530480384827, 0.8301132917404175, 0.830053985118866, 0.8297805190086365, 0.8296675682067871, 0.8293802738189697, 1.5877604484558105, 1.587689995765686, 1.58272385597229, 1.5887527465820312, 2.0661563873291016, 2.0628955364227295, 5.44970703125, 6.250680923461914, 4.652781009674072, 4.1066670417785645, 3.383702039718628, 3.318781852722168, 1.58259916305542, 1.7827632427215576, 1.5836561918258667, 1.5832563638687134, 1.5815242528915405, 1.587597131729126, 1.2397664785385132, 0.8322039246559143, 1.3218330144882202, 1.3218330144882202, 1.3218330144882202, 0.6989144682884216, 0.6989144086837769, 0.6989139914512634, 0.6984876990318298, 0.6983210444450378, 0.6983011364936829, 0.6979675889015198, 1.3218330144882202, 1.3218328952789307, 0.6982918381690979, 0.6982510685920715, 0.6989137530326843, 0.6989145874977112, 0.6989145874977112, 0.6989145874977112, 0.6983568072319031, 0.6983515024185181, 1.3358432054519653, 1.335483193397522, 0.6989145874977112, 0.6982734799385071, 1.962932825088501, 1.3338017463684082, 1.3335707187652588, 0.6981455087661743, 0.6980646848678589, 1.0225588083267212, 2.3468706607818604, 3.0314722061157227, 2.345839738845825, 2.346665382385254, 2.3504843711853027, 1.66596257686615, 0.6622623205184937, 0.6622622609138489, 0.6622622609138489, 0.6622623205184937, 0.6622622609138489, 0.6622620820999146, 0.6622620820999146, 0.6622620820999146, 0.6622536778450012, 0.662253737449646, 0.6622536778450012, 0.6621963977813721, 1.264318823814392, 0.6622623205184937, 0.6622623205184937, 0.6622623205184937, 0.6622622609138489, 0.6622622609138489, 0.6622623205184937, 0.6622623205184937, 0.6622622609138489, 0.6622622609138489, 0.6622620820999146, 1.2643190622329712, 0.6631083488464355, 0.6630521416664124, 0.6622622609138489, 0.6622622609138489, 2.4693517684936523, 0.6622617244720459, 0.9622591733932495, 2.557220697402954, 1.926590085029602, 1.8684535026550293, 1.8683807849884033, 1.8686256408691406, 1.9264198541641235, 1.2682735919952393, 2.7828803062438965, 4.595092296600342, 4.493391990661621, 1.1700435876846313, 1.154834270477295, 0.6154661178588867, 0.6154661178588867, 0.6144946217536926, 0.6144012808799744, 0.6143749356269836, 0.614340603351593, 0.6142012476921082, 0.614131510257721, 0.6154661178588867, 0.6154661178588867, 0.6154660582542419, 0.6154660582542419, 0.6154660582542419, 0.6154660582542419, 1.1712510585784912, 1.171075701713562, 1.1709363460540771, 1.1709197759628296, 0.6144670248031616, 0.05595221742987633, 0.05595221742987633, 0.05595220997929573, 0.055952202528715134, 0.055952202528715134, 0.055952202528715134, 0.055952202528715134, 0.3226677477359772, 0.055952198803424835, 0.055952198803424835, 0.3992313742637634, 0.055952198803424835, 0.40502461791038513, 0.39855048060417175, 0.39552241563796997, 0.34511512517929077, 0.34586164355278015, 0.5441544651985168, 0.5441544055938721, 0.5441544651985168, 0.5441544651985168, 0.5441544055938721, 0.5441544651985168, 0.5441544651985168, 0.544154167175293, 0.544154167175293, 0.544154167175293, 0.544154167175293, 2.029825448989868, 0.544154167175293, 0.544154167175293, 0.5441544651985168, 0.5441544651985168, 1.5335808992385864, 0.5441544651985168, 0.5441544055938721, 0.5441543459892273, 0.39498186111450195, 0.5441544651985168, 0.5441544055938721, 0.5485324859619141, 0.5442131757736206, 0.04946859925985336, 0.04946860298514366, 0.04946860298514366, 0.04946860671043396, 0.04946860298514366, 0.5969141125679016, 0.596105694770813, 0.59521484375, 1.2803092002868652, 1.0175771713256836, 1.0175426006317139, 1.0188384056091309, 0.5463249683380127], \"Term\": [\"90/die\", \"gr\\u00fcnen\", \"b\\u00fcndnis\", \"bundesregierung\", \"dr.\", \"einzelplan\", \"hier:\", \"eingebrachten\", \"entwurfs\", \"gesetzes\", \"antrag\", \"\\u2013\", \"abgeordneter\", \"bundesministerium\", \"linke\", \"fraktion\", \"erste\", \"fdp\", \"ausschuss\", \"antrags\", \"beschlussempfehlung\", \"weiterer\", \"sicherheit\", \"nukleare\", \"naturschutz\", \"umwelt,\", \"aggelidis,\", \"grigorios\", \"abgeordneten\", \"berichts\", \"90/die\", \"gr\\u00fcnen\", \"b\\u00fcndnis\", \"lisa\", \"badum,\", \"bettina\", \"16.\", \"gehring,\", \"kai\", \"hoffmann,\", \"spd,\", \"cdu/csu,\", \"debatte\", \"kotting-uhl,\", \"sylvia\", \"anna\", \"christmann,\", \"sicherheit\", \"fraktionen\", \"nukleare\", \"naturschutz\", \"umwelt,\", \"lemke,\", \"steffi\", \"claudia\", \"fdp,\", \"m\\u00fcller,\", \"afd,\", \"einbarte\", \"ver\", \"antrags\", \"beratung\", \"fraktion\", \"dr.\", \"abgeordneter\", \"abgeordneten\", \"weiterer\", \"ausschusses\", \"beschlussempfehlung\", \"ausschuss\", \"b\", \"energie\", \"wirtschaft\", \"9.\", \"verkehr\", \"infrastruktur\", \"digitale\", \"kotr\\u00e9,\", \"tino\", \"chrupalla,\", \"steffen\", \"markus\", \"lambsdorff,\", \"graf\", \"bijan\", \"sandra\", \"15.\", \"djir-sarai,\", \"m\\u00fcller-rosentritt,\", \"eu\", \"-grenzwerte\", \"neu\", \"pkw\", \"weeser,\", \"-dr.\", \"festlegen\", \"kurth,\", \"katrin\", \"g\\u00f6ring-eckardt,\", \"arbeit\", \"11.\", \"4.\", \"frank\", \"soziales\", \"berichts\", \"verlangen\", \"ausschusses\", \"beschlussempfehlung\", \"ausschuss\", \"alexander\", \"antrag\", \"fdp\", \"bericht\", \"fraktion\", \"afd\", \"abgeordneter\", \"weiterer\", \"abgeordneten\", \"beratung\", \"antrags\", \"b\", \"gminder,\", \"heidrun\", \"mohamed\", \"friesen,\", \"gottfried\", \"karlheinz\", \"brandenburg\", \"katja\", \"rhein-neckar,\", \"-amira\", \"albrecht\", \"bluhm,\", \"konrad,\", \"brandt,\", \"zaklin\", \"hocker,\", \"clemens\", \"carina\", \"busen,\", \"heike\", \"ali,\", \"nastic,\", \"michel\", \"h\\u00e4nsel,\", \"suding,\", \"gero\", \"anton\", \"glaser,\", \"jens\", \"bause,\", \"franziska\", \"dr.\", \"abgeordneter\", \"weiterer\", \"abgeordneten\", \"fraktion\", \"afd\", \"antrags\", \"berichts\", \"beratung\", \"c\", \"antrag\", \"b\", \"linke\", \"fdp\", \"ausschusses\", \"beschlussempfehlung\", \"ausschuss\", \"bernd\", \"baumann,\", \"hollnagel,\", \"22.\", \"beer,\", \"lorenz\", \"beutin,\", \"g\\u00f6sta\", \"ralph\", \"zdebel,\", \"lenkert,\", \"hubertus\", \"04\", \"bundeskanzleramt\", \"rainer\", \"kraft,\", \"wildberg,\", \"karsten\", \"hilse,\", \"heiko\", \"gehrke,\", \"axel\", \"schlund,\", \"robby\", \"-podolay,\", \"-steuer\", \"paul\", \"viktor\", \"auswirkungen\", \"energiepreise\", \"anschlie\\u00dfender\", \"strengmann-kuhn,\", \"wolfgang\", \"agnieszka\", \"brantner,\", \"gesine\", \"l\\u00f6tzsch,\", \"brugger,\", \"bundeskanzlerin\", \"dr.\", \"afd\", \"abgeordneter\", \"b\", \"weiterer\", \"abgeordneten\", \"antrags\", \"fraktion\", \"beratung\", \"linke\", \"c\", \"bundesregierung\", \"2019\", \"entwurfs\", \"eingebrachten\", \"gesetzes\", \"2018\", \"haushaltsgesetz\", \"dritte\", \"haushaltsjahr\", \"feststellung\", \"bundeshaushaltsplans\", \"erste\", \"verbot\", \"besch\\u00e4ftigten\", \"unternehmen\", \"unternehmensentscheidungen\", \"hebrefg\", \"reform\", \"hebammenausbildung\", \"f\\u00fcnften\", \"buches\", \"24.\", \"hebammenreformgesetz\", \"sozialgesetzbuch\", \"republik\", \"anpassung\", \"entlastung\", \"famentlastg\", \"familien\", \"familienentlastungsgesetz\", \"vertrag\", \"januar\", \"sowie\", \"strategischen\", \"profitablen\", \"mitbestimmungsrechte\", \"massenentlassungen\", \"steuerlicher\", \"-preis\", \"steuerlichen\", \"unterrichtung\", \"integration\", \"franz\\u00f6sischen\", \"regelungen\", \"deutsch-franz\\u00f6sische\", \"deutschland\", \"bundesrepublik\", \"beratung\", \"\\u2013\", \"abgeordneten\", \"b\", \"weiterer\", \"fraktion\", \"weiteren\", \"w.\", \"entwicklung\", \"alt,\", \"renata\", \"christian\", \"d\\u00fcrr,\", \"deutschen\", \"nachhaltige\", \"parlamentarischen\", \"pr\\u00e4sidenten\", \"beirat\", \"bundestages\", \"abgabe\", \"regierungserkl\\u00e4rung\", \"23\", \"wirtschaftliche\", \"sabine\", \"zwickau,\", \"stephan\", \"zimmermann\", \"thomae,\", \"106,\", \"grundgesetzes\", \"klimaschutzes\", \"kuhle,\", \"20a,\", \"rottmann,\", \"143h\", \"artikel\", \"manuela\", \"74,\", \"susanne\", \"ferschl,\", \"\\u00e4nderung\", \"unterrichtung\", \"aggelidis,\", \"grigorios\", \"abgeordneten\", \"beratung\", \"fraktion\", \"weiterer\", \"antrags\", \"abgeordneter\", \"erste\", \"fdp\", \"eingebrachten\", \"gesetzes\", \"entwurfs\", \"linke\", \"dr.\", \"de\", \"l.\", \"thomas\", \"kemmerich,\", \"petitionsausschusses\", \"2.\", \"fortsetzung\", \"cornelia\", \"doris\", \"achelwilm,\", \"m\\u00f6hring,\", \"theurer,\", \"michael\", \"petra\", \"sitte,\", \"aussprache\", \"kluckert,\", \"sitta,\", \"daniela\", \"inneres\", \"heimat\", \"grigorios\", \"aggelidis,\", \"frank\", \"4.\", \"fdp\", \"beschlussempfehlung\", \"ausschuss\", \"berichts\", \"antrag\", \"b\", \"abgeordneter\", \"beratung\", \"weiterer\", \"abgeordneten\", \"fraktion\", \"antrags\", \"j\\u00f6rg\", \"korte,\", \"jan\", \"cezanne,\", \"h\\u00f6hn,\", \"20\", \"bundesrechnungshof\", \"ier:\", \"ausw\\u00e4rtiges\", \"amt\", \"05\", \"17.\", \"matthias\", \"masi,\", \"de\", \"fabio\", \"w.\", \"birkwald,\", \"ernst,\", \"klaus\", \"tackmann,\", \"kirsten\", \"h\", \"c\", \"ferschl,\", \"susanne\", \"l\\u00f6tzsch,\", \"gesine\", \"linke\", \"verlangen\", \"einzelplan\", \"fraktion\", \"antrags\", \"abgeordneter\", \"weiterer\", \"abgeordneten\", \"beratung\", \"dr.\", \"bundesministerium\", \"hier:\", \"einzelplan\", \"16\", \"09\", \"7\", \"zp\", \"andrej\", \"neu,\", \"s.\", \"hunko,\", \"pfl\\u00fcger,\", \"tobias\", \"oliver\", \"krischer,\", \"verlinden,\", \"julia\", \"ingrid\", \"nestle,\", \"nukleare\", \"naturschutz\", \"umwelt,\", \"sicherheit\", \"alexander\", \"8.\", \"\\u00a7\", \"gem\\u00e4\\u00df\", \"haushaltsausschusses\", \"96\", \"gesch\\u00e4ftsordnung\", \"sven\", \"linke\", \"lehmann,\", \"christoph\", \"dr.\", \"britta\", \"abgeordneter\", \"weiterer\", \"abgeordneten\", \"antrags\", \"fraktion\", \"haushaltsausschusses\", \"\\u00a7\", \"christoph\", \"8.\", \"96\", \"gem\\u00e4\\u00df\", \"gesch\\u00e4ftsordnung\", \"britta\", \"ha\\u00dfelmann,\", \"lehmann,\", \"sven\", \"\\u2013\", \"hajduk,\", \"anja\", \"graf\", \"lambsdorff,\", \"antrag\", \"alexander\", \"bericht\", \"hoffmann,\", \"verlangen\", \"aggelidis,\", \"grigorios\", \"fdp\", \"ausschuss\", \"7\", \"zp\", \"andrej\", \"neu,\", \"s.\", \"90/die\", \"b\\u00fcndnis\", \"gr\\u00fcnen\", \"fraktion\", \"abgeordneter\", \"weiterer\", \"abgeordneten\", \"dr.\"], \"Total\": [19.0, 19.0, 19.0, 9.0, 31.0, 6.0, 5.0, 8.0, 8.0, 8.0, 8.0, 4.0, 38.0, 3.0, 11.0, 47.0, 6.0, 11.0, 11.0, 37.0, 11.0, 39.0, 5.0, 5.0, 5.0, 5.0, 5.0, 5.0, 42.0, 7.0, 19.566282272338867, 19.56528091430664, 19.56515884399414, 5.992353916168213, 5.992145538330078, 4.2392401695251465, 4.230032444000244, 3.3517324924468994, 3.3515641689300537, 4.734083652496338, 2.4747064113616943, 2.4747064113616943, 2.474705696105957, 2.4734933376312256, 2.4735350608825684, 2.461209774017334, 2.460446357727051, 5.354312896728516, 4.132211685180664, 5.353915691375732, 5.353559494018555, 5.353598117828369, 1.591815710067749, 1.591815710067749, 1.591815710067749, 1.591815710067749, 1.591815710067749, 1.5918158292770386, 1.5918155908584595, 1.5918153524398804, 37.126888275146484, 55.755027770996094, 47.02070236206055, 31.90321159362793, 38.30084228515625, 42.15913772583008, 39.832847595214844, 10.450787544250488, 11.086073875427246, 11.582200050354004, 13.073237419128418, 3.9252147674560547, 3.9252147674560547, 3.1306426525115967, 2.3241913318634033, 2.3241913318634033, 2.324191093444824, 2.324190378189087, 2.324190139770508, 2.3241894245147705, 2.324185371398926, 2.3233706951141357, 2.818659543991089, 2.818610191345215, 1.51656174659729, 1.51656174659729, 1.51656174659729, 1.5165618658065796, 1.5165618658065796, 1.51656174659729, 1.51656174659729, 1.51656174659729, 1.5165618658065796, 1.5165618658065796, 1.5165618658065796, 1.5165618658065796, 1.5165619850158691, 1.5165619850158691, 1.5165619850158691, 1.5165619850158691, 1.5165619850158691, 2.959749221801758, 2.959575653076172, 1.5165619850158691, 7.7913289070129395, 3.5153160095214844, 10.450787544250488, 11.086073875427246, 11.582200050354004, 3.3785860538482666, 8.468267440795898, 11.136220932006836, 3.701775550842285, 47.02070236206055, 10.99927806854248, 38.30084228515625, 39.832847595214844, 42.15913772583008, 55.755027770996094, 37.126888275146484, 13.073237419128418, 2.3147497177124023, 1.512333869934082, 1.512333869934082, 1.5123339891433716, 1.5123339891433716, 1.512333869934082, 1.512333869934082, 1.512333869934082, 1.512333869934082, 1.512333869934082, 1.512333869934082, 1.512333869934082, 1.512333869934082, 1.512333869934082, 1.512333869934082, 1.512333869934082, 1.512333869934082, 1.512333869934082, 1.512333869934082, 1.512333869934082, 1.512333869934082, 1.512333869934082, 1.512333869934082, 1.512333869934082, 1.5123339891433716, 1.5123339891433716, 1.5123339891433716, 1.5123339891433716, 1.5123339891433716, 1.5123313665390015, 3.087256908416748, 31.90321159362793, 38.30084228515625, 39.832847595214844, 42.15913772583008, 47.02070236206055, 10.99927806854248, 37.126888275146484, 7.7913289070129395, 55.755027770996094, 4.292362689971924, 8.468267440795898, 13.073237419128418, 11.534510612487793, 11.136220932006836, 10.450787544250488, 11.086073875427246, 11.582200050354004, 2.284844160079956, 2.2848448753356934, 2.3199708461761475, 2.2869486808776855, 2.3199710845947266, 3.02644419670105, 3.02644419670105, 3.02644419670105, 2.2539379596710205, 2.2539381980895996, 2.2539381980895996, 2.2539381980895996, 2.2539308071136475, 2.2539310455322266, 2.2539515495300293, 2.2539520263671875, 2.253953456878662, 2.253957986831665, 2.2539591789245605, 2.2539591789245605, 1.4814313650131226, 1.4814313650131226, 1.4814313650131226, 1.4814313650131226, 1.481431245803833, 1.4814311265945435, 1.481431245803833, 1.481431245803833, 1.481431245803833, 1.4814311265945435, 1.4814308881759644, 1.481432557106018, 1.4814326763153076, 1.481432557106018, 1.481432557106018, 2.85599422454834, 2.85599422454834, 1.481432557106018, 3.0104799270629883, 31.90321159362793, 10.99927806854248, 38.30084228515625, 13.073237419128418, 39.832847595214844, 42.15913772583008, 37.126888275146484, 47.02070236206055, 55.755027770996094, 11.534510612487793, 4.292362689971924, 9.23051929473877, 3.033071756362915, 8.418878555297852, 8.419184684753418, 8.419221878051758, 2.2581546306610107, 2.2582778930664062, 2.2582895755767822, 2.258331775665283, 2.258335828781128, 2.2583439350128174, 6.869655132293701, 1.4835398197174072, 1.4835398197174072, 1.4835398197174072, 1.4835398197174072, 1.4835398197174072, 1.4835398197174072, 1.4835398197174072, 1.4835398197174072, 1.4835398197174072, 1.4835398197174072, 1.4835398197174072, 1.4835398197174072, 1.4835398197174072, 1.4835398197174072, 1.4835398197174072, 1.4835398197174072, 1.4835398197174072, 1.4835398197174072, 1.4835398197174072, 1.4835398197174072, 1.4835398197174072, 1.4835398197174072, 1.4835398197174072, 1.4835398197174072, 1.4835398197174072, 1.4835398197174072, 1.4835398197174072, 1.4835398197174072, 3.7697253227233887, 1.4835398197174072, 1.4835398197174072, 1.4835398197174072, 1.4835398197174072, 1.4835398197174072, 1.4835398197174072, 55.755027770996094, 4.9925947189331055, 42.15913772583008, 13.073237419128418, 39.832847595214844, 47.02070236206055, 2.2392044067382812, 2.0855965614318848, 2.2220189571380615, 2.222485065460205, 2.222947597503662, 1.465474009513855, 1.465474009513855, 1.465474009513855, 1.465474009513855, 1.465474009513855, 1.465474009513855, 1.465474009513855, 1.465474009513855, 1.465474009513855, 1.465474009513855, 1.4654632806777954, 1.4654632806777954, 1.4653176069259644, 1.4652700424194336, 1.4652906656265259, 1.465216875076294, 1.465258002281189, 1.4648406505584717, 1.4648271799087524, 1.4648205041885376, 1.4651883840560913, 1.4647672176361084, 1.4647533893585205, 1.4647328853607178, 1.464638352394104, 1.4645992517471313, 1.4644997119903564, 2.8238770961761475, 2.8238630294799805, 2.9960899353027344, 3.7697253227233887, 5.570176601409912, 5.570298194885254, 42.15913772583008, 55.755027770996094, 47.02070236206055, 39.832847595214844, 37.126888275146484, 38.30084228515625, 6.869655132293701, 11.136220932006836, 8.419184684753418, 8.419221878051758, 8.418878555297852, 11.534510612487793, 31.90321159362793, 2.067530632019043, 1.982367753982544, 1.982367753982544, 1.982367753982544, 1.3443019390106201, 1.3443019390106201, 1.3443020582199097, 1.3444178104400635, 1.3444628715515137, 1.3444682359695435, 1.3445587158203125, 2.7900047302246094, 2.7900044918060303, 2.100837230682373, 2.1007845401763916, 2.1168081760406494, 2.1519389152526855, 2.1519389152526855, 2.1519389152526855, 2.152090072631836, 2.1520915031433105, 5.570298194885254, 5.570176601409912, 2.959575653076172, 2.959749221801758, 11.136220932006836, 11.086073875427246, 11.582200050354004, 7.7913289070129395, 8.468267440795898, 13.073237419128418, 38.30084228515625, 55.755027770996094, 39.832847595214844, 42.15913772583008, 47.02070236206055, 37.126888275146484, 1.3109817504882812, 1.3109815120697021, 1.3109816312789917, 1.3109817504882812, 1.3109815120697021, 1.3109815120697021, 1.3109816312789917, 1.3109817504882812, 1.3109809160232544, 1.3109809160232544, 1.3109809160232544, 1.3110122680664062, 2.687653064727783, 2.067530632019043, 2.067530632019043, 2.067530632019043, 2.0855965614318848, 2.0855965614318848, 2.0855965614318848, 2.0855965614318848, 2.1143906116485596, 2.1143906116485596, 2.1186187267303467, 4.292362689971924, 2.8238630294799805, 2.8238770961761475, 2.85599422454834, 2.85599422454834, 11.534510612487793, 3.5153160095214844, 6.482585430145264, 47.02070236206055, 37.126888275146484, 38.30084228515625, 39.832847595214844, 42.15913772583008, 55.755027770996094, 31.90321159362793, 3.5257821083068848, 5.872532844543457, 6.482585430145264, 1.8308305740356445, 1.8256340026855469, 1.268451452255249, 1.2684515714645386, 1.2688201665878296, 1.2688555717468262, 1.268865704536438, 1.2688785791397095, 1.2689317464828491, 1.2689582109451294, 2.024339437484741, 2.024517297744751, 2.0718331336975098, 2.071835517883301, 2.071836233139038, 2.071838140487671, 5.353915691375732, 5.353559494018555, 5.353598117828369, 5.354312896728516, 3.3785860538482666, 1.203610897064209, 1.203610897064209, 1.203610897064209, 1.203610897064209, 1.203610897064209, 1.203610897064209, 1.2036110162734985, 11.534510612487793, 1.2036110162734985, 1.203610897064209, 31.90321159362793, 1.2036110162734985, 38.30084228515625, 39.832847595214844, 42.15913772583008, 37.126888275146484, 47.02070236206055, 1.203610897064209, 1.203610897064209, 1.203610897064209, 1.203610897064209, 1.203610897064209, 1.203610897064209, 1.203610897064209, 1.2036110162734985, 1.2036110162734985, 1.2036110162734985, 1.2036110162734985, 4.9925947189331055, 2.8136658668518066, 2.8137598037719727, 2.818610191345215, 2.818659543991089, 8.468267440795898, 3.3785860538482666, 3.701775550842285, 4.734083652496338, 3.5153160095214844, 5.570176601409912, 5.570298194885254, 11.136220932006836, 11.582200050354004, 1.268451452255249, 1.2684515714645386, 1.2688201665878296, 1.2688555717468262, 1.268865704536438, 19.566282272338867, 19.56515884399414, 19.56528091430664, 47.02070236206055, 38.30084228515625, 39.832847595214844, 42.15913772583008, 31.90321159362793], \"loglift\": [30.0, 29.0, 28.0, 27.0, 26.0, 25.0, 24.0, 23.0, 22.0, 21.0, 20.0, 19.0, 18.0, 17.0, 16.0, 15.0, 14.0, 13.0, 12.0, 11.0, 10.0, 9.0, 8.0, 7.0, 6.0, 5.0, 4.0, 3.0, 2.0, 1.0, 1.5226000547409058, 1.5221999883651733, 1.5219000577926636, 1.521299958229065, 1.521299958229065, 1.4884999990463257, 1.4635000228881836, 1.4244999885559082, 1.4242000579833984, 1.3783999681472778, 1.3603999614715576, 1.3603999614715576, 1.3603999614715576, 1.356600046157837, 1.3565000295639038, 1.3101999759674072, 1.30649995803833, 1.2372000217437744, 1.2372000217437744, 1.2365000247955322, 1.235200047492981, 1.2351000308990479, 1.1549999713897705, 1.1549999713897705, 1.1549999713897705, 1.1549999713897705, 1.1549999713897705, 1.1549999713897705, 1.1549999713897705, 1.1549999713897705, 0.5023000240325928, 0.24860000610351562, 0.1762000024318695, 0.05169999971985817, -0.05510000139474869, -0.10409999638795853, -0.09260000288486481, 0.32850000262260437, 0.2694000005722046, 0.23190000653266907, -0.24770000576972961, 1.7122999429702759, 1.7122999429702759, 1.666200041770935, 1.5856000185012817, 1.5856000185012817, 1.5856000185012817, 1.5855000019073486, 1.5855000019073486, 1.5855000019073486, 1.5855000019073486, 1.5844000577926636, 1.3906999826431274, 1.3902000188827515, 1.3659000396728516, 1.3659000396728516, 1.3659000396728516, 1.3659000396728516, 1.3659000396728516, 1.3659000396728516, 1.3659000396728516, 1.3659000396728516, 1.3659000396728516, 1.3659000396728516, 1.3659000396728516, 1.3659000396728516, 1.3659000396728516, 1.3659000396728516, 1.3659000396728516, 1.3659000396728516, 1.3659000396728516, 1.3444000482559204, 1.343999981880188, 1.3659000396728516, 1.2558000087738037, 1.305999994277954, 1.2051000595092773, 1.145900011062622, 1.1013000011444092, 1.2096999883651733, 0.9559000134468079, 0.8521000146865845, 1.1202000379562378, 0.24660000205039978, 0.6995999813079834, 0.1412999927997589, 0.09629999846220016, 0.029200000688433647, -0.09290000051259995, -0.1826999932527542, -0.026499999687075615, 1.638800024986267, 1.434399962425232, 1.434399962425232, 1.434399962425232, 1.434399962425232, 1.434399962425232, 1.434399962425232, 1.434399962425232, 1.434399962425232, 1.434399962425232, 1.434399962425232, 1.434399962425232, 1.434399962425232, 1.434399962425232, 1.434399962425232, 1.434399962425232, 1.434399962425232, 1.434399962425232, 1.434399962425232, 1.434399962425232, 1.434399962425232, 1.434399962425232, 1.434399962425232, 1.434399962425232, 1.434399962425232, 1.434399962425232, 1.434399962425232, 1.434399962425232, 1.434399962425232, 1.4342999458312988, 1.3508000373840332, 0.885200023651123, 0.5302000045776367, 0.4876999855041504, 0.4228000044822693, 0.29030001163482666, 0.7653999924659729, 0.33809998631477356, 0.8299000263214111, 0.06159999966621399, 1.0377999544143677, 0.7458000183105469, 0.1988999992609024, 0.2711000144481659, 0.08449999988079071, -0.08919999748468399, -0.14800000190734863, -0.20090000331401825, 1.0217000246047974, 1.0217000246047974, 1.006500005722046, 1.020799994468689, 1.006500005722046, 1.8913999795913696, 1.8913999795913696, 1.8913999795913696, 1.7965999841690063, 1.7965999841690063, 1.7965999841690063, 1.7965999841690063, 1.7965999841690063, 1.7965999841690063, 1.7963999509811401, 1.7963999509811401, 1.7963999509811401, 1.7963000535964966, 1.7963000535964966, 1.7963000535964966, 1.569700002670288, 1.569700002670288, 1.569700002670288, 1.569700002670288, 1.569700002670288, 1.569700002670288, 1.569700002670288, 1.569700002670288, 1.569700002670288, 1.569700002670288, 1.569700002670288, 1.569700002670288, 1.569700002670288, 1.569700002670288, 1.569700002670288, 1.5599000453948975, 1.5599000453948975, 1.569700002670288, 1.507200002670288, 1.0016000270843506, 0.8802000284194946, 0.3723999857902527, 0.7633000016212463, 0.33340001106262207, 0.27459999918937683, 0.30320000648498535, 0.13369999825954437, -0.05909999832510948, 0.5540000200271606, 0.5058000087738037, 2.082900047302246, 1.9212000370025635, 1.861799955368042, 1.8616000413894653, 1.8615000247955322, 1.829800009727478, 1.8279000520706177, 1.8278000354766846, 1.8271000385284424, 1.8271000385284424, 1.8269000053405762, 1.781599998474121, 1.6032999753952026, 1.6032999753952026, 1.6032999753952026, 1.6032999753952026, 1.6032999753952026, 1.6032999753952026, 1.6032999753952026, 1.6032999753952026, 1.6032999753952026, 1.6032999753952026, 1.6032999753952026, 1.6032999753952026, 1.6032999753952026, 1.6032999753952026, 1.6032999753952026, 1.6032999753952026, 1.6032999753952026, 1.6032999753952026, 1.6032999753952026, 1.6032999753952026, 1.6032999753952026, 1.6032999753952026, 1.6032999753952026, 1.6032999753952026, 1.6032999753952026, 1.6032999753952026, 1.6032999753952026, 1.6032999753952026, 1.313099980354309, 1.6032999753952026, 1.6032999753952026, 1.6032999753952026, 1.6032999753952026, 1.6032999753952026, 1.6032999753952026, 0.25450000166893005, 1.0363999605178833, -1.0491000413894653, -0.3971000015735626, -1.6398999691009521, -1.8049999475479126, 1.19159996509552, 1.2625999450683594, 1.9366999864578247, 1.9321999549865723, 1.9276000261306763, 1.7063000202178955, 1.7063000202178955, 1.7063000202178955, 1.7063000202178955, 1.7063000202178955, 1.7063000202178955, 1.7063000202178955, 1.7063000202178955, 1.7063000202178955, 1.7063000202178955, 1.7062000036239624, 1.7062000036239624, 1.7055000066757202, 1.705199956893921, 1.7050000429153442, 1.7049000263214111, 1.704800009727478, 1.7044999599456787, 1.7044999599456787, 1.7043999433517456, 1.704300045967102, 1.704300045967102, 1.704300045967102, 1.704200029373169, 1.7038999795913696, 1.7037999629974365, 1.7036000490188599, 1.6964000463485718, 1.6963000297546387, 1.6339999437332153, 1.4081000089645386, 1.280400037765503, 1.2788000106811523, 0.22630000114440918, 0.08389999717473984, -0.04100000113248825, 9.999999747378752e-05, -0.12319999933242798, -0.1737000048160553, 0.804099977016449, 0.4401000142097473, 0.6014000177383423, 0.6011000275611877, 0.6000999808311462, 0.289000004529953, -0.975600004196167, 1.3621000051498413, 2.486799955368042, 2.486799955368042, 2.486799955368042, 2.23799991607666, 2.23799991607666, 2.23799991607666, 2.237299919128418, 2.236999988555908, 2.236999988555908, 2.2363998889923096, 2.1451001167297363, 2.1451001167297363, 1.7905999422073364, 1.7905999422073364, 1.7839000225067139, 1.7675000429153442, 1.7675000429153442, 1.7675000429153442, 1.7666000127792358, 1.7666000127792358, 1.4642000198364258, 1.4638999700546265, 1.448799967765808, 1.4478000402450562, 1.1562999486923218, 0.774399995803833, 0.7304999828338623, 0.4796999990940094, 0.39629998803138733, 0.34380000829696655, 0.09969999641180038, -0.01979999989271164, 0.05999999865889549, 0.003599999938160181, -0.1039000004529953, -0.211899995803833, 2.328399896621704, 2.328399896621704, 2.328399896621704, 2.328399896621704, 2.328399896621704, 2.328399896621704, 2.328399896621704, 2.328399896621704, 2.328399896621704, 2.328399896621704, 2.328399896621704, 2.3282999992370605, 2.257200002670288, 1.8729000091552734, 1.8729000091552734, 1.8729000091552734, 1.8641999959945679, 1.8641999959945679, 1.8641999959945679, 1.8641999959945679, 1.8504999876022339, 1.8504999876022339, 1.8485000133514404, 1.7890000343322754, 1.562399983406067, 1.5622999668121338, 1.5498000383377075, 1.5498000383377075, 1.4699000120162964, 1.3421000242233276, 1.103700041770935, 0.09960000216960907, 0.05270000174641609, -0.008999999612569809, -0.04830000177025795, -0.10490000247955322, -0.3540000021457672, -0.21369999647140503, 2.91759991645813, 2.908900022506714, 2.7876999378204346, 2.7065000534057617, 2.696199893951416, 2.430999994277954, 2.430999994277954, 2.4291000366210938, 2.428999900817871, 2.4289000034332275, 2.4289000034332275, 2.4286000728607178, 2.4284000396728516, 1.9636000394821167, 1.9635000228881836, 1.9404000043869019, 1.9404000043869019, 1.9404000043869019, 1.9404000043869019, 1.6344000101089478, 1.6344000101089478, 1.6341999769210815, 1.6340999603271484, 1.4496999979019165, 0.08560000360012054, 0.08560000360012054, 0.08560000360012054, 0.08560000360012054, 0.08560000360012054, 0.08560000360012054, 0.08560000360012054, -0.4223000109195709, 0.08560000360012054, 0.08560000360012054, -1.226699948310852, 0.08560000360012054, -1.3950999975204468, -1.4503999948501587, -1.514799952507019, -1.5240000486373901, -1.7581000328063965, 2.59689998626709, 2.59689998626709, 2.59689998626709, 2.59689998626709, 2.59689998626709, 2.59689998626709, 2.59689998626709, 2.59689998626709, 2.59689998626709, 2.59689998626709, 2.59689998626709, 2.4907000064849854, 1.7476999759674072, 1.7476999759674072, 1.746000051498413, 1.74590003490448, 1.6820000410079956, 1.5648000240325928, 1.4733999967575073, 1.2273999452590942, 1.204699993133545, 1.0648000240325928, 1.0648000240325928, 0.3799999952316284, 0.3328000009059906, 0.14650000631809235, 0.14650000631809235, 0.1462000012397766, 0.1462000012397766, 0.1462000012397766, -0.09910000115633011, -0.10040000081062317, -0.10189999639987946, -0.21279999613761902, -0.23729999363422394, -0.2766000032424927, -0.3321000039577484, -0.6765000224113464], \"logprob\": [30.0, 29.0, 28.0, 27.0, 26.0, 25.0, 24.0, 23.0, 22.0, 21.0, 20.0, 19.0, 18.0, 17.0, 16.0, 15.0, 14.0, 13.0, 12.0, 11.0, 10.0, 9.0, 8.0, 7.0, 6.0, 5.0, 4.0, 3.0, 2.0, 1.0, -2.605299949645996, -2.6057000160217285, -2.6059999465942383, -3.789900064468384, -3.7899999618530273, -4.168799877166748, -4.196000099182129, -4.467700004577637, -4.4679999351501465, -4.168499946594238, -4.835100173950195, -4.835100173950195, -4.835100173950195, -4.839399814605713, -4.839600086212158, -4.890900135040283, -4.894800186157227, -4.186500072479248, -4.445700168609619, -4.187399864196777, -4.188700199127197, -4.188799858093262, -5.481800079345703, -5.481800079345703, -5.481800079345703, -5.481800079345703, -5.481800079345703, -5.481800079345703, -5.481800079345703, -5.481800079345703, -2.984999895095825, -2.8320999145507812, -3.074899911880493, -3.5873000621795654, -3.5113000869750977, -3.4642999172210693, -3.5095999240875244, -4.426499843597412, -4.426599979400635, -4.420300006866455, -4.778800010681152, -4.021900177001953, -4.021900177001953, -4.2941999435424805, -4.672699928283691, -4.672699928283691, -4.672699928283691, -4.672800064086914, -4.672800064086914, -4.672800064086914, -4.672800064086914, -4.674200057983398, -4.674799919128418, -4.67519998550415, -5.319300174713135, -5.319300174713135, -5.319300174713135, -5.319300174713135, -5.319300174713135, -5.319300174713135, -5.319300174713135, -5.319300174713135, -5.319300174713135, -5.319300174713135, -5.319300174713135, -5.319300174713135, -5.319300174713135, -5.319300174713135, -5.319300174713135, -5.319300174713135, -5.319300174713135, -4.6722002029418945, -4.672699928283691, -5.319300174713135, -3.792799949645996, -4.53849983215332, -3.5499000549316406, -3.550100088119507, -3.5508999824523926, -4.674600124359131, -4.009399890899658, -3.8392999172210693, -4.672699928283691, -3.004499912261963, -4.004199981689453, -3.3148999214172363, -3.3206000328063965, -3.3310000896453857, -3.1735999584198, -3.670099973678589, -4.557600021362305, -4.623600006103516, -5.253600120544434, -5.253600120544434, -5.253600120544434, -5.253600120544434, -5.253600120544434, -5.253600120544434, -5.253600120544434, -5.253600120544434, -5.253600120544434, -5.253600120544434, -5.253600120544434, -5.253600120544434, -5.253600120544434, -5.253600120544434, -5.253600120544434, -5.253600120544434, -5.253600120544434, -5.253600120544434, -5.253600120544434, -5.253600120544434, -5.253600120544434, -5.253600120544434, -5.253600120544434, -5.253600120544434, -5.253600120544434, -5.253600120544434, -5.253600120544434, -5.253600120544434, -5.253699779510498, -4.623600006103516, -2.7537999153137207, -2.9260001182556152, -2.92930006980896, -2.9374001026153564, -2.9607999324798584, -3.9384000301361084, -3.149199962615967, -4.218800067901611, -3.0190999507904053, -4.60699987411499, -4.2195000648498535, -4.332200050354004, -4.385200023651123, -4.60699987411499, -4.844200134277344, -4.843999862670898, -4.853099822998047, -5.253600120544434, -5.253600120544434, -5.253600120544434, -5.253600120544434, -5.253600120544434, -4.10290002822876, -4.10290002822876, -4.10290002822876, -4.492400169372559, -4.492400169372559, -4.492400169372559, -4.492400169372559, -4.492400169372559, -4.492400169372559, -4.492599964141846, -4.492599964141846, -4.492599964141846, -4.492700099945068, -4.492700099945068, -4.492700099945068, -5.138999938964844, -5.138999938964844, -5.138999938964844, -5.138999938964844, -5.138999938964844, -5.138999938964844, -5.138999938964844, -5.138999938964844, -5.138999938964844, -5.138999938964844, -5.138999938964844, -5.138999938964844, -5.138999938964844, -5.138999938964844, -5.138999938964844, -4.492400169372559, -4.492400169372559, -5.138999938964844, -4.492400169372559, -2.637399911880493, -3.823699951171875, -3.0838000774383545, -3.7678000926971436, -3.0836000442504883, -3.085599899291992, -3.1840999126434326, -3.1173999309539795, -3.1398000717163086, -4.10230016708374, -5.138999938964844, -2.796299934387207, -4.070899963378906, -3.1094000339508057, -3.109499931335449, -3.1096999645233154, -4.457399845123291, -4.459099769592285, -4.4593000411987305, -4.45989990234375, -4.460000038146973, -4.460100173950195, -3.392899990081787, -5.104000091552734, -5.104000091552734, -5.104000091552734, -5.104000091552734, -5.104000091552734, -5.104000091552734, -5.104000091552734, -5.104000091552734, -5.104000091552734, -5.104000091552734, -5.104000091552734, -5.104000091552734, -5.104000091552734, -5.104000091552734, -5.104000091552734, -5.104000091552734, -5.104000091552734, -5.104000091552734, -5.104000091552734, -5.104000091552734, -5.104000091552734, -5.104000091552734, -5.104000091552734, -5.104000091552734, -5.104000091552734, -5.104000091552734, -5.104000091552734, -5.104000091552734, -4.461599826812744, -5.104000091552734, -5.104000091552734, -5.104000091552734, -5.104000091552734, -5.104000091552734, -5.104000091552734, -2.826200008392334, -4.457399845123291, -4.409299850463867, -4.928199768066406, -5.05679988861084, -5.056099891662598, -5.104000091552734, -5.104000091552734, -4.366600036621094, -4.3709001541137695, -4.375199794769287, -5.013199806213379, -5.013199806213379, -5.013199806213379, -5.013199806213379, -5.013199806213379, -5.013199806213379, -5.013199806213379, -5.013199806213379, -5.013199806213379, -5.013199806213379, -5.013299942016602, -5.013299942016602, -5.014100074768066, -5.014400005340576, -5.014599800109863, -5.014699935913086, -5.014800071716309, -5.015399932861328, -5.015500068664551, -5.015500068664551, -5.015399932861328, -5.015699863433838, -5.015699863433838, -5.0157999992370605, -5.01609992980957, -5.016300201416016, -5.016600131988525, -4.367199897766113, -4.367300033569336, -4.3703999519348145, -4.366600036621094, -4.103799819946289, -4.105400085449219, -3.134000062942505, -2.996799945831299, -3.292099952697754, -3.4168999195098877, -3.610599994659424, -3.6298999786376953, -4.370500087738037, -4.251399993896484, -4.369800090789795, -4.369999885559082, -4.371099948883057, -4.367300033569336, -4.61460018157959, -5.013199806213379, -3.9305999279022217, -3.9305999279022217, -3.9305999279022217, -4.567800045013428, -4.567800045013428, -4.567800045013428, -4.568399906158447, -4.568699836730957, -4.568699836730957, -4.569200038909912, -3.9305999279022217, -3.9305999279022217, -4.568699836730957, -4.56879997253418, -4.567800045013428, -4.567800045013428, -4.567800045013428, -4.567800045013428, -4.568600177764893, -4.568600177764893, -3.9200000762939453, -3.920300006866455, -4.567800045013428, -4.568699836730957, -3.5352001190185547, -3.921600103378296, -3.9217000007629395, -4.568900108337402, -4.568999767303467, -4.187300205230713, -3.3564999103546143, -3.1005001068115234, -3.3570001125335693, -3.356600046157837, -3.3550000190734863, -3.699199914932251, -4.502500057220459, -4.502500057220459, -4.502500057220459, -4.502500057220459, -4.502500057220459, -4.502500057220459, -4.502500057220459, -4.502500057220459, -4.502500057220459, -4.502500057220459, -4.502500057220459, -4.502600193023682, -3.855799913406372, -4.502500057220459, -4.502500057220459, -4.502500057220459, -4.502500057220459, -4.502500057220459, -4.502500057220459, -4.502500057220459, -4.502500057220459, -4.502500057220459, -4.502500057220459, -3.855799913406372, -4.501200199127197, -4.501299858093262, -4.502500057220459, -4.502500057220459, -3.1863999366760254, -4.502500057220459, -4.128799915313721, -3.151400089263916, -3.4346001148223877, -3.4653000831604004, -3.4653000831604004, -3.4651999473571777, -3.4347000122070312, -3.8526999950408936, -2.9240000247955322, -2.422499895095825, -2.4449000358581543, -3.7904000282287598, -3.803499937057495, -4.4328999519348145, -4.4328999519348145, -4.4344000816345215, -4.434599876403809, -4.434599876403809, -4.434700012207031, -4.434899806976318, -4.434999942779541, -4.4328999519348145, -4.4328999519348145, -4.4328999519348145, -4.4328999519348145, -4.4328999519348145, -4.4328999519348145, -3.789400100708008, -3.789599895477295, -3.7897000312805176, -3.7897000312805176, -4.434500217437744, -6.830699920654297, -6.830699920654297, -6.830699920654297, -6.830699920654297, -6.830699920654297, -6.830699920654297, -6.830699920654297, -5.07859992980957, -6.830699920654297, -6.830699920654297, -4.865699768066406, -6.830699920654297, -4.85129976272583, -4.867400169372559, -4.875, -5.01140022277832, -5.009200096130371, -4.319499969482422, -4.319499969482422, -4.319499969482422, -4.319499969482422, -4.319499969482422, -4.319499969482422, -4.319499969482422, -4.319499969482422, -4.319499969482422, -4.319499969482422, -4.319499969482422, -3.003000020980835, -4.319499969482422, -4.319499969482422, -4.319499969482422, -4.319499969482422, -3.2832999229431152, -4.319499969482422, -4.319499969482422, -4.319499969482422, -4.639900207519531, -4.319499969482422, -4.319499969482422, -4.311500072479248, -4.319399833679199, -6.717400074005127, -6.717400074005127, -6.717400074005127, -6.717400074005127, -6.717400074005127, -4.226900100708008, -4.228300094604492, -4.229800224304199, -3.4637999534606934, -3.69350004196167, -3.6935999393463135, -3.6923000812530518, -4.315499782562256]}, \"token.table\": {\"Topic\": [3, 2, 2, 4, 5, 4, 4, 8, 9, 6, 2, 6, 2, 9, 1, 8, 7, 8, 5, 5, 6, 3, 5, 6, 5, 2, 7, 9, 6, 10, 2, 1, 2, 10, 10, 6, 1, 2, 3, 4, 5, 6, 7, 8, 10, 1, 2, 3, 4, 6, 7, 8, 10, 7, 2, 3, 4, 6, 1, 2, 6, 7, 10, 4, 3, 2, 9, 10, 3, 6, 8, 9, 2, 3, 10, 1, 5, 4, 3, 2, 3, 7, 10, 1, 2, 3, 4, 6, 7, 8, 2, 6, 1, 2, 3, 7, 10, 1, 2, 3, 7, 4, 7, 4, 8, 4, 1, 2, 3, 4, 5, 6, 7, 8, 1, 3, 4, 3, 2, 3, 6, 1, 2, 3, 4, 5, 6, 7, 8, 1, 2, 10, 2, 3, 7, 3, 4, 1, 2, 3, 7, 5, 1, 4, 2, 5, 8, 3, 3, 3, 4, 10, 4, 5, 5, 4, 4, 6, 9, 8, 5, 5, 6, 3, 1, 2, 10, 3, 4, 8, 3, 1, 8, 6, 1, 10, 2, 1, 3, 7, 2, 7, 6, 8, 1, 5, 6, 5, 2, 2, 7, 1, 3, 4, 6, 7, 8, 10, 5, 6, 1, 5, 6, 8, 9, 2, 4, 5, 6, 5, 6, 5, 8, 5, 6, 2, 6, 8, 5, 5, 5, 1, 2, 3, 6, 7, 10, 1, 6, 8, 2, 5, 7, 1, 2, 3, 4, 5, 6, 7, 8, 10, 1, 5, 2, 7, 3, 4, 5, 3, 5, 1, 4, 10, 3, 10, 5, 6, 4, 8, 3, 3, 3, 2, 10, 2, 6, 7, 10, 6, 1, 2, 10, 2, 4, 2, 8, 2, 3, 10, 10, 5, 5, 10, 5, 5, 5, 3, 3, 4, 2, 7, 9, 4, 3, 1, 10, 2, 3, 4, 9, 3, 8, 8, 2, 3, 9, 2, 7, 5, 8, 5, 3, 3, 9, 8, 1, 3, 4, 3, 2, 7, 3, 8, 5, 8, 6, 2, 7, 3, 8, 2, 1, 4, 6, 9, 6, 2, 7, 2, 10, 10, 1, 4, 1, 3, 4, 5, 6, 7, 8, 1, 4, 4, 8, 6, 2, 6, 8, 5, 5, 8, 2, 7, 3, 5, 3, 7, 1, 2, 6, 3, 1, 9, 3, 9, 2, 9, 1, 9, 6, 9, 6, 4, 7, 6, 7, 9, 2, 5, 6, 4, 4, 5, 5, 6, 6, 5, 3, 4, 6, 9, 6, 2, 4, 1, 9, 2, 7, 6, 7, 5, 2, 5, 1, 2, 1, 6, 5, 5, 5, 4, 3, 6, 8, 10, 1, 3, 8, 2, 7, 6, 7, 2, 9, 1, 9, 5, 5, 5, 6, 1, 5, 2, 2, 8, 3, 9, 5, 4, 5, 8, 2, 5, 6, 1, 2, 3, 4, 5, 6, 7, 8, 10, 4, 2, 6, 4, 3, 4, 6, 9, 6, 10, 5, 6, 5, 6, 10], \"Freq\": [0.66122967004776, 0.6593862175941467, 0.6593862771987915, 0.6750229001045227, 0.6740634441375732, 0.6750229597091675, 0.8873386979103088, 0.7627875804901123, 0.5477549433708191, 0.6826680898666382, 0.659386157989502, 0.6827183365821838, 0.6593862771987915, 0.546200156211853, 0.9456192255020142, 0.762769341468811, 0.7438805103302002, 0.7627872824668884, 0.8856789469718933, 0.659397542476654, 0.682702362537384, 0.4372638463973999, 0.4372638463973999, 0.6823780536651611, 0.6740634441375732, 0.6757329106330872, 0.3378664553165436, 0.7883628606796265, 0.6828270554542542, 0.8308333158493042, 0.6388464570045471, 0.8688415884971619, 0.051108330488204956, 0.051108330488204956, 0.8308333158493042, 0.682373046875, 0.16603754460811615, 0.14231790602207184, 0.21347685158252716, 0.16603754460811615, 0.047439299523830414, 0.11859825253486633, 0.047439299523830414, 0.047439299523830414, 0.023719649761915207, 0.18276360630989075, 0.18276360630989075, 0.23498177528381348, 0.18276360630989075, 0.07832726091146469, 0.05221817269921303, 0.05221817269921303, 0.026109086349606514, 0.743788480758667, 0.27274516224861145, 0.27274516224861145, 0.27274516224861145, 0.09091505408287048, 0.6282134056091309, 0.17952752113342285, 0.3590550422668457, 0.17952752113342285, 0.17952752113342285, 0.675022304058075, 0.66122967004776, 0.5919635891914368, 0.2959817945957184, 0.2959817945957184, 0.66122967004776, 0.899893581867218, 0.7627875804901123, 0.7881337404251099, 0.3553963601589203, 0.3553963601589203, 0.3553963601589203, 0.8126084804534912, 0.6740634441375732, 0.675023078918457, 0.6612296104431152, 0.3542637228965759, 0.23617582023143768, 0.11808791011571884, 0.23617582023143768, 0.32321587204933167, 0.13467328250408173, 0.18854260444641113, 0.16160793602466583, 0.08080396801233292, 0.05386931449174881, 0.05386931449174881, 0.659386157989502, 0.6827623844146729, 0.2590181529521942, 0.43169692158699036, 0.08633938431739807, 0.08633938431739807, 0.08633938431739807, 0.2870596945285797, 0.478432834148407, 0.09568656980991364, 0.09568656980991364, 0.47240936756134033, 0.47240936756134033, 0.6750229001045227, 0.7627875804901123, 0.6750228404998779, 0.15298429131507874, 0.15298429131507874, 0.15298429131507874, 0.2294764369726181, 0.07649214565753937, 0.07649214565753937, 0.07649214565753937, 0.07649214565753937, 0.834425687789917, 0.43766647577285767, 0.43766647577285767, 0.661230742931366, 0.43103986978530884, 0.43103986978530884, 0.682373046875, 0.2510984241962433, 0.14348481595516205, 0.14348481595516205, 0.10761361569166183, 0.14348481595516205, 0.10761361569166183, 0.05380680784583092, 0.03587120398879051, 0.2701406478881836, 0.5402812957763672, 0.2701406478881836, 0.5133912563323975, 0.25669562816619873, 0.12834781408309937, 0.4376666247844696, 0.4376666247844696, 0.2706097662448883, 0.45101630687713623, 0.09020326286554337, 0.09020326286554337, 0.6740634441375732, 0.943565309047699, 0.6608415246009827, 0.6593862771987915, 0.4794791042804718, 0.4794791042804718, 0.66122967004776, 0.66122967004776, 0.66122967004776, 0.675022304058075, 0.8308331966400146, 0.675022304058075, 0.6740634441375732, 0.8856046795845032, 0.8873385787010193, 0.664345920085907, 0.3321729600429535, 0.8508750200271606, 0.7627872228622437, 0.9750264286994934, 0.6740634441375732, 0.682373046875, 0.66122967004776, 0.8688914775848389, 0.051111262291669846, 0.051111262291669846, 0.465943843126297, 0.2329719215631485, 0.2329719215631485, 0.66122967004776, 0.8081766963005066, 0.7627871036529541, 0.682373046875, 0.8128606677055359, 0.8308333158493042, 0.8605150580406189, 0.6282134056091309, 0.66122967004776, 0.7438163757324219, 0.4646972119808197, 0.4646972119808197, 0.4836687743663788, 0.4836687743663788, 0.8081769347190857, 0.6740634441375732, 0.682373046875, 0.6740634441375732, 0.8605144619941711, 0.6593862175941467, 0.7437914609909058, 0.18806883692741394, 0.3447928726673126, 0.31344807147979736, 0.03134480491280556, 0.03134480491280556, 0.03134480491280556, 0.03134480491280556, 0.8856260180473328, 0.682373046875, 0.6282134652137756, 0.7126581072807312, 0.2375526875257492, 0.15425944328308105, 0.6170377731323242, 0.764289379119873, 0.6750229597091675, 0.6740634441375732, 0.9000823497772217, 0.7126839756965637, 0.23756133019924164, 0.4794791042804718, 0.4794791042804718, 0.7278385758399963, 0.29113543033599854, 0.6593862771987915, 0.4836687743663788, 0.4836687743663788, 0.6740634441375732, 0.6740634441375732, 0.6740634441375732, 0.08979707211256027, 0.3591882884502411, 0.17959414422512054, 0.17959414422512054, 0.17959414422512054, 0.08979707211256027, 0.6282134056091309, 0.7082496285438538, 0.3541248142719269, 0.6593862175941467, 0.885607898235321, 0.7438804507255554, 0.2339395135641098, 0.1914050579071045, 0.1914050579071045, 0.12760336697101593, 0.021267227828502655, 0.10633613914251328, 0.04253445565700531, 0.06380168348550797, 0.021267227828502655, 0.7260034680366516, 0.24200116097927094, 0.6757725477218628, 0.3378862738609314, 0.6478242874145508, 0.3239121437072754, 0.6740634441375732, 0.6612296104431152, 0.6740634441375732, 0.8950595259666443, 0.6750228404998779, 0.8308333158493042, 0.6612296104431152, 0.8308333158493042, 0.7126549482345581, 0.23755164444446564, 0.7002815008163452, 0.3501407504081726, 0.6612296104431152, 0.86402428150177, 0.6612296104431152, 0.7095695734024048, 0.3547847867012024, 0.17952360212802887, 0.35904720425605774, 0.17952360212802887, 0.17952360212802887, 0.6826744079589844, 0.8688860535621643, 0.051110945641994476, 0.051110945641994476, 0.659386157989502, 0.6608415246009827, 0.4720056354999542, 0.4720056354999542, 0.3554082214832306, 0.3554082214832306, 0.3554082214832306, 0.8308333158493042, 0.8856306076049805, 0.8856094479560852, 0.8308331966400146, 0.6740634441375732, 0.6740634441375732, 0.6740634441375732, 0.66122967004776, 0.66122967004776, 0.8873274922370911, 0.4646642506122589, 0.4646642506122589, 0.8514213562011719, 0.8873274922370911, 0.66122967004776, 0.8449364900588989, 0.21123412251472473, 0.4310398995876312, 0.4310398995876312, 0.8873357772827148, 0.7880975008010864, 0.66122967004776, 0.7627872824668884, 0.7627871036529541, 0.8605143427848816, 0.482663631439209, 0.482663631439209, 0.4646645784378052, 0.4646645784378052, 0.6740634441375732, 0.7627872228622437, 0.6740634441375732, 0.6612296104431152, 0.4826638102531433, 0.4826638102531433, 0.7627871036529541, 0.8951044678688049, 0.66122967004776, 0.8873279690742493, 0.66122967004776, 0.659386157989502, 0.5044472813606262, 0.4729495048522949, 0.4729495048522949, 0.4794791042804718, 0.4794791042804718, 0.6826775074005127, 0.4646972119808197, 0.4646972119808197, 0.66122967004776, 0.7627872824668884, 0.8605147004127502, 0.8085730075836182, 0.8873303532600403, 0.49394491314888, 0.49394491314888, 0.6825060844421387, 0.659386157989502, 0.5044472813606262, 0.7095571160316467, 0.35477855801582336, 0.8308331966400146, 0.6282134056091309, 0.8873357772827148, 0.08669634908437729, 0.17339269816875458, 0.17339269816875458, 0.08669634908437729, 0.17339269816875458, 0.08669634908437729, 0.17339269816875458, 0.8343966603279114, 0.6608415246009827, 0.7002815008163452, 0.3501407504081726, 0.6827806234359741, 0.8608182668685913, 0.4836687743663788, 0.4836687743663788, 0.6740634441375732, 0.3720718324184418, 0.3720718324184418, 0.3584223687648773, 0.3584223687648773, 0.66122967004776, 0.6740634441375732, 0.66122967004776, 0.7437384128570557, 0.6282134056091309, 0.6593862175941467, 0.682373046875, 0.66122967004776, 0.7471664547920227, 0.18679161369800568, 0.48266318440437317, 0.48266318440437317, 0.6593862771987915, 0.7881117463111877, 0.74711674451828, 0.18677918612957, 0.4939883053302765, 0.4939883053302765, 0.682373046875, 0.6750229001045227, 0.7438805103302002, 0.47600069642066956, 0.47600069642066956, 0.7880644798278809, 0.6593862175941467, 0.6740634441375732, 0.682373046875, 0.8873305320739746, 0.8873358964920044, 0.6740634441375732, 0.6740634441375732, 0.682373046875, 0.8997063040733337, 0.6740634441375732, 0.66122967004776, 0.6750228404998779, 0.6827087998390198, 0.7881054878234863, 0.6824458837509155, 0.6593862771987915, 0.6750228404998779, 0.7470613121986389, 0.18676532804965973, 0.4646972119808197, 0.4646972119808197, 0.476012647151947, 0.476012647151947, 0.6740634441375732, 0.659386157989502, 0.6740634441375732, 0.8081766963005066, 0.8605165481567383, 0.6282134056091309, 0.6824584603309631, 0.6740634441375732, 0.6740634441375732, 0.6740634441375732, 0.675022304058075, 0.6612296104431152, 0.708246111869812, 0.354123055934906, 0.8308331966400146, 0.8085594177246094, 0.4729495048522949, 0.4729495048522949, 0.35842233896255493, 0.35842233896255493, 0.6824736595153809, 0.5044472813606262, 0.8605148196220398, 0.7880480289459229, 0.7471610307693481, 0.18679025769233704, 0.6740634441375732, 0.6740634441375732, 0.5305426120758057, 0.5305426120758057, 0.6282135844230652, 0.6740634441375732, 0.8605143427848816, 0.5689389109611511, 0.28446945548057556, 0.4826643466949463, 0.4826643466949463, 0.6740634441375732, 0.6750229001045227, 0.4794791042804718, 0.4794791042804718, 0.6593862175941467, 0.4465871751308441, 0.4465871751308441, 0.17573435604572296, 0.17573435604572296, 0.2259441763162613, 0.17573435604572296, 0.025104908272624016, 0.10041963309049606, 0.05020981654524803, 0.05020981654524803, 0.025104908272624016, 0.8873297572135925, 0.764289379119873, 0.6823780536651611, 0.6750222444534302, 0.66122967004776, 0.8873357772827148, 0.6824927926063538, 0.7883628010749817, 0.682468056678772, 0.8308333158493042, 0.3337683379650116, 0.6675366759300232, 0.4005933105945587, 0.20029665529727936, 0.4005933105945587], \"Term\": [\"-amira\", \"-dr.\", \"-grenzwerte\", \"-podolay,\", \"-preis\", \"-steuer\", \"04\", \"05\", \"09\", \"106,\", \"11.\", \"143h\", \"15.\", \"16\", \"16.\", \"17.\", \"2.\", \"20\", \"2018\", \"2019\", \"20a,\", \"22.\", \"22.\", \"23\", \"24.\", \"4.\", \"4.\", \"7\", \"74,\", \"8.\", \"9.\", \"90/die\", \"90/die\", \"90/die\", \"96\", \"abgabe\", \"abgeordneten\", \"abgeordneten\", \"abgeordneten\", \"abgeordneten\", \"abgeordneten\", \"abgeordneten\", \"abgeordneten\", \"abgeordneten\", \"abgeordneten\", \"abgeordneter\", \"abgeordneter\", \"abgeordneter\", \"abgeordneter\", \"abgeordneter\", \"abgeordneter\", \"abgeordneter\", \"abgeordneter\", \"achelwilm,\", \"afd\", \"afd\", \"afd\", \"afd\", \"afd,\", \"aggelidis,\", \"aggelidis,\", \"aggelidis,\", \"aggelidis,\", \"agnieszka\", \"albrecht\", \"alexander\", \"alexander\", \"alexander\", \"ali,\", \"alt,\", \"amt\", \"andrej\", \"anja\", \"anja\", \"anja\", \"anna\", \"anpassung\", \"anschlie\\u00dfender\", \"anton\", \"antrag\", \"antrag\", \"antrag\", \"antrag\", \"antrags\", \"antrags\", \"antrags\", \"antrags\", \"antrags\", \"antrags\", \"antrags\", \"arbeit\", \"artikel\", \"ausschuss\", \"ausschuss\", \"ausschuss\", \"ausschuss\", \"ausschuss\", \"ausschusses\", \"ausschusses\", \"ausschusses\", \"ausschusses\", \"aussprache\", \"aussprache\", \"auswirkungen\", \"ausw\\u00e4rtiges\", \"axel\", \"b\", \"b\", \"b\", \"b\", \"b\", \"b\", \"b\", \"b\", \"badum,\", \"baumann,\", \"baumann,\", \"bause,\", \"beer,\", \"beer,\", \"beirat\", \"beratung\", \"beratung\", \"beratung\", \"beratung\", \"beratung\", \"beratung\", \"beratung\", \"beratung\", \"bericht\", \"bericht\", \"bericht\", \"berichts\", \"berichts\", \"berichts\", \"bernd\", \"bernd\", \"beschlussempfehlung\", \"beschlussempfehlung\", \"beschlussempfehlung\", \"beschlussempfehlung\", \"besch\\u00e4ftigten\", \"bettina\", \"beutin,\", \"bijan\", \"birkwald,\", \"birkwald,\", \"bluhm,\", \"brandenburg\", \"brandt,\", \"brantner,\", \"britta\", \"brugger,\", \"buches\", \"bundeshaushaltsplans\", \"bundeskanzleramt\", \"bundeskanzlerin\", \"bundeskanzlerin\", \"bundesministerium\", \"bundesrechnungshof\", \"bundesregierung\", \"bundesrepublik\", \"bundestages\", \"busen,\", \"b\\u00fcndnis\", \"b\\u00fcndnis\", \"b\\u00fcndnis\", \"c\", \"c\", \"c\", \"carina\", \"cdu/csu,\", \"cezanne,\", \"christian\", \"christmann,\", \"christoph\", \"chrupalla,\", \"claudia\", \"clemens\", \"cornelia\", \"daniela\", \"daniela\", \"de\", \"de\", \"debatte\", \"deutsch-franz\\u00f6sische\", \"deutschen\", \"deutschland\", \"digitale\", \"djir-sarai,\", \"doris\", \"dr.\", \"dr.\", \"dr.\", \"dr.\", \"dr.\", \"dr.\", \"dr.\", \"dritte\", \"d\\u00fcrr,\", \"einbarte\", \"eingebrachten\", \"eingebrachten\", \"einzelplan\", \"einzelplan\", \"energie\", \"energiepreise\", \"entlastung\", \"entwicklung\", \"entwurfs\", \"entwurfs\", \"ernst,\", \"ernst,\", \"erste\", \"erste\", \"eu\", \"fabio\", \"fabio\", \"famentlastg\", \"familien\", \"familienentlastungsgesetz\", \"fdp\", \"fdp\", \"fdp\", \"fdp\", \"fdp\", \"fdp\", \"fdp,\", \"ferschl,\", \"ferschl,\", \"festlegen\", \"feststellung\", \"fortsetzung\", \"fraktion\", \"fraktion\", \"fraktion\", \"fraktion\", \"fraktion\", \"fraktion\", \"fraktion\", \"fraktion\", \"fraktion\", \"fraktionen\", \"fraktionen\", \"frank\", \"frank\", \"franziska\", \"franziska\", \"franz\\u00f6sischen\", \"friesen,\", \"f\\u00fcnften\", \"gehring,\", \"gehrke,\", \"gem\\u00e4\\u00df\", \"gero\", \"gesch\\u00e4ftsordnung\", \"gesetzes\", \"gesetzes\", \"gesine\", \"gesine\", \"glaser,\", \"gminder,\", \"gottfried\", \"graf\", \"graf\", \"grigorios\", \"grigorios\", \"grigorios\", \"grigorios\", \"grundgesetzes\", \"gr\\u00fcnen\", \"gr\\u00fcnen\", \"gr\\u00fcnen\", \"g\\u00f6ring-eckardt,\", \"g\\u00f6sta\", \"h\", \"h\", \"hajduk,\", \"hajduk,\", \"hajduk,\", \"haushaltsausschusses\", \"haushaltsgesetz\", \"haushaltsjahr\", \"ha\\u00dfelmann,\", \"hebammenausbildung\", \"hebammenreformgesetz\", \"hebrefg\", \"heidrun\", \"heike\", \"heiko\", \"heimat\", \"heimat\", \"hier:\", \"hilse,\", \"hocker,\", \"hoffmann,\", \"hoffmann,\", \"hollnagel,\", \"hollnagel,\", \"hubertus\", \"hunko,\", \"h\\u00e4nsel,\", \"h\\u00f6hn,\", \"ier:\", \"infrastruktur\", \"ingrid\", \"ingrid\", \"inneres\", \"inneres\", \"integration\", \"jan\", \"januar\", \"jens\", \"julia\", \"julia\", \"j\\u00f6rg\", \"kai\", \"karlheinz\", \"karsten\", \"katja\", \"katrin\", \"kemmerich,\", \"kirsten\", \"kirsten\", \"klaus\", \"klaus\", \"klimaschutzes\", \"kluckert,\", \"kluckert,\", \"konrad,\", \"korte,\", \"kotr\\u00e9,\", \"kotting-uhl,\", \"kraft,\", \"krischer,\", \"krischer,\", \"kuhle,\", \"kurth,\", \"l.\", \"lambsdorff,\", \"lambsdorff,\", \"lehmann,\", \"lemke,\", \"lenkert,\", \"linke\", \"linke\", \"linke\", \"linke\", \"linke\", \"linke\", \"linke\", \"lisa\", \"lorenz\", \"l\\u00f6tzsch,\", \"l\\u00f6tzsch,\", \"manuela\", \"markus\", \"masi,\", \"masi,\", \"massenentlassungen\", \"matthias\", \"matthias\", \"michael\", \"michael\", \"michel\", \"mitbestimmungsrechte\", \"mohamed\", \"m\\u00f6hring,\", \"m\\u00fcller,\", \"m\\u00fcller-rosentritt,\", \"nachhaltige\", \"nastic,\", \"naturschutz\", \"naturschutz\", \"nestle,\", \"nestle,\", \"neu\", \"neu,\", \"nukleare\", \"nukleare\", \"oliver\", \"oliver\", \"parlamentarischen\", \"paul\", \"petitionsausschusses\", \"petra\", \"petra\", \"pfl\\u00fcger,\", \"pkw\", \"profitablen\", \"pr\\u00e4sidenten\", \"rainer\", \"ralph\", \"reform\", \"regelungen\", \"regierungserkl\\u00e4rung\", \"renata\", \"republik\", \"rhein-neckar,\", \"robby\", \"rottmann,\", \"s.\", \"sabine\", \"sandra\", \"schlund,\", \"sicherheit\", \"sicherheit\", \"sitta,\", \"sitta,\", \"sitte,\", \"sitte,\", \"sowie\", \"soziales\", \"sozialgesetzbuch\", \"spd,\", \"steffen\", \"steffi\", \"stephan\", \"steuerlichen\", \"steuerlicher\", \"strategischen\", \"strengmann-kuhn,\", \"suding,\", \"susanne\", \"susanne\", \"sven\", \"sylvia\", \"tackmann,\", \"tackmann,\", \"theurer,\", \"theurer,\", \"thomae,\", \"thomas\", \"tino\", \"tobias\", \"umwelt,\", \"umwelt,\", \"unternehmen\", \"unternehmensentscheidungen\", \"unterrichtung\", \"unterrichtung\", \"ver\", \"verbot\", \"verkehr\", \"verlangen\", \"verlangen\", \"verlinden,\", \"verlinden,\", \"vertrag\", \"viktor\", \"w.\", \"w.\", \"weeser,\", \"weiteren\", \"weiteren\", \"weiterer\", \"weiterer\", \"weiterer\", \"weiterer\", \"weiterer\", \"weiterer\", \"weiterer\", \"weiterer\", \"weiterer\", \"wildberg,\", \"wirtschaft\", \"wirtschaftliche\", \"wolfgang\", \"zaklin\", \"zdebel,\", \"zimmermann\", \"zp\", \"zwickau,\", \"\\u00a7\", \"\\u00e4nderung\", \"\\u00e4nderung\", \"\\u2013\", \"\\u2013\", \"\\u2013\"]}, \"R\": 30, \"lambda.step\": 0.01, \"plot.opts\": {\"xlab\": \"PC1\", \"ylab\": \"PC2\"}, \"topic.order\": [10, 1, 3, 5, 2, 6, 7, 4, 8, 9]};\n",
       "\n",
       "function LDAvis_load_lib(url, callback){\n",
       "  var s = document.createElement('script');\n",
       "  s.src = url;\n",
       "  s.async = true;\n",
       "  s.onreadystatechange = s.onload = callback;\n",
       "  s.onerror = function(){console.warn(\"failed to load library \" + url);};\n",
       "  document.getElementsByTagName(\"head\")[0].appendChild(s);\n",
       "}\n",
       "\n",
       "if(typeof(LDAvis) !== \"undefined\"){\n",
       "   // already loaded: just create the visualization\n",
       "   !function(LDAvis){\n",
       "       new LDAvis(\"#\" + \"ldavis_el242931405380546391927055306430\", ldavis_el242931405380546391927055306430_data);\n",
       "   }(LDAvis);\n",
       "}else if(typeof define === \"function\" && define.amd){\n",
       "   // require.js is available: use it to load d3/LDAvis\n",
       "   require.config({paths: {d3: \"https://cdnjs.cloudflare.com/ajax/libs/d3/3.5.5/d3.min\"}});\n",
       "   require([\"d3\"], function(d3){\n",
       "      window.d3 = d3;\n",
       "      LDAvis_load_lib(\"https://cdn.rawgit.com/bmabey/pyLDAvis/files/ldavis.v1.0.0.js\", function(){\n",
       "        new LDAvis(\"#\" + \"ldavis_el242931405380546391927055306430\", ldavis_el242931405380546391927055306430_data);\n",
       "      });\n",
       "    });\n",
       "}else{\n",
       "    // require.js not available: dynamically load d3 & LDAvis\n",
       "    LDAvis_load_lib(\"https://cdnjs.cloudflare.com/ajax/libs/d3/3.5.5/d3.min.js\", function(){\n",
       "         LDAvis_load_lib(\"https://cdn.rawgit.com/bmabey/pyLDAvis/files/ldavis.v1.0.0.js\", function(){\n",
       "                 new LDAvis(\"#\" + \"ldavis_el242931405380546391927055306430\", ldavis_el242931405380546391927055306430_data);\n",
       "            })\n",
       "         });\n",
       "}\n",
       "</script>"
      ],
      "text/plain": [
       "PreparedData(topic_coordinates=              x         y  topics  cluster       Freq\n",
       "topic                                                \n",
       "9     -0.117901 -0.067043       1        1  19.221394\n",
       "0     -0.098908  0.054839       2        1  14.946006\n",
       "2     -0.093224  0.032103       3        1  13.923037\n",
       "4     -0.060045  0.041982       4        1  11.937613\n",
       "1      0.246478  0.061896       5        1  11.558359\n",
       "5      0.061507  0.066879       6        1  10.309101\n",
       "6     -0.032904  0.043166       7        1   5.546084\n",
       "3      0.019701 -0.001573       8        1   4.922706\n",
       "7      0.074666 -0.199075       9        1   4.267295\n",
       "8      0.000631 -0.033174      10        1   3.368410, topic_info=     Category       Freq                 Term      Total  loglift  logprob\n",
       "term                                                                      \n",
       "37    Default  19.000000               90/die  19.000000  30.0000  30.0000\n",
       "39    Default  19.000000               grünen  19.000000  29.0000  29.0000\n",
       "38    Default  19.000000              bündnis  19.000000  28.0000  28.0000\n",
       "2     Default   9.000000      bundesregierung   9.000000  27.0000  27.0000\n",
       "18    Default  31.000000                  dr.  31.000000  26.0000  26.0000\n",
       "100   Default   6.000000           einzelplan   6.000000  25.0000  25.0000\n",
       "101   Default   5.000000                hier:   5.000000  24.0000  24.0000\n",
       "62    Default   8.000000        eingebrachten   8.000000  23.0000  23.0000\n",
       "63    Default   8.000000             entwurfs   8.000000  22.0000  22.0000\n",
       "65    Default   8.000000             gesetzes   8.000000  21.0000  21.0000\n",
       "70    Default   8.000000               antrag   8.000000  20.0000  20.0000\n",
       "150   Default   4.000000                    –   4.000000  19.0000  19.0000\n",
       "11    Default  38.000000         abgeordneter  38.000000  18.0000  18.0000\n",
       "99    Default   3.000000    bundesministerium   3.000000  17.0000  17.0000\n",
       "44    Default  11.000000                linke  11.000000  16.0000  16.0000\n",
       "19    Default  47.000000             fraktion  47.000000  15.0000  15.0000\n",
       "108   Default   6.000000                erste   6.000000  14.0000  14.0000\n",
       "31    Default  11.000000                  fdp  11.000000  13.0000  13.0000\n",
       "71    Default  11.000000            ausschuss  11.000000  12.0000  12.0000\n",
       "14    Default  37.000000              antrags  37.000000  11.0000  11.0000\n",
       "74    Default  11.000000  beschlussempfehlung  11.000000  10.0000  10.0000\n",
       "24    Default  39.000000             weiterer  39.000000   9.0000   9.0000\n",
       "104   Default   5.000000           sicherheit   5.000000   8.0000   8.0000\n",
       "103   Default   5.000000             nukleare   5.000000   7.0000   7.0000\n",
       "102   Default   5.000000          naturschutz   5.000000   6.0000   6.0000\n",
       "105   Default   5.000000              umwelt,   5.000000   5.0000   5.0000\n",
       "30    Default   5.000000           aggelidis,   5.000000   4.0000   4.0000\n",
       "32    Default   5.000000            grigorios   5.000000   3.0000   3.0000\n",
       "10    Default  42.000000         abgeordneten  42.000000   2.0000   2.0000\n",
       "73    Default   7.000000             berichts   7.000000   1.0000   1.0000\n",
       "...       ...        ...                  ...        ...      ...      ...\n",
       "292   Topic10   0.544154           haßelmann,   1.203611   2.5969  -4.3195\n",
       "293   Topic10   0.544154             lehmann,   1.203611   2.5969  -4.3195\n",
       "294   Topic10   0.544154                 sven   1.203611   2.5969  -4.3195\n",
       "150   Topic10   2.029825                    –   4.992595   2.4907  -3.0030\n",
       "284   Topic10   0.544154              hajduk,   2.813666   1.7477  -4.3195\n",
       "280   Topic10   0.544154                 anja   2.813760   1.7477  -4.3195\n",
       "157   Topic10   0.544154                 graf   2.818610   1.7460  -4.3195\n",
       "158   Topic10   0.544154          lambsdorff,   2.818660   1.7459  -4.3195\n",
       "70    Topic10   1.533581               antrag   8.468267   1.6820  -3.2833\n",
       "155   Topic10   0.544154            alexander   3.378586   1.5648  -4.3195\n",
       "84    Topic10   0.544154              bericht   3.701776   1.4734  -4.3195\n",
       "111   Topic10   0.544154            hoffmann,   4.734084   1.2274  -4.3195\n",
       "40    Topic10   0.394982            verlangen   3.515316   1.2047  -4.6399\n",
       "30    Topic10   0.544154           aggelidis,   5.570177   1.0648  -4.3195\n",
       "32    Topic10   0.544154            grigorios   5.570298   1.0648  -4.3195\n",
       "31    Topic10   0.548532                  fdp  11.136221   0.3800  -4.3115\n",
       "71    Topic10   0.544213            ausschuss  11.582200   0.3328  -4.3194\n",
       "49    Topic10   0.049469                    7   1.268451   0.1465  -6.7174\n",
       "56    Topic10   0.049469                   zp   1.268452   0.1465  -6.7174\n",
       "187   Topic10   0.049469               andrej   1.268820   0.1462  -6.7174\n",
       "189   Topic10   0.049469                 neu,   1.268856   0.1462  -6.7174\n",
       "191   Topic10   0.049469                   s.   1.268866   0.1462  -6.7174\n",
       "37    Topic10   0.596914               90/die  19.566282  -0.0991  -4.2269\n",
       "38    Topic10   0.596106              bündnis  19.565159  -0.1004  -4.2283\n",
       "39    Topic10   0.595215               grünen  19.565281  -0.1019  -4.2298\n",
       "19    Topic10   1.280309             fraktion  47.020702  -0.2128  -3.4638\n",
       "11    Topic10   1.017577         abgeordneter  38.300842  -0.2373  -3.6935\n",
       "24    Topic10   1.017543             weiterer  39.832848  -0.2766  -3.6936\n",
       "10    Topic10   1.018838         abgeordneten  42.159138  -0.3321  -3.6923\n",
       "18    Topic10   0.546325                  dr.  31.903212  -0.6765  -4.3155\n",
       "\n",
       "[477 rows x 6 columns], token_table=      Topic      Freq             Term\n",
       "term                                  \n",
       "159       3  0.661230           -amira\n",
       "201       2  0.659386             -dr.\n",
       "229       2  0.659386      -grenzwerte\n",
       "170       4  0.675023        -podolay,\n",
       "0         5  0.674063           -preis\n",
       "130       4  0.675023          -steuer\n",
       "152       4  0.887339               04\n",
       "224       8  0.762788               05\n",
       "151       9  0.547755               09\n",
       "376       6  0.682668             106,\n",
       "350       2  0.659386              11.\n",
       "377       6  0.682718             143h\n",
       "214       2  0.659386              15.\n",
       "98        9  0.546200               16\n",
       "227       1  0.945619              16.\n",
       "313       8  0.762769              17.\n",
       "318       7  0.743881               2.\n",
       "183       8  0.762787               20\n",
       "59        5  0.885679             2018\n",
       "138       5  0.659398             2019\n",
       "378       6  0.682702             20a,\n",
       "115       3  0.437264              22.\n",
       "115       5  0.437264              22.\n",
       "243       6  0.682378               23\n",
       "234       5  0.674063              24.\n",
       "215       2  0.675733               4.\n",
       "215       7  0.337866               4.\n",
       "49        9  0.788363                7\n",
       "379       6  0.682827              74,\n",
       "195      10  0.830833               8.\n",
       "...     ...       ...              ...\n",
       "176       4  0.675023           viktor\n",
       "213       5  0.479479               w.\n",
       "213       8  0.479479               w.\n",
       "386       2  0.659386          weeser,\n",
       "310       5  0.446587         weiteren\n",
       "310       6  0.446587         weiteren\n",
       "24        1  0.175734         weiterer\n",
       "24        2  0.175734         weiterer\n",
       "24        3  0.225944         weiterer\n",
       "24        4  0.175734         weiterer\n",
       "24        5  0.025105         weiterer\n",
       "24        6  0.100420         weiterer\n",
       "24        7  0.050210         weiterer\n",
       "24        8  0.050210         weiterer\n",
       "24       10  0.025105         weiterer\n",
       "349       4  0.887330        wildberg,\n",
       "86        2  0.764289       wirtschaft\n",
       "245       6  0.682378  wirtschaftliche\n",
       "97        4  0.675022         wolfgang\n",
       "392       3  0.661230           zaklin\n",
       "194       4  0.887336          zdebel,\n",
       "327       6  0.682493       zimmermann\n",
       "56        9  0.788363               zp\n",
       "328       6  0.682468         zwickau,\n",
       "200      10  0.830833                §\n",
       "242       5  0.333768         änderung\n",
       "242       6  0.667537         änderung\n",
       "150       5  0.400593                –\n",
       "150       6  0.200297                –\n",
       "150      10  0.400593                –\n",
       "\n",
       "[479 rows x 3 columns], R=30, lambda_step=0.01, plot_opts={'xlab': 'PC1', 'ylab': 'PC2'}, topic_order=[10, 1, 3, 5, 2, 6, 7, 4, 8, 9])"
      ]
     },
     "execution_count": 18,
     "metadata": {},
     "output_type": "execute_result"
    }
   ],
   "source": [
    "import pyLDAvis \n",
    "import pyLDAvis.gensim \n",
    "pyLDAvis.enable_notebook()\n",
    "vis = pyLDAvis.gensim.prepare(lda_model, agenda_corpus, dictionary)\n",
    "vis"
   ]
  }
 ],
 "metadata": {
  "kernelspec": {
   "display_name": "tmv_yt",
   "language": "python",
   "name": "tmv_yt"
  },
  "language_info": {
   "codemirror_mode": {
    "name": "ipython",
    "version": 3
   },
   "file_extension": ".py",
   "mimetype": "text/x-python",
   "name": "python",
   "nbconvert_exporter": "python",
   "pygments_lexer": "ipython3",
   "version": "3.6.6"
  }
 },
 "nbformat": 4,
 "nbformat_minor": 2
}
