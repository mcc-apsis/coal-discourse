{
 "cells": [
  {
   "cell_type": "code",
   "execution_count": 1,
   "metadata": {
    "collapsed": true,
    "deletable": true,
    "editable": true
   },
   "outputs": [],
   "source": [
    "import matplotlib.pylab as plt\n",
    "import numpy as np\n",
    "import pandas as pd\n",
    "import time\n",
    "import sys\n",
    "import os\n",
    "\n",
    "import seaborn as sns\n",
    "from datetime import datetime"
   ]
  },
  {
   "cell_type": "code",
   "execution_count": 12,
   "metadata": {
    "collapsed": true,
    "deletable": true,
    "editable": true
   },
   "outputs": [],
   "source": [
    "# preamble for jupyter notebook and django\n",
    "import django\n",
    "import platform\n",
    "\n",
    "if platform.node() == \"mcc-apsis\":\n",
    "    #sys.path.append(\"/home/galm/software/django/tmv/BasicBrowser/\")\n",
    "    sys.path.append('/home/leey/tmv/BasicBrowser/')\n",
    "else:\n",
    "    # local paths\n",
    "    sys.path.append('/media/Data/MCC/tmv/BasicBrowser/')\n",
    "\n",
    "os.environ.setdefault(\"DJANGO_SETTINGS_MODULE\", \"BasicBrowser.settings\")\n",
    "django.setup()\n",
    "\n",
    "# import from appended path\n",
    "import parliament.models as pm\n",
    "from parliament.tasks import do_search, run_tm\n",
    "import cities.models as cmodels\n",
    "from django.contrib.auth.models import User\n",
    "from tmv_app.models import *\n",
    "from utils.tm_mgmt import update_topic_scores\n",
    "from utils.topic_comparison import compare_topic_queryset, save_res\n",
    "from django.db.models import Q, Count, Func, F, Sum, Avg, Value as V\n",
    "from django.db.models.functions import TruncDate, TruncMonth, TruncYear"
   ]
  },
  {
   "cell_type": "code",
   "execution_count": 3,
   "metadata": {
    "collapsed": true,
    "deletable": true,
    "editable": true
   },
   "outputs": [],
   "source": [
    "user1, created =  User.objects.get_or_create(username='leey', email='lee@mcc-berlin.net')\n",
    "user1.save()"
   ]
  },
  {
   "cell_type": "code",
   "execution_count": 6,
   "metadata": {
    "collapsed": false,
    "deletable": true,
    "editable": true
   },
   "outputs": [],
   "source": [
    "# ParlPeriod have no associated start and end dates\n",
    "pm.ParlPeriod.objects.get(n=18).end_date"
   ]
  },
  {
   "cell_type": "code",
   "execution_count": 5,
   "metadata": {
    "collapsed": false,
    "deletable": true,
    "editable": true
   },
   "outputs": [],
   "source": [
    "# From wikipedia\n",
    "start_date = datetime.strptime(\"2013-9-22\", \"%Y-%m-%d\")\n",
    "end_date = datetime.strptime(\"2017-10-24\", \"%Y-%m-%d\")"
   ]
  },
  {
   "cell_type": "code",
   "execution_count": 6,
   "metadata": {
    "collapsed": false,
    "deletable": true,
    "editable": true,
    "scrolled": true
   },
   "outputs": [
    {
     "name": "stdout",
     "output_type": "stream",
     "text": [
      "587 utterances with search kohle\n",
      "5422\n",
      "587\n",
      "5422\n",
      "587\n",
      "<QuerySet [<RunStats: RunStats object (1218)>, <RunStats: RunStats object (1219)>, <RunStats: RunStats object (1220)>, <RunStats: RunStats object (1221)>, <RunStats: RunStats object (1222)>, <RunStats: RunStats object (1223)>, <RunStats: RunStats object (1224)>, <RunStats: RunStats object (1225)>, <RunStats: RunStats object (1226)>]>\n"
     ]
    }
   ],
   "source": [
    "# simple search for utterances\n",
    "par_search_tei, created = pm.Search.objects.get_or_create(\n",
    "                title=\"Kohle tei utterance wp18\",\n",
    "                text=\"kohle\",\n",
    "                creator=user1,\n",
    "                start_date = start_date,\n",
    "                stop_date = end_date,\n",
    "                document_source=\"GermaParlTEI\",\n",
    "                search_object_type=2)\n",
    "par_search_tei.save()\n",
    "if created:\n",
    "    print(\"doing search\")\n",
    "do_search(par_search_tei.id)\n",
    "print(par_search_tei.par_count)\n",
    "print(par_search_tei.utterance_count)\n",
    "print(par_search_tei.runstats_set.all())"
   ]
  },
  {
   "cell_type": "code",
   "execution_count": 8,
   "metadata": {
    "collapsed": true,
    "deletable": true,
    "editable": true
   },
   "outputs": [],
   "source": [
    "K_list = [20,25,30,35,40,45,50,55,60]"
   ]
  },
  {
   "cell_type": "code",
   "execution_count": 13,
   "metadata": {
    "collapsed": true,
    "deletable": true,
    "editable": true
   },
   "outputs": [
    {
     "name": "stdout",
     "output_type": "stream",
     "text": [
      "creating term frequency-inverse document frequency matrix (0.8849272727966309)\n",
      "save terms to db (10.724044799804688)\n",
      "running matrix factorization with NMF (30.243937969207764)\n",
      "Reconstruction error of nmf: 21.661152550036753\n",
      "saving document topic matrix to db (44.419779777526855)\n",
      "topic model run done (47.039201974868774)\n",
      "creating term frequency-inverse document frequency matrix (1.1989974975585938)\n",
      "save terms to db (11.480340480804443)\n",
      "running matrix factorization with NMF (31.651530027389526)\n",
      "Reconstruction error of nmf: 21.451772097729673\n",
      "saving document topic matrix to db (45.235482692718506)\n",
      "topic model run done (47.730631589889526)\n",
      "creating term frequency-inverse document frequency matrix (0.897057294845581)\n",
      "save terms to db (10.733131647109985)\n",
      "running matrix factorization with NMF (29.263145446777344)\n",
      "Reconstruction error of nmf: 21.307703198814373\n",
      "saving document topic matrix to db (42.800124168395996)\n",
      "topic model run done (45.62071704864502)\n",
      "creating term frequency-inverse document frequency matrix (0.9059066772460938)\n",
      "save terms to db (10.657581567764282)\n",
      "running matrix factorization with NMF (30.805363416671753)\n",
      "Reconstruction error of nmf: 21.133930581569892\n",
      "saving document topic matrix to db (46.77432560920715)\n",
      "topic model run done (49.6108775138855)\n",
      "creating term frequency-inverse document frequency matrix (1.1593408584594727)\n",
      "save terms to db (10.860849618911743)\n",
      "running matrix factorization with NMF (29.097392797470093)\n",
      "Reconstruction error of nmf: 20.963834777711128\n",
      "saving document topic matrix to db (49.54250144958496)\n",
      "topic model run done (52.93865895271301)\n",
      "creating term frequency-inverse document frequency matrix (0.9550116062164307)\n",
      "save terms to db (10.620820045471191)\n",
      "running matrix factorization with NMF (30.09838032722473)\n",
      "Reconstruction error of nmf: 20.881303608073022\n",
      "saving document topic matrix to db (50.15237593650818)\n",
      "topic model run done (53.469730854034424)\n",
      "creating term frequency-inverse document frequency matrix (0.9897089004516602)\n",
      "save terms to db (10.688617944717407)\n",
      "running matrix factorization with NMF (29.957082986831665)\n",
      "Reconstruction error of nmf: 20.707200685858542\n",
      "saving document topic matrix to db (52.00944685935974)\n",
      "topic model run done (56.152844190597534)\n",
      "creating term frequency-inverse document frequency matrix (0.974172830581665)\n",
      "save terms to db (10.564244270324707)\n",
      "running matrix factorization with NMF (29.731554746627808)\n",
      "Reconstruction error of nmf: 20.598354389346788\n",
      "saving document topic matrix to db (54.85229849815369)\n",
      "topic model run done (59.01188516616821)\n",
      "creating term frequency-inverse document frequency matrix (0.9893126487731934)\n",
      "save terms to db (10.88721752166748)\n",
      "running matrix factorization with NMF (29.951752424240112)\n",
      "Reconstruction error of nmf: 20.476872447583528\n",
      "saving document topic matrix to db (53.87336993217468)\n",
      "topic model run done (57.743950843811035)\n"
     ]
    }
   ],
   "source": [
    "#for K in K_list:\n",
    "#    run_tm(par_search_tei.id, K, method='NM')"
   ]
  },
  {
   "cell_type": "code",
   "execution_count": 9,
   "metadata": {
    "collapsed": false,
    "deletable": true,
    "editable": true
   },
   "outputs": [
    {
     "data": {
      "text/plain": [
       "[1218, 1219, 1220, 1221, 1222, 1223, 1224, 1225, 1226]"
      ]
     },
     "execution_count": 9,
     "metadata": {},
     "output_type": "execute_result"
    }
   ],
   "source": [
    "# append run_ids\n",
    "search_word=\"Kohle\"\n",
    "run_ids_nm = []\n",
    "for K in K_list:\n",
    "    run_ids_nm.append(RunStats.objects.filter(psearch__title=\"{} tei utterance wp18\".format(search_word), method=\"NM\", K=K)[0].run_id)\n",
    "\n",
    "run_ids_nm"
   ]
  },
  {
   "cell_type": "code",
   "execution_count": 10,
   "metadata": {
    "collapsed": true,
    "deletable": true,
    "editable": true
   },
   "outputs": [],
   "source": [
    "runs = RunStats.objects.filter(pk__in=run_ids_nm).order_by('K')"
   ]
  },
  {
   "cell_type": "code",
   "execution_count": 13,
   "metadata": {
    "collapsed": false,
    "deletable": true,
    "editable": true,
    "scrolled": true
   },
   "outputs": [
    {
     "name": "stdout",
     "output_type": "stream",
     "text": [
      "['run_1218_topics_20', 'scores_1218', 'similarity_1218-1219', 'run_1219_topics_25', 'scores_1219', 'similarity_1219-1220', 'run_1220_topics_30', 'scores_1220', 'similarity_1220-1221', 'run_1221_topics_35', 'scores_1221', 'similarity_1221-1222', 'run_1222_topics_40', 'scores_1222', 'similarity_1222-1223', 'run_1223_topics_45', 'scores_1223', 'similarity_1223-1224', 'run_1224_topics_50', 'scores_1224', 'similarity_1224-1225', 'run_1225_topics_55', 'scores_1225', 'similarity_1225-1226', 'run_1226_topics_60', 'scores_1226']\n"
     ]
    }
   ],
   "source": [
    "res_tw, ss, score_matrix = compare_topic_queryset(runs, order_by_str='-score')"
   ]
  },
  {
   "cell_type": "code",
   "execution_count": 14,
   "metadata": {
    "collapsed": false,
    "deletable": true,
    "editable": true
   },
   "outputs": [
    {
     "name": "stdout",
     "output_type": "stream",
     "text": [
      "C2:C89\n",
      "F2:F89\n",
      "I2:I89\n",
      "L2:L89\n",
      "O2:O89\n",
      "R2:R89\n",
      "U2:U89\n",
      "X2:X89\n"
     ]
    },
    {
     "data": {
      "text/plain": [
       "0"
      ]
     },
     "execution_count": 14,
     "metadata": {},
     "output_type": "execute_result"
    }
   ],
   "source": [
    "options = {'fname': \"/home/leey/coal-discourse\"}\n",
    "save_res(runs, [res_tw,ss], options)"
   ]
  }
 ],
 "metadata": {
  "kernelspec": {
   "display_name": "tmv_yt",
   "language": "python",
   "name": "tmv_yt"
  },
  "language_info": {
   "codemirror_mode": {
    "name": "ipython",
    "version": 3
   },
   "file_extension": ".py",
   "mimetype": "text/x-python",
   "name": "python",
   "nbconvert_exporter": "python",
   "pygments_lexer": "ipython3",
   "version": "3.6.6"
  }
 },
 "nbformat": 4,
 "nbformat_minor": 2
}
