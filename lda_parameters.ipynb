{
 "cells": [
  {
   "cell_type": "code",
   "execution_count": 1,
   "metadata": {
    "collapsed": true
   },
   "outputs": [],
   "source": [
    "import matplotlib.pylab as plt\n",
    "import numpy as np\n",
    "import pandas as pd\n",
    "import time\n",
    "import sys\n",
    "import os"
   ]
  },
  {
   "cell_type": "code",
   "execution_count": 2,
   "metadata": {
    "collapsed": true
   },
   "outputs": [],
   "source": [
    "# preamble for jupyter notebook and django\n",
    "import django\n",
    "import platform\n",
    "\n",
    "if platform.node() == \"mcc-apsis\":\n",
    "    sys.path.append('/home/leey/tmv/BasicBrowser/')\n",
    "else:\n",
    "    # local paths\n",
    "    sys.path.append('/media/Data/MCC/tmv/BasicBrowser/')\n",
    "\n",
    "os.environ.setdefault(\"DJANGO_SETTINGS_MODULE\", \"BasicBrowser.settings\")\n",
    "django.setup()\n",
    "\n",
    "# import from appended path\n",
    "import parliament.models as pm\n",
    "from parliament.tasks import do_search, run_tm\n",
    "import cities.models as cmodels\n",
    "from django.contrib.auth.models import User\n",
    "from tmv_app.models import *\n",
    "from utils.tm_mgmt import update_topic_scores\n",
    "from django.db.models import Q, Count, Func, F, Sum, Avg, Value as V"
   ]
  },
  {
   "cell_type": "markdown",
   "metadata": {},
   "source": [
    "Topic Model Run"
   ]
  },
  {
   "cell_type": "code",
   "execution_count": 3,
   "metadata": {
    "collapsed": true
   },
   "outputs": [],
   "source": [
    "user1, created =  User.objects.get_or_create(username='leey', email='lee@mcc-berlin.net')\n",
    "user1.save()"
   ]
  },
  {
   "cell_type": "code",
   "execution_count": 4,
   "metadata": {
    "collapsed": false
   },
   "outputs": [
    {
     "name": "stdout",
     "output_type": "stream",
     "text": [
      "3281 utterances with search kohle\n",
      "35275\n",
      "3281\n",
      "35275\n",
      "3281\n",
      "<QuerySet [<RunStats: RunStats object (1099)>, <RunStats: RunStats object (1069)>, <RunStats: RunStats object (1106)>, <RunStats: RunStats object (1070)>, <RunStats: RunStats object (1100)>, <RunStats: RunStats object (1080)>, <RunStats: RunStats object (1101)>, <RunStats: RunStats object (1081)>, <RunStats: RunStats object (1062)>, <RunStats: RunStats object (1082)>, <RunStats: RunStats object (1061)>, <RunStats: RunStats object (1093)>, <RunStats: RunStats object (1094)>, <RunStats: RunStats object (1063)>, <RunStats: RunStats object (1083)>, <RunStats: RunStats object (1045)>, <RunStats: RunStats object (1095)>, <RunStats: RunStats object (1046)>, <RunStats: RunStats object (1084)>, <RunStats: RunStats object (1064)>, '...(remaining elements truncated)...']>\n"
     ]
    }
   ],
   "source": [
    "# simple search for utterances\n",
    "par_search_tei, created = pm.Search.objects.get_or_create(\n",
    "                title=\"Kohle tei utterance\",\n",
    "                text=\"kohle\",\n",
    "                creator=user1,\n",
    "                document_source=\"GermaParlTEI\",\n",
    "                search_object_type=2)\n",
    "par_search_tei.save()\n",
    "if created:\n",
    "    print(\"doing search\")\n",
    "do_search(par_search_tei.id)\n",
    "print(par_search_tei.par_count)\n",
    "print(par_search_tei.utterance_count)\n",
    "print(par_search_tei.runstats_set.all())"
   ]
  },
  {
   "cell_type": "code",
   "execution_count": 6,
   "metadata": {
    "collapsed": true
   },
   "outputs": [],
   "source": [
    "K = 30"
   ]
  },
  {
   "cell_type": "code",
   "execution_count": 9,
   "metadata": {
    "collapsed": false
   },
   "outputs": [
    {
     "data": {
      "text/plain": [
       "<AsyncResult: 360a0019-cb04-489a-af75-99bc6cfea3a8>"
      ]
     },
     "execution_count": 9,
     "metadata": {},
     "output_type": "execute_result"
    }
   ],
   "source": [
    "run_tm.delay(par_search_tei.id, K, method='LD', alpha=0.005)"
   ]
  },
  {
   "cell_type": "code",
   "execution_count": null,
   "metadata": {
    "collapsed": true
   },
   "outputs": [],
   "source": []
  }
 ],
 "metadata": {
  "kernelspec": {
   "display_name": "tmv_yt",
   "language": "python",
   "name": "tmv_yt"
  },
  "language_info": {
   "codemirror_mode": {
    "name": "ipython",
    "version": 3
   },
   "file_extension": ".py",
   "mimetype": "text/x-python",
   "name": "python",
   "nbconvert_exporter": "python",
   "pygments_lexer": "ipython3",
   "version": "3.6.6"
  }
 },
 "nbformat": 4,
 "nbformat_minor": 2
}
