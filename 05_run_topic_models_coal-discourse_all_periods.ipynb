{
 "cells": [
  {
   "cell_type": "code",
   "execution_count": 1,
   "metadata": {},
   "outputs": [],
   "source": [
    "import matplotlib.pylab as plt\n",
    "import numpy as np\n",
    "import pandas as pd\n",
    "import time\n",
    "import sys\n",
    "import os\n",
    "\n",
    "import seaborn as sns\n",
    "import matplotlib.dates as mdates\n",
    "from datetime import datetime, date\n",
    "\n",
    "# preamble for jupyter notebook and django\n",
    "import django\n",
    "import platform\n",
    "\n",
    "if platform.node() == \"srv-mcc-apsis\":\n",
    "    sys.path.append(\"/home/muef/tmv/BasicBrowser/\")\n",
    "    #sys.path.append('/home/leey/tmv/BasicBrowser/')\n",
    "    dtm_path = \"/home/galm/software/dtm/dtm/main\"\n",
    "else:\n",
    "    # local paths\n",
    "    sys.path.append('/media/Data/MCC/tmv/BasicBrowser/')\n",
    "    dtm_path = \"/home/finn/dtm/dtm/main\"\n",
    "\n",
    "os.environ.setdefault(\"DJANGO_SETTINGS_MODULE\", \"BasicBrowser.settings\")\n",
    "django.setup()\n",
    "\n",
    "# import from appended path\n",
    "import parliament.models as pm\n",
    "from parliament.tasks import do_search, run_tm, combine_searches\n",
    "import cities.models as cmodels\n",
    "from django.contrib.auth.models import User\n",
    "import tmv_app.models as tm\n",
    "import scoping.models as sm\n",
    "from utils.tm_mgmt import update_topic_scores\n",
    "from django.db.models import Q, Count, Func, F, Sum, Avg, Value as V\n",
    "from django.db.models.functions import TruncDate, TruncMonth, TruncYear"
   ]
  },
  {
   "cell_type": "code",
   "execution_count": 9,
   "metadata": {},
   "outputs": [],
   "source": [
    "s = pm.Search.objects.get(id=81)"
   ]
  },
  {
   "cell_type": "code",
   "execution_count": 10,
   "metadata": {},
   "outputs": [
    {
     "name": "stdout",
     "output_type": "stream",
     "text": [
      "14167\n"
     ]
    }
   ],
   "source": [
    "if s.search_object_type == 1:\n",
    "    print(pm.Paragraph.objects.filter(search_matches=s).count())\n",
    "else:\n",
    "    print(pm.Utterance.objects.filter(search_matches=s).count())"
   ]
  },
  {
   "cell_type": "code",
   "execution_count": 4,
   "metadata": {},
   "outputs": [],
   "source": [
    "# stopwords from overlap analysis\n",
    "extra_stopwords = [\"herr\", \"jahr\", \"mehr\", \"sag\", \"land\", \"schon\", \"neu\", \"ganz\", \"polit\",\n",
    "                   \"heut\", \"antrag\", \"gibt\", \"kolleg\", \"geht\", \"berat\", \"frag\", \"mensch\"]\n",
    "\n",
    "# stopwords from overlap analysis + irrelevant topics\n",
    "extra_stopwords = ['stimmt', 'ganz', 'schreib', 'drucksach', 'kolleg', 'gesagt', 'notwend', 'aufgab', 'parlamentar', 'rat', 'heut', 'bitt', 'tagesordnungspunkt', 'wunscht',\n",
    "                       'neu', 'abstimm', 'zuzustimm', 'mensch', 'abgeordnet', 'vorschrift', 'ziff', 'beantwort', 'land', 'altestenrat', 'ausschuss', 'federfuhr', 'berichterstatt',\n",
    "                       'beschlussempfehl', 'fraktion', 'bundnis', 'moglich', 'schriftlich', 'ander', 'handzeich',\n",
    "                       'uberweisungsvorschlag', 'uberweis', 'welt', 'wer', 'regel', 'geht', 'verehrt', 'jahr', 'enthalt',\n",
    "                       'polit', 'kind', 'mocht', 'vervielfaltigt', 'verordn', 'massnahm', 'antwort', 'prasidentin', 'vorlag',\n",
    "                       'erst', 'tagesordn', 'sag', 'herrn', 'anfrag', 'gibt', 'besond', 'lieb', 'schon', 'umdruck', 'gegenprob',\n",
    "                       'angenomm', 'kollegin', 'antrag', 'bereit', 'berat', 'frau', 'jung', 'betreff', 'brauch', 'dafur', 'word',\n",
    "                       'eingebracht', 'ruf', 'uberwies', 'frag', 'beschlussfass', 'bericht', 'glaub', 'dam', 'mehr', 'beantwortet',\n",
    "                       'herr']\n",
    "\n",
    "# stopwords from overlap analysis + irrelevant topics + topwords of dominating dynamic topics\n",
    "extra_stopwords = ['stimmt', 'ganz', 'schreib', 'drucksach', 'kolleg', 'gesagt', 'notwend', 'aufgab', 'parlamentar', 'rat', 'heut', 'bitt', 'tagesordnungspunkt', 'wunscht',\n",
    "                       'neu', 'abstimm', 'zuzustimm', 'mensch', 'abgeordnet', 'vorschrift', 'ziff', 'beantwort', 'land', 'altestenrat', 'ausschuss', 'federfuhr', 'berichterstatt',\n",
    "                       'beschlussempfehl', 'fraktion', 'bundnis', 'moglich', 'schriftlich', 'ander', 'handzeich',\n",
    "                       'uberweisungsvorschlag', 'uberweis', 'welt', 'wer', 'regel', 'geht', 'verehrt', 'jahr', 'enthalt',\n",
    "                       'polit', 'kind', 'mocht', 'vervielfaltigt', 'verordn', 'massnahm', 'antwort', 'prasidentin', 'vorlag',\n",
    "                       'erst', 'tagesordn', 'sag', 'herrn', 'anfrag', 'gibt', 'besond', 'lieb', 'schon', 'umdruck', 'gegenprob',\n",
    "                       'angenomm', 'kollegin', 'antrag', 'bereit', 'berat', 'frau', 'jung', 'betreff', 'brauch', 'dafur', 'word',\n",
    "                       'eingebracht', 'ruf', 'uberwies', 'frag', 'beschlussfass', 'bericht', 'glaub', 'dam', 'mehr', 'beantwortet',\n",
    "                       'herr', 'gut', 'gross', 'imm', 'thema', 'komm', 'deshalb']"
   ]
  },
  {
   "cell_type": "code",
   "execution_count": 11,
   "metadata": {},
   "outputs": [
    {
     "name": "stdout",
     "output_type": "stream",
     "text": [
      "2019-06-11 22:43:27.310754 submitted run with K=40, alpha=0.01 and method=BD to queue \"muef\"\n"
     ]
    }
   ],
   "source": [
    "# submit tasks for different number of topics\n",
    "K_list = [40]\n",
    "\n",
    "method = \"BD\" # Blei dynamic topic model\n",
    "alpha = 0.01  # default is 0.01\n",
    "\n",
    "for K in K_list:\n",
    "    # run_tm.delay(par_search_pdf_all.id, K=K, method='BT')\n",
    "    # instead of using delay (which sends to the default queue), we use the more \n",
    "    # verbose way to call the funtion (apply async) where we can specify that we\n",
    "    # want to send it to the long queue, which only has two workers\n",
    "\n",
    "    run_tm.apply_async(\n",
    "        args=[s.id],\n",
    "        kwargs={\n",
    "            \"K\": K,\n",
    "            \"method\": method,\n",
    "            \"alpha\": alpha,\n",
    "            \"dtm_path\": dtm_path,\n",
    "            \"max_iter\": 50,\n",
    "            \"extra_stopwords\": extra_stopwords\n",
    "        },\n",
    "        queue=\"muef\"\n",
    "    )\n",
    "    print('{} submitted run with K={}, alpha={} and method={} to queue \"muef\"'.format(str(datetime.now()), str(K), str(alpha), method))\n",
    "    time.sleep(0.5) # to avoid problems with simultaneous start"
   ]
  },
  {
   "cell_type": "code",
   "execution_count": 6,
   "metadata": {},
   "outputs": [
    {
     "name": "stdout",
     "output_type": "stream",
     "text": [
      "2019-06-06 09:19:42.236245 submitted run with K=30, alpha=0.005 and method=BD to queue \"muef\"\n",
      "2019-06-06 09:19:42.751718 submitted run with K=30, alpha=0.02 and method=BD to queue \"muef\"\n"
     ]
    }
   ],
   "source": [
    "# submit tasks for different alpha\n",
    "alpha_list = [0.005, 0.02]\n",
    "\n",
    "method = \"BD\" # Blei dynamic topic model\n",
    "K = 30\n",
    "\n",
    "for alpha in alpha_list:\n",
    "    # run_tm.delay(par_search_pdf_all.id, K=K, method='BT')\n",
    "    # instead of using delay (which sends to the default queue), we use the more \n",
    "    # verbose way to call the funtion (apply async) where we can specify that we\n",
    "    # want to send it to the long queue, which only has two workers\n",
    "\n",
    "    run_tm.apply_async(\n",
    "        args=[s.id],\n",
    "        kwargs={\n",
    "            \"K\": K,\n",
    "            \"method\": method,\n",
    "            \"alpha\": alpha,\n",
    "            \"dtm_path\": dtm_path,\n",
    "            \"extra_stopwords\": extra_stopwords,\n",
    "            \"max_iter\": 50\n",
    "        },\n",
    "        queue=\"muef\"\n",
    "    )\n",
    "    print('{} submitted run with K={}, alpha={} and method={} to queue \"muef\"'.format(str(datetime.now()), str(K), str(alpha), method))\n",
    "    time.sleep(0.5) # to avoid problems with simultaneous start"
   ]
  },
  {
   "cell_type": "code",
   "execution_count": 7,
   "metadata": {},
   "outputs": [
    {
     "name": "stdout",
     "output_type": "stream",
     "text": [
      "2019-06-06 09:20:04.688357 submitted run with K=30, alpha=0.02 and method=BD to queue \"muef\"\n",
      "2019-06-06 09:20:05.191860 submitted run with K=30, alpha=0.02 and method=BD to queue \"muef\"\n"
     ]
    }
   ],
   "source": [
    "# submit tasks for top_chain_var\n",
    "var_list = [0.01, 0.001]\n",
    "\n",
    "method = \"BD\" # Blei dynamic topic model\n",
    "K = 30\n",
    "\n",
    "for var in var_list:\n",
    "    # run_tm.delay(par_search_pdf_all.id, K=K, method='BT')\n",
    "    # instead of using delay (which sends to the default queue), we use the more \n",
    "    # verbose way to call the funtion (apply async) where we can specify that we\n",
    "    # want to send it to the long queue, which only has two workers\n",
    "\n",
    "    run_tm.apply_async(\n",
    "        args=[s.id],\n",
    "        kwargs={\n",
    "            \"K\": K,\n",
    "            \"method\": method,\n",
    "            \"alpha\": 0.01,\n",
    "            \"dtm_path\": dtm_path,\n",
    "            \"top_chain_var\": var,\n",
    "            \"extra_stopwords\": extra_stopwords,\n",
    "            \"max_iter\": 50\n",
    "        },\n",
    "        queue=\"muef\"\n",
    "    )\n",
    "    print('{} submitted run with K={}, alpha={} and method={} to queue \"muef\"'.format(str(datetime.now()), str(K), str(alpha), method))\n",
    "    time.sleep(0.5) # to avoid problems with simultaneous start"
   ]
  },
  {
   "cell_type": "code",
   "execution_count": 4,
   "metadata": {
    "scrolled": true
   },
   "outputs": [
    {
     "name": "stdout",
     "output_type": "stream",
     "text": [
      "2019-04-17 08:05:02.686884 submitted run with K=30, alpha=0.01 and method=BD to queue \"muef\"\n"
     ]
    }
   ],
   "source": [
    "# submit tasks for different rngs\n",
    "rngs_list = [2]\n",
    "\n",
    "method = \"BD\" # Blei dynamic topic model\n",
    "alpha = 0.01  # default is 0.01\n",
    "K = 30\n",
    "\n",
    "for rngs in rngs_list:\n",
    "    # run_tm.delay(par_search_pdf_all.id, K=K, method='BT')\n",
    "    # instead of using delay (which sends to the default queue), we use the more \n",
    "    # verbose way to call the funtion (apply async) where we can specify that we\n",
    "    # want to send it to the long queue, which only has two workers\n",
    "\n",
    "    run_tm.apply_async(\n",
    "        args=[s.id],\n",
    "        kwargs={\n",
    "            \"K\": K,\n",
    "            \"method\": method,\n",
    "            \"alpha\": alpha,\n",
    "            \"dtm_path\": dtm_path,\n",
    "            \"rng_seed\": rngs,\n",
    "            \"max_iter\": 500,\n",
    "            \"extra_stopwords\": extra_stopwords\n",
    "        },\n",
    "        queue=\"muef\"\n",
    "    )\n",
    "    print('{} submitted run with K={}, alpha={} and method={} to queue \"muef\"'.format(str(datetime.now()), str(K), str(alpha), method))\n",
    "    time.sleep(0.5) # to avoid problems with simultaneous start"
   ]
  },
  {
   "cell_type": "code",
   "execution_count": 4,
   "metadata": {},
   "outputs": [
    {
     "name": "stdout",
     "output_type": "stream",
     "text": [
      "2019-04-16 12:23:56.548468 submitted run with K=30, alpha=0.01 and method=BD to queue \"muef\"\n",
      "2019-04-16 12:23:57.052371 submitted run with K=30, alpha=0.01 and method=BD to queue \"muef\"\n"
     ]
    }
   ],
   "source": [
    "# submit tasks for different max_iter\n",
    "max_iter_list = [50, 500]\n",
    "\n",
    "method = \"BD\" # Blei dynamic topic model\n",
    "alpha = 0.01  # default is 0.01\n",
    "K = 30\n",
    "\n",
    "for max_iter in max_iter_list:\n",
    "    # run_tm.delay(par_search_pdf_all.id, K=K, method='BT')\n",
    "    # instead of using delay (which sends to the default queue), we use the more \n",
    "    # verbose way to call the funtion (apply async) where we can specify that we\n",
    "    # want to send it to the long queue, which only has two workers\n",
    "\n",
    "    run_tm.apply_async(\n",
    "        args=[s.id],\n",
    "        kwargs={\n",
    "            \"K\": K,\n",
    "            \"method\": method,\n",
    "            \"alpha\": alpha,\n",
    "            \"dtm_path\": dtm_path,\n",
    "            \"rng_seed\": 1,\n",
    "            \"max_iter\": max_iter,\n",
    "            \"extra_stopwords\": extra_stopwords,\n",
    "        },\n",
    "        queue=\"muef\"\n",
    "    )\n",
    "    print('{} submitted run with K={}, alpha={} and method={} to queue \"muef\"'.format(str(datetime.now()), str(K), str(alpha), method))\n",
    "    time.sleep(0.5) # to avoid problems with simultaneous start"
   ]
  },
  {
   "cell_type": "markdown",
   "metadata": {},
   "source": [
    "NMF\n",
    "---"
   ]
  },
  {
   "cell_type": "code",
   "execution_count": null,
   "metadata": {},
   "outputs": [],
   "source": [
    "# submit tasks for different number of topics\n",
    "K_list = [30, 40]\n",
    "\n",
    "method = \"NM\" # Blei dynamic topic model\n",
    "alpha = 0.01  # default is 0.01\n",
    "\n",
    "for K in K_list:\n",
    "    # run_tm.delay(par_search_pdf_all.id, K=K, method='BT')\n",
    "    # instead of using delay (which sends to the default queue), we use the more \n",
    "    # verbose way to call the funtion (apply async) where we can specify that we\n",
    "    # want to send it to the long queue, which only has two workers\n",
    "\n",
    "    run_tm.apply_async(\n",
    "        args=[s.id],\n",
    "        kwargs={\n",
    "            \"K\": K,\n",
    "            \"method\": method,\n",
    "            \"alpha\": alpha,\n",
    "            \"dtm_path\": dtm_path,\n",
    "            \"extra_stopwords\": extra_stopwords\n",
    "        },\n",
    "        queue=\"muef\"\n",
    "    )\n",
    "    print('{} submitted run with K={}, alpha={} and method={} to queue \"muef\"'.format(str(datetime.now()), str(K), str(alpha), method))\n",
    "    time.sleep(0.5) # to avoid problems with simultaneous start"
   ]
  },
  {
   "cell_type": "markdown",
   "metadata": {},
   "source": [
    "Check the topic models\n",
    "----------------------------------"
   ]
  },
  {
   "cell_type": "code",
   "execution_count": 55,
   "metadata": {},
   "outputs": [],
   "source": [
    "stats = tm.RunStats.objects.filter(method='BD').order_by('run_id')"
   ]
  },
  {
   "cell_type": "code",
   "execution_count": 56,
   "metadata": {},
   "outputs": [
    {
     "name": "stdout",
     "output_type": "stream",
     "text": [
      "1040\n",
      "200\n",
      "Search object (36)\n",
      "Coal-discourse\n",
      "\n",
      "1041\n",
      "200\n",
      "Search object (36)\n",
      "Coal-discourse\n",
      "\n",
      "1331\n",
      "200\n",
      "Search object (44)\n",
      "Coal-discourse\n",
      "\n",
      "1332\n",
      "200\n",
      "Search object (44)\n",
      "Coal-discourse\n",
      "\n",
      "1333\n",
      "200\n",
      "Search object (44)\n",
      "Coal-discourse\n",
      "\n",
      "1334\n",
      "200\n",
      "Search object (44)\n",
      "Coal-discourse\n",
      "\n",
      "1335\n",
      "200\n",
      "Search object (44)\n",
      "Coal-discourse\n",
      "\n",
      "1348\n",
      "200\n",
      "Search object (44)\n",
      "Coal-discourse\n",
      "\n",
      "1350\n",
      "200\n",
      "Search object (44)\n",
      "Coal-discourse\n",
      "\n",
      "1351\n",
      "200\n",
      "Search object (44)\n",
      "Coal-discourse\n",
      "\n",
      "1352\n",
      "200\n",
      "Search object (44)\n",
      "Coal-discourse\n",
      "\n",
      "1353\n",
      "200\n",
      "Search object (44)\n",
      "Coal-discourse\n",
      "\n",
      "1368\n",
      "200\n",
      "Search object (44)\n",
      "Coal-discourse\n",
      "\n",
      "1369\n",
      "200\n",
      "Search object (44)\n",
      "Coal-discourse\n",
      "\n",
      "1370\n",
      "200\n",
      "Search object (44)\n",
      "Coal-discourse\n",
      "\n",
      "1537\n",
      "200\n",
      "Search object (44)\n",
      "Coal-discourse\n",
      "\n"
     ]
    }
   ],
   "source": [
    "for s in stats:\n",
    "    if s.psearch:\n",
    "        print(s.run_id)\n",
    "        print(s.max_iter)\n",
    "        print(s.psearch)\n",
    "        print(s.psearch.project)\n",
    "        print()\n",
    "        "
   ]
  },
  {
   "cell_type": "code",
   "execution_count": 39,
   "metadata": {},
   "outputs": [],
   "source": [
    "stats = tm.RunStats.objects.filter(psearch__id=44)"
   ]
  },
  {
   "cell_type": "code",
   "execution_count": 43,
   "metadata": {},
   "outputs": [],
   "source": []
  },
  {
   "cell_type": "code",
   "execution_count": 61,
   "metadata": {},
   "outputs": [],
   "source": [
    "search = pm.Search.objects.get(id=43)\n",
    "project = sm.Project.objects.get(id=134)"
   ]
  },
  {
   "cell_type": "code",
   "execution_count": 62,
   "metadata": {},
   "outputs": [],
   "source": [
    "search.project=project\n",
    "search.save()"
   ]
  },
  {
   "cell_type": "code",
   "execution_count": 8,
   "metadata": {},
   "outputs": [
    {
     "name": "stdout",
     "output_type": "stream",
     "text": [
      "doing search\n",
      "18 paragraphs with search (?<!Europäische )(?<!Europäischen )Gemeinschaft für Kohle\n",
      "18\n",
      "14\n",
      "None\n",
      "None\n",
      "<QuerySet []>\n",
      "71\n"
     ]
    }
   ],
   "source": [
    "# test use of Gemeinschaft für Kohle\n",
    "par_search, created = pm.Search.objects.get_or_create(\n",
    "                title=\"Test Europäische Gemeinschaft\",\n",
    "                text=\"(?<!Europäische )(?<!Europäischen )Gemeinschaft für Kohle\",\n",
    "                creator=user1,\n",
    "                stop_date=date(1996,2,7),\n",
    "                document_source=\"from https://www.bundestag.de/service/opendata\",\n",
    "                search_object_type=1,\n",
    "                project=coal_project)\n",
    "par_search.save()\n",
    "\n",
    "if created:\n",
    "    print(\"doing search\")\n",
    "    do_search(par_search.id)\n",
    "print(par_search.par_count)\n",
    "print(par_search.utterance_count)\n",
    "print(par_search.runstats_set.all())\n",
    "print(par_search.id)"
   ]
  },
  {
   "cell_type": "code",
   "execution_count": null,
   "metadata": {},
   "outputs": [],
   "source": []
  }
 ],
 "metadata": {
  "kernelspec": {
   "display_name": "Python 3",
   "language": "python",
   "name": "python3"
  },
  "language_info": {
   "codemirror_mode": {
    "name": "ipython",
    "version": 3
   },
   "file_extension": ".py",
   "mimetype": "text/x-python",
   "name": "python",
   "nbconvert_exporter": "python",
   "pygments_lexer": "ipython3",
   "version": "3.6.7"
  }
 },
 "nbformat": 4,
 "nbformat_minor": 2
}
