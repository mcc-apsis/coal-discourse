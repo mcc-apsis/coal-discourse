{
 "cells": [
  {
   "cell_type": "code",
   "execution_count": 1,
   "metadata": {},
   "outputs": [],
   "source": [
    "import matplotlib.pylab as plt\n",
    "import numpy as np\n",
    "import pandas as pd\n",
    "import time\n",
    "import sys\n",
    "import os\n",
    "\n",
    "import seaborn as sns\n",
    "import matplotlib.dates as mdates\n",
    "from datetime import datetime, date\n",
    "\n",
    "# preamble for jupyter notebook and django\n",
    "import django\n",
    "import platform\n",
    "\n",
    "if platform.node() == \"srv-mcc-apsis\":\n",
    "    sys.path.append(\"/home/muef/tmv/BasicBrowser/\")\n",
    "    #sys.path.append('/home/leey/tmv/BasicBrowser/')\n",
    "    dtm_path = \"/home/galm/software/dtm/dtm/main\"\n",
    "else:\n",
    "    # local paths\n",
    "    sys.path.append('/media/Data/MCC/tmv/BasicBrowser/')\n",
    "    dtm_path = \"/home/finn/dtm/dtm/main\"\n",
    "\n",
    "os.environ.setdefault(\"DJANGO_SETTINGS_MODULE\", \"BasicBrowser.settings\")\n",
    "django.setup()\n",
    "\n",
    "# import from appended path\n",
    "import parliament.models as pm\n",
    "from parliament.tasks import do_search, run_tm, combine_searches\n",
    "import cities.models as cmodels\n",
    "from django.contrib.auth.models import User\n",
    "import tmv_app.models as tm\n",
    "import scoping.models as sm\n",
    "from utils.tm_mgmt import update_topic_scores\n",
    "from django.db.models import Q, Count, Func, F, Sum, Avg, Value as V\n",
    "from django.db.models.functions import TruncDate, TruncMonth, TruncYear"
   ]
  },
  {
   "cell_type": "code",
   "execution_count": 2,
   "metadata": {},
   "outputs": [],
   "source": [
    "s = pm.Search.objects.get(id=89)"
   ]
  },
  {
   "cell_type": "code",
   "execution_count": 3,
   "metadata": {},
   "outputs": [
    {
     "name": "stdout",
     "output_type": "stream",
     "text": [
      "9167\n"
     ]
    }
   ],
   "source": [
    "if s.search_object_type == 1:\n",
    "    print(pm.Paragraph.objects.filter(search_matches=s).count())\n",
    "else:\n",
    "    print(pm.Utterance.objects.filter(search_matches=s).count())"
   ]
  },
  {
   "cell_type": "code",
   "execution_count": 4,
   "metadata": {},
   "outputs": [
    {
     "name": "stdout",
     "output_type": "stream",
     "text": [
      "abgeordnet, abstimm, altestenrat, ander, anfrag, angenomm, antrag, antwort, aufgab, ausschuss, beantwort, beantwortet, berat, bereit, bericht, berichterstatt, beschlussempfehl, beschlussfass, besond, betreff, bitt, brauch, bundnis, dafur, dam, deshalb, drucksach, eingebracht, enthalt, erst, federfuhr, frag, fraktion, frau, ganz, gegenprob, geht, gesagt, gibt, gilt, glaub, gross, gut, handzeich, herr, herrn, heut, imm, jahr, kind, kolleg, kollegin, komm, land, letzt, lieb, mehr, mensch, mocht, moglich, neu, notwend, parlamentar, prasidentin, rat, regel, ruf, sag, schon, schreib, schriftlich, seit, stimmt, tagesordn, tagesordnungspunkt, thema, uberweis, uberweisungsvorschlag, uberwies, umdruck, verehrt, vervielfaltigt, vorlag, vorschrift, welt, wer, word, wunscht, ziff, zuzustimm\n"
     ]
    }
   ],
   "source": [
    "# stopwords from overlap analysis\n",
    "extra_stopwords = [\"herr\", \"jahr\", \"mehr\", \"sag\", \"land\", \"schon\", \"neu\", \"ganz\", \"polit\",\n",
    "                   \"heut\", \"antrag\", \"gibt\", \"kolleg\", \"geht\", \"berat\", \"frag\", \"mensch\"]\n",
    "\n",
    "# stopwords from overlap analysis + irrelevant topics\n",
    "extra_stopwords = ['stimmt', 'ganz', 'schreib', 'drucksach', 'kolleg', 'gesagt', 'notwend', 'aufgab', 'parlamentar', 'rat', 'heut', 'bitt', 'tagesordnungspunkt', 'wunscht',\n",
    "                       'neu', 'abstimm', 'zuzustimm', 'mensch', 'abgeordnet', 'vorschrift', 'ziff', 'beantwort', 'land', 'altestenrat', 'ausschuss', 'federfuhr', 'berichterstatt',\n",
    "                       'beschlussempfehl', 'fraktion', 'bundnis', 'moglich', 'schriftlich', 'ander', 'handzeich',\n",
    "                       'uberweisungsvorschlag', 'uberweis', 'welt', 'wer', 'regel', 'geht', 'verehrt', 'jahr', 'enthalt',\n",
    "                       'polit', 'kind', 'mocht', 'vervielfaltigt', 'verordn', 'massnahm', 'antwort', 'prasidentin', 'vorlag',\n",
    "                       'erst', 'tagesordn', 'sag', 'herrn', 'anfrag', 'gibt', 'besond', 'lieb', 'schon', 'umdruck', 'gegenprob',\n",
    "                       'angenomm', 'kollegin', 'antrag', 'bereit', 'berat', 'frau', 'jung', 'betreff', 'brauch', 'dafur', 'word',\n",
    "                       'eingebracht', 'ruf', 'uberwies', 'frag', 'beschlussfass', 'bericht', 'glaub', 'dam', 'mehr', 'beantwortet',\n",
    "                       'herr']\n",
    "\n",
    "# stopwords from overlap analysis + irrelevant topics + topwords of dominating dynamic topics\n",
    "extra_stopwords = ['stimmt', 'ganz', 'schreib', 'drucksach', 'kolleg', 'gesagt', 'notwend', 'aufgab', 'parlamentar', 'rat', 'heut', 'bitt', 'tagesordnungspunkt', 'wunscht',\n",
    "                       'neu', 'abstimm', 'zuzustimm', 'mensch', 'abgeordnet', 'vorschrift', 'ziff', 'beantwort', 'land', 'altestenrat', 'ausschuss', 'federfuhr', 'berichterstatt',\n",
    "                       'beschlussempfehl', 'fraktion', 'bundnis', 'moglich', 'schriftlich', 'ander', 'handzeich',\n",
    "                       'uberweisungsvorschlag', 'uberweis', 'welt', 'wer', 'regel', 'geht', 'verehrt', 'jahr', 'enthalt',\n",
    "                       'polit', 'kind', 'mocht', 'vervielfaltigt', 'verordn', 'massnahm', 'antwort', 'prasidentin', 'vorlag',\n",
    "                       'erst', 'tagesordn', 'sag', 'herrn', 'anfrag', 'gibt', 'besond', 'lieb', 'schon', 'umdruck', 'gegenprob',\n",
    "                       'angenomm', 'kollegin', 'antrag', 'bereit', 'berat', 'frau', 'jung', 'betreff', 'brauch', 'dafur', 'word',\n",
    "                       'eingebracht', 'ruf', 'uberwies', 'frag', 'beschlussfass', 'bericht', 'glaub', 'dam', 'mehr', 'beantwortet',\n",
    "                       'herr', 'gut', 'gross', 'imm', 'thema', 'komm', 'deshalb']\n",
    "\n",
    "# new stopword list from Sept. 11, 2019\n",
    "extra_stopwords = ['stimmt', 'ganz', 'schreib', 'drucksach', 'kolleg', 'gesagt', 'notwend', 'aufgab', 'parlamentar', 'rat', 'heut', 'bitt', 'tagesordnungspunkt', 'wunscht',\n",
    "                       'neu', 'abstimm', 'zuzustimm', 'mensch', 'abgeordnet', 'vorschrift', 'ziff', 'beantwort', 'land', 'altestenrat', 'ausschuss', 'federfuhr', 'berichterstatt',\n",
    "                       'beschlussempfehl', 'fraktion', 'bundnis', 'moglich', 'schriftlich', 'ander', 'handzeich',\n",
    "                       'uberweisungsvorschlag', 'uberweis', 'welt', 'wer', 'regel', 'geht', 'verehrt', 'jahr', 'enthalt',\n",
    "                       'kind', 'mocht', 'vervielfaltigt', 'antwort', 'prasidentin', 'vorlag',\n",
    "                       'erst', 'tagesordn', 'sag', 'herrn', 'anfrag', 'gibt', 'besond', 'lieb', 'schon', 'umdruck', 'gegenprob',\n",
    "                       'angenomm', 'kollegin', 'antrag', 'bereit', 'berat', 'frau', 'betreff', 'brauch', 'dafur', 'word',\n",
    "                       'eingebracht', 'ruf', 'uberwies', 'frag', 'beschlussfass', 'bericht', 'glaub', 'dam', 'mehr', 'beantwortet',\n",
    "                       'herr', 'gut', 'gross', 'imm', 'thema', 'komm', 'deshalb',\n",
    "                       'gilt', 'letzt', 'seit']\n",
    "\n",
    "print(\", \".join(sorted(extra_stopwords)))"
   ]
  },
  {
   "cell_type": "code",
   "execution_count": 6,
   "metadata": {},
   "outputs": [
    {
     "name": "stdout",
     "output_type": "stream",
     "text": [
      "2019-09-11 10:06:15.807890 submitted run with K=35, alpha=0.05 and method=BD to queue \"muef\"\n"
     ]
    }
   ],
   "source": [
    "# submit tasks for different number of topics\n",
    "K_list = [35]\n",
    "\n",
    "method = \"BD\" # Blei dynamic topic model\n",
    "alpha = 0.05  # default is 0.01\n",
    "top_chain_var = 0.01\n",
    "max_iter = 200\n",
    "\n",
    "for K in K_list:\n",
    "    # run_tm.delay(par_search_pdf_all.id, K=K, method='BT')\n",
    "    # instead of using delay (which sends to the default queue), we use the more \n",
    "    # verbose way to call the funtion (apply async) where we can specify that we\n",
    "    # want to send it to the long queue, which only has two workers\n",
    "\n",
    "    run_tm.apply_async(\n",
    "        args=[s.id],\n",
    "        kwargs={\n",
    "            \"K\": K,\n",
    "            \"method\": method,\n",
    "            \"alpha\": alpha,\n",
    "            \"dtm_path\": dtm_path,\n",
    "            \"max_iter\": max_iter,\n",
    "            \"extra_stopwords\": extra_stopwords,\n",
    "            \"top_chain_var\": top_chain_var\n",
    "        },\n",
    "        queue=\"muef\"\n",
    "    )\n",
    "    print('{} submitted run with K={}, alpha={} and method={} to queue \"muef\"'.format(str(datetime.now()), str(K), str(alpha), method))\n",
    "    time.sleep(0.5) # to avoid problems with simultaneous start"
   ]
  },
  {
   "cell_type": "code",
   "execution_count": 5,
   "metadata": {},
   "outputs": [
    {
     "name": "stdout",
     "output_type": "stream",
     "text": [
      "2019-06-27 20:43:53.481657 submitted run with K=40, alpha=0.01 and method=BD to queue \"muef\"\n",
      "2019-06-27 20:43:53.987424 submitted run with K=40, alpha=0.05 and method=BD to queue \"muef\"\n"
     ]
    }
   ],
   "source": [
    "# submit tasks for different alpha\n",
    "alpha_list = [0.01, 0.05]\n",
    "\n",
    "method = \"BD\" # Blei dynamic topic model\n",
    "K = 40\n",
    "\n",
    "for alpha in alpha_list:\n",
    "    # run_tm.delay(par_search_pdf_all.id, K=K, method='BT')\n",
    "    # instead of using delay (which sends to the default queue), we use the more \n",
    "    # verbose way to call the funtion (apply async) where we can specify that we\n",
    "    # want to send it to the long queue, which only has two workers\n",
    "\n",
    "    run_tm.apply_async(\n",
    "        args=[s.id],\n",
    "        kwargs={\n",
    "            \"K\": K,\n",
    "            \"method\": method,\n",
    "            \"alpha\": alpha,\n",
    "            \"dtm_path\": dtm_path,\n",
    "            \"extra_stopwords\": extra_stopwords,\n",
    "            \"max_iter\": 50,\n",
    "            \"top_chain_var\": 0.01\n",
    "        },\n",
    "        queue=\"muef\"\n",
    "    )\n",
    "    print('{} submitted run with K={}, alpha={} and method={} to queue \"muef\"'.format(str(datetime.now()), str(K), str(alpha), method))\n",
    "    time.sleep(0.5) # to avoid problems with simultaneous start"
   ]
  },
  {
   "cell_type": "code",
   "execution_count": 7,
   "metadata": {},
   "outputs": [
    {
     "name": "stdout",
     "output_type": "stream",
     "text": [
      "2019-06-20 15:22:11.661317 submitted run with K=40, alpha=0.05 and method=BD to queue \"muef\"\n",
      "2019-06-20 15:22:12.164534 submitted run with K=40, alpha=0.05 and method=BD to queue \"muef\"\n",
      "2019-06-20 15:22:12.668167 submitted run with K=40, alpha=0.05 and method=BD to queue \"muef\"\n"
     ]
    }
   ],
   "source": [
    "# submit tasks for top_chain_var\n",
    "var_list = [0.1, 0.05, 0.01]\n",
    "\n",
    "method = \"BD\" # Blei dynamic topic model\n",
    "K = 40\n",
    "\n",
    "for var in var_list:\n",
    "    # run_tm.delay(par_search_pdf_all.id, K=K, method='BT')\n",
    "    # instead of using delay (which sends to the default queue), we use the more \n",
    "    # verbose way to call the funtion (apply async) where we can specify that we\n",
    "    # want to send it to the long queue, which only has two workers\n",
    "\n",
    "    run_tm.apply_async(\n",
    "        args=[s.id],\n",
    "        kwargs={\n",
    "            \"K\": K,\n",
    "            \"method\": method,\n",
    "            \"alpha\": 0.01,\n",
    "            \"dtm_path\": dtm_path,\n",
    "            \"top_chain_var\": var,\n",
    "            \"extra_stopwords\": extra_stopwords,\n",
    "            \"max_iter\": 50\n",
    "        },\n",
    "        queue=\"muef\"\n",
    "    )\n",
    "    print('{} submitted run with K={}, alpha={} and method={} to queue \"muef\"'.format(str(datetime.now()), str(K), str(alpha), method))\n",
    "    time.sleep(0.5) # to avoid problems with simultaneous start"
   ]
  },
  {
   "cell_type": "code",
   "execution_count": 4,
   "metadata": {
    "scrolled": true
   },
   "outputs": [
    {
     "name": "stdout",
     "output_type": "stream",
     "text": [
      "2019-04-17 08:05:02.686884 submitted run with K=30, alpha=0.01 and method=BD to queue \"muef\"\n"
     ]
    }
   ],
   "source": [
    "# submit tasks for different rngs\n",
    "rngs_list = [2]\n",
    "\n",
    "method = \"BD\" # Blei dynamic topic model\n",
    "alpha = 0.01  # default is 0.01\n",
    "K = 30\n",
    "\n",
    "for rngs in rngs_list:\n",
    "    # run_tm.delay(par_search_pdf_all.id, K=K, method='BT')\n",
    "    # instead of using delay (which sends to the default queue), we use the more \n",
    "    # verbose way to call the funtion (apply async) where we can specify that we\n",
    "    # want to send it to the long queue, which only has two workers\n",
    "\n",
    "    run_tm.apply_async(\n",
    "        args=[s.id],\n",
    "        kwargs={\n",
    "            \"K\": K,\n",
    "            \"method\": method,\n",
    "            \"alpha\": alpha,\n",
    "            \"dtm_path\": dtm_path,\n",
    "            \"rng_seed\": rngs,\n",
    "            \"max_iter\": 500,\n",
    "            \"extra_stopwords\": extra_stopwords\n",
    "        },\n",
    "        queue=\"muef\"\n",
    "    )\n",
    "    print('{} submitted run with K={}, alpha={} and method={} to queue \"muef\"'.format(str(datetime.now()), str(K), str(alpha), method))\n",
    "    time.sleep(0.5) # to avoid problems with simultaneous start"
   ]
  },
  {
   "cell_type": "code",
   "execution_count": 4,
   "metadata": {},
   "outputs": [
    {
     "name": "stdout",
     "output_type": "stream",
     "text": [
      "2019-04-16 12:23:56.548468 submitted run with K=30, alpha=0.01 and method=BD to queue \"muef\"\n",
      "2019-04-16 12:23:57.052371 submitted run with K=30, alpha=0.01 and method=BD to queue \"muef\"\n"
     ]
    }
   ],
   "source": [
    "# submit tasks for different max_iter\n",
    "max_iter_list = [50, 500]\n",
    "\n",
    "method = \"BD\" # Blei dynamic topic model\n",
    "alpha = 0.01  # default is 0.01\n",
    "K = 30\n",
    "\n",
    "for max_iter in max_iter_list:\n",
    "    # run_tm.delay(par_search_pdf_all.id, K=K, method='BT')\n",
    "    # instead of using delay (which sends to the default queue), we use the more \n",
    "    # verbose way to call the funtion (apply async) where we can specify that we\n",
    "    # want to send it to the long queue, which only has two workers\n",
    "\n",
    "    run_tm.apply_async(\n",
    "        args=[s.id],\n",
    "        kwargs={\n",
    "            \"K\": K,\n",
    "            \"method\": method,\n",
    "            \"alpha\": alpha,\n",
    "            \"dtm_path\": dtm_path,\n",
    "            \"rng_seed\": 1,\n",
    "            \"max_iter\": max_iter,\n",
    "            \"extra_stopwords\": extra_stopwords,\n",
    "        },\n",
    "        queue=\"muef\"\n",
    "    )\n",
    "    print('{} submitted run with K={}, alpha={} and method={} to queue \"muef\"'.format(str(datetime.now()), str(K), str(alpha), method))\n",
    "    time.sleep(0.5) # to avoid problems with simultaneous start"
   ]
  },
  {
   "cell_type": "code",
   "execution_count": 7,
   "metadata": {},
   "outputs": [
    {
     "name": "stdout",
     "output_type": "stream",
     "text": [
      "2019-07-07 10:05:59.790756 submitted run on s=89 with K=45, alpha=0.01, top_chain_var=0.01 and method=BD to queue \"muef\"\n",
      "2019-07-07 10:06:00.298292 submitted run on s=89 with K=45, alpha=0.05, top_chain_var=0.01 and method=BD to queue \"muef\"\n",
      "2019-07-07 10:06:00.805662 submitted run on s=89 with K=45, alpha=0.1, top_chain_var=0.01 and method=BD to queue \"muef\"\n",
      "2019-07-07 10:06:01.312689 submitted run on s=89 with K=45, alpha=0.01, top_chain_var=0.005 and method=BD to queue \"muef\"\n",
      "2019-07-07 10:06:01.819214 submitted run on s=89 with K=45, alpha=0.05, top_chain_var=0.005 and method=BD to queue \"muef\"\n",
      "2019-07-07 10:06:02.326950 submitted run on s=89 with K=45, alpha=0.1, top_chain_var=0.005 and method=BD to queue \"muef\"\n",
      "2019-07-07 10:06:02.833448 submitted run on s=89 with K=45, alpha=0.01, top_chain_var=0.05 and method=BD to queue \"muef\"\n",
      "2019-07-07 10:06:03.340766 submitted run on s=89 with K=45, alpha=0.05, top_chain_var=0.05 and method=BD to queue \"muef\"\n",
      "2019-07-07 10:06:03.848942 submitted run on s=89 with K=45, alpha=0.1, top_chain_var=0.05 and method=BD to queue \"muef\"\n"
     ]
    }
   ],
   "source": [
    "# submit tasks for different alpha and top_chain_var\n",
    "alpha_list = [0.01, 0.05, 0.1]\n",
    "var_list = [0.01, 0.005, 0.05]\n",
    "\n",
    "method = \"BD\" # Blei dynamic topic model\n",
    "K = 45\n",
    "max_iter = 200\n",
    "\n",
    "for var in var_list:\n",
    "    for alpha in alpha_list:\n",
    "\n",
    "\n",
    "        if tm.RunStats.objects.filter(alpha=alpha, top_chain_var=var, K=K, method=method, psearch=s.id):\n",
    "            print('model on s={} with K={}, alpha={}, top_chain_var={} and method={} already run'.format(s.id, str(K), str(alpha), str(var), method))\n",
    "        else:\n",
    "            run_tm.apply_async(\n",
    "                args=[s.id],\n",
    "                kwargs={\n",
    "                    \"K\": K,\n",
    "                    \"method\": method,\n",
    "                    \"alpha\": alpha,\n",
    "                    \"dtm_path\": dtm_path,\n",
    "                    \"top_chain_var\": var,\n",
    "                    \"rng_seed\": 1,\n",
    "                    \"max_iter\": max_iter,\n",
    "                    \"extra_stopwords\": extra_stopwords,\n",
    "                },\n",
    "                queue=\"muef\"\n",
    "            )\n",
    "        \n",
    "        print('{} submitted run on s={} with K={}, alpha={}, top_chain_var={} and method={} to queue \"muef\"'.format(str(datetime.now()), s.id, str(K), str(alpha), str(var), method))\n",
    "        time.sleep(0.5) # to avoid problems with simultaneous start"
   ]
  },
  {
   "cell_type": "markdown",
   "metadata": {},
   "source": [
    "# delete runs"
   ]
  },
  {
   "cell_type": "code",
   "execution_count": 1,
   "metadata": {},
   "outputs": [],
   "source": [
    "# delete runs that are not finished\n",
    "#tm.RunStats.objects.filter(psearch__id=81, status=1).delete()"
   ]
  },
  {
   "cell_type": "code",
   "execution_count": 3,
   "metadata": {},
   "outputs": [
    {
     "data": {
      "text/plain": [
       "(52039,\n",
       " {'tmv_app.DocTopic': 0,\n",
       "  'tmv_app.KFold': 0,\n",
       "  'tmv_app.RunStats': 1,\n",
       "  'tmv_app.RunStats_periods': 19,\n",
       "  'tmv_app.Term_run_id': 20000,\n",
       "  'tmv_app.TimeDocTotal': 0,\n",
       "  'tmv_app.Topic': 45,\n",
       "  'tmv_app.TopicARScores': 0,\n",
       "  'tmv_app.TopicCorr': 0,\n",
       "  'tmv_app.TopicDTopic': 0,\n",
       "  'tmv_app.TopicIntrusion_real_topics': 0,\n",
       "  'tmv_app.TopicTerm': 31974,\n",
       "  'tmv_app.TopicTimePeriodScores': 0,\n",
       "  'tmv_app.TopicYear': 0,\n",
       "  'tmv_app.Topic_primary_dtopic': 0})"
      ]
     },
     "execution_count": 3,
     "metadata": {},
     "output_type": "execute_result"
    }
   ],
   "source": [
    "# delete old runs\n",
    "\n",
    "tm.RunStats.objects.filter(run_id=2169).delete()"
   ]
  },
  {
   "cell_type": "code",
   "execution_count": 11,
   "metadata": {},
   "outputs": [
    {
     "data": {
      "text/plain": [
       "(527325,\n",
       " {'tmv_app.DocTopic': 0,\n",
       "  'tmv_app.KFold': 0,\n",
       "  'tmv_app.RunStats': 9,\n",
       "  'tmv_app.RunStats_periods': 0,\n",
       "  'tmv_app.Term_run_id': 39285,\n",
       "  'tmv_app.TimeDocTotal': 0,\n",
       "  'tmv_app.Topic': 360,\n",
       "  'tmv_app.TopicARScores': 0,\n",
       "  'tmv_app.TopicCorr': 0,\n",
       "  'tmv_app.TopicDTopic': 0,\n",
       "  'tmv_app.TopicIntrusion_real_topics': 0,\n",
       "  'tmv_app.TopicTerm': 487671,\n",
       "  'tmv_app.TopicTimePeriodScores': 0,\n",
       "  'tmv_app.TopicYear': 0,\n",
       "  'tmv_app.Topic_primary_dtopic': 0})"
      ]
     },
     "execution_count": 11,
     "metadata": {},
     "output_type": "execute_result"
    }
   ],
   "source": [
    "tm.RunStats.objects.filter(psearch__id=38).delete()"
   ]
  },
  {
   "cell_type": "code",
   "execution_count": 25,
   "metadata": {},
   "outputs": [
    {
     "data": {
      "text/plain": [
       "(849875,\n",
       " {'parliament.Document_search_matches': 0,\n",
       "  'parliament.Paragraph_search_matches': 0,\n",
       "  'parliament.Search': 1,\n",
       "  'parliament.Search_speaker_regions': 0,\n",
       "  'parliament.Utterance_search_matches': 8518,\n",
       "  'tmv_app.DocTopic': 596260,\n",
       "  'tmv_app.KFold': 0,\n",
       "  'tmv_app.RunStats': 2,\n",
       "  'tmv_app.RunStats_periods': 38,\n",
       "  'tmv_app.Term_run_id': 40000,\n",
       "  'tmv_app.TimeDocTotal': 38,\n",
       "  'tmv_app.Topic': 70,\n",
       "  'tmv_app.TopicARScores': 0,\n",
       "  'tmv_app.TopicCorr': 0,\n",
       "  'tmv_app.TopicDTopic': 0,\n",
       "  'tmv_app.TopicIntrusion_real_topics': 0,\n",
       "  'tmv_app.TopicTerm': 203618,\n",
       "  'tmv_app.TopicTimePeriodScores': 1330,\n",
       "  'tmv_app.TopicYear': 0,\n",
       "  'tmv_app.Topic_primary_dtopic': 0})"
      ]
     },
     "execution_count": 25,
     "metadata": {},
     "output_type": "execute_result"
    }
   ],
   "source": [
    "pm.Search.objects.filter(id=76).delete()"
   ]
  },
  {
   "cell_type": "markdown",
   "metadata": {},
   "source": [
    "NMF\n",
    "---"
   ]
  },
  {
   "cell_type": "code",
   "execution_count": null,
   "metadata": {},
   "outputs": [],
   "source": [
    "# submit tasks for different number of topics\n",
    "K_list = [30, 40]\n",
    "\n",
    "method = \"NM\" # Blei dynamic topic model\n",
    "alpha = 0.01  # default is 0.01\n",
    "\n",
    "for K in K_list:\n",
    "    # run_tm.delay(par_search_pdf_all.id, K=K, method='BT')\n",
    "    # instead of using delay (which sends to the default queue), we use the more \n",
    "    # verbose way to call the funtion (apply async) where we can specify that we\n",
    "    # want to send it to the long queue, which only has two workers\n",
    "\n",
    "    run_tm.apply_async(\n",
    "        args=[s.id],\n",
    "        kwargs={\n",
    "            \"K\": K,\n",
    "            \"method\": method,\n",
    "            \"alpha\": alpha,\n",
    "            \"dtm_path\": dtm_path,\n",
    "            \"extra_stopwords\": extra_stopwords\n",
    "        },\n",
    "        queue=\"muef\"\n",
    "    )\n",
    "    print('{} submitted run with K={}, alpha={} and method={} to queue \"muef\"'.format(str(datetime.now()), str(K), str(alpha), method))\n",
    "    time.sleep(0.5) # to avoid problems with simultaneous start"
   ]
  },
  {
   "cell_type": "markdown",
   "metadata": {},
   "source": [
    "Check the topic models\n",
    "----------------------------------"
   ]
  },
  {
   "cell_type": "code",
   "execution_count": 55,
   "metadata": {},
   "outputs": [],
   "source": [
    "stats = tm.RunStats.objects.filter(method='BD').order_by('run_id')"
   ]
  },
  {
   "cell_type": "code",
   "execution_count": 56,
   "metadata": {},
   "outputs": [
    {
     "name": "stdout",
     "output_type": "stream",
     "text": [
      "1040\n",
      "200\n",
      "Search object (36)\n",
      "Coal-discourse\n",
      "\n",
      "1041\n",
      "200\n",
      "Search object (36)\n",
      "Coal-discourse\n",
      "\n",
      "1331\n",
      "200\n",
      "Search object (44)\n",
      "Coal-discourse\n",
      "\n",
      "1332\n",
      "200\n",
      "Search object (44)\n",
      "Coal-discourse\n",
      "\n",
      "1333\n",
      "200\n",
      "Search object (44)\n",
      "Coal-discourse\n",
      "\n",
      "1334\n",
      "200\n",
      "Search object (44)\n",
      "Coal-discourse\n",
      "\n",
      "1335\n",
      "200\n",
      "Search object (44)\n",
      "Coal-discourse\n",
      "\n",
      "1348\n",
      "200\n",
      "Search object (44)\n",
      "Coal-discourse\n",
      "\n",
      "1350\n",
      "200\n",
      "Search object (44)\n",
      "Coal-discourse\n",
      "\n",
      "1351\n",
      "200\n",
      "Search object (44)\n",
      "Coal-discourse\n",
      "\n",
      "1352\n",
      "200\n",
      "Search object (44)\n",
      "Coal-discourse\n",
      "\n",
      "1353\n",
      "200\n",
      "Search object (44)\n",
      "Coal-discourse\n",
      "\n",
      "1368\n",
      "200\n",
      "Search object (44)\n",
      "Coal-discourse\n",
      "\n",
      "1369\n",
      "200\n",
      "Search object (44)\n",
      "Coal-discourse\n",
      "\n",
      "1370\n",
      "200\n",
      "Search object (44)\n",
      "Coal-discourse\n",
      "\n",
      "1537\n",
      "200\n",
      "Search object (44)\n",
      "Coal-discourse\n",
      "\n"
     ]
    }
   ],
   "source": [
    "for s in stats:\n",
    "    if s.psearch:\n",
    "        print(s.run_id)\n",
    "        print(s.max_iter)\n",
    "        print(s.psearch)\n",
    "        print(s.psearch.project)\n",
    "        print()"
   ]
  },
  {
   "cell_type": "code",
   "execution_count": 39,
   "metadata": {},
   "outputs": [],
   "source": [
    "stats = tm.RunStats.objects.filter(psearch__id=44)"
   ]
  },
  {
   "cell_type": "code",
   "execution_count": 61,
   "metadata": {},
   "outputs": [],
   "source": [
    "search = pm.Search.objects.get(id=43)\n",
    "project = sm.Project.objects.get(id=134)"
   ]
  },
  {
   "cell_type": "code",
   "execution_count": 62,
   "metadata": {},
   "outputs": [],
   "source": [
    "search.project=project\n",
    "search.save()"
   ]
  },
  {
   "cell_type": "code",
   "execution_count": 8,
   "metadata": {},
   "outputs": [
    {
     "name": "stdout",
     "output_type": "stream",
     "text": [
      "doing search\n",
      "18 paragraphs with search (?<!Europäische )(?<!Europäischen )Gemeinschaft für Kohle\n",
      "18\n",
      "14\n",
      "None\n",
      "None\n",
      "<QuerySet []>\n",
      "71\n"
     ]
    }
   ],
   "source": [
    "# test use of Gemeinschaft für Kohle\n",
    "par_search, created = pm.Search.objects.get_or_create(\n",
    "                title=\"Test Europäische Gemeinschaft\",\n",
    "                text=\"(?<!Europäische )(?<!Europäischen )Gemeinschaft für Kohle\",\n",
    "                creator=user1,\n",
    "                stop_date=date(1996,2,7),\n",
    "                document_source=\"from https://www.bundestag.de/service/opendata\",\n",
    "                search_object_type=1,\n",
    "                project=coal_project)\n",
    "par_search.save()\n",
    "\n",
    "if created:\n",
    "    print(\"doing search\")\n",
    "    do_search(par_search.id)\n",
    "print(par_search.par_count)\n",
    "print(par_search.utterance_count)\n",
    "print(par_search.runstats_set.all())\n",
    "print(par_search.id)"
   ]
  },
  {
   "cell_type": "code",
   "execution_count": null,
   "metadata": {},
   "outputs": [],
   "source": []
  }
 ],
 "metadata": {
  "kernelspec": {
   "display_name": "Python 3",
   "language": "python",
   "name": "python3"
  },
  "language_info": {
   "codemirror_mode": {
    "name": "ipython",
    "version": 3
   },
   "file_extension": ".py",
   "mimetype": "text/x-python",
   "name": "python",
   "nbconvert_exporter": "python",
   "pygments_lexer": "ipython3",
   "version": "3.6.7"
  }
 },
 "nbformat": 4,
 "nbformat_minor": 2
}
