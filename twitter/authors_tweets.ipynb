{
 "cells": [
  {
   "cell_type": "code",
   "execution_count": 1,
   "metadata": {
    "collapsed": false
   },
   "outputs": [],
   "source": [
    "import django\n",
    "import sys, os\n",
    "\n",
    "sys.path.append('/home/galm/software/django/tmv/BasicBrowser/')\n",
    "os.environ.setdefault(\"DJANGO_SETTINGS_MODULE\", \"BasicBrowser.settings\")\n",
    "django.setup()\n",
    "\n",
    "from twitter.models import *\n",
    "\n",
    "from django.db.models import Count"
   ]
  },
  {
   "cell_type": "code",
   "execution_count": 2,
   "metadata": {
    "collapsed": false
   },
   "outputs": [
    {
     "data": {
      "text/plain": [
       "<QuerySet [{'author__screen_name': 'EskenSaskia', 'n': 15283}, {'author__screen_name': 'RenateKuenast', 'n': 10656}, {'author__screen_name': 'MiRo_SPD', 'n': 8548}, {'author__screen_name': 'berlinliebich', 'n': 6861}, {'author__screen_name': 'GruenClaudia', 'n': 4390}, {'author__screen_name': 'BriHasselmann', 'n': 4372}, {'author__screen_name': 'StBrandner', 'n': 3774}, {'author__screen_name': 'PetrBystronAfD', 'n': 3674}, {'author__screen_name': 'AlexanderSNeu', 'n': 3283}, {'author__screen_name': 'Frank_Pasemann', 'n': 3102}, {'author__screen_name': 'th_sattelberger', 'n': 2985}, {'author__screen_name': 'KirstenTackmann', 'n': 2904}, {'author__screen_name': 'HHirte', 'n': 2882}, {'author__screen_name': 'nicolabeerfdp', 'n': 2839}, {'author__screen_name': 'Achim_P', 'n': 2778}, {'author__screen_name': 'sebast_hartmann', 'n': 2539}, {'author__screen_name': 'GabiWeberSPD', 'n': 2449}, {'author__screen_name': 'Karl_Lauterbach', 'n': 2290}, {'author__screen_name': 'MatthiasHauer', 'n': 2129}, {'author__screen_name': 'julia_verlinden', 'n': 2040}, '...(remaining elements truncated)...']>"
      ]
     },
     "execution_count": 2,
     "metadata": {},
     "output_type": "execute_result"
    }
   ],
   "source": [
    "ustats = Status.objects.values('author__screen_name').annotate(\n",
    "    n = Count('pk')\n",
    ")\n",
    "\n",
    "ustats.order_by('-n')"
   ]
  },
  {
   "cell_type": "code",
   "execution_count": 7,
   "metadata": {
    "collapsed": false
   },
   "outputs": [
    {
     "data": {
      "text/plain": [
       "<QuerySet [{'author__screen_name': 'GrueneBundestag', 'rts': 19, 'text': 'Claudia Roth hat in den letzten Tagen tausende Hassnachrichten von Rechten bekommen. Jetzt anwortet sie mit persönlichen Erklärung. Und mit #LiebeStattHass.  https://www.facebook.com/Roth/posts/10156190337490664\\xa0… pic.twitter.com/F2JBvsDLSQ'}, {'author__screen_name': 'AfDimBundestag', 'rts': 17, 'text': '1⃣5⃣.0⃣0⃣0⃣ Follower - herzlichen Dank für Ihr reges Interesse an unserer Arbeit als Oppositionsführer im #Bundestag!Folgen Sie uns JETZT auch & abonnieren Sie direkt unseren YouTube-Kanal -  verpassen Sie keine Rede mehr:➡️  https://www.youtube.com/channel/UC_dZp8bZipnjntBGLVHm6rw/about?sub_confirmation=1\\xa0…#AfD #AnneWill #GroKo pic.twitter.com/LOJFpixbmL'}, {'author__screen_name': 'Linksfraktion', 'rts': 15, 'text': '1,7 Milliarden #Überstunden vernichteten im Jahr 2016 eine Million Vollzeitstellen in Deutschland. Die Folge: Gesundheit, Familie und Privatleben bleiben auf der Strecke. Deshalb: Zeitsouveränität in die Hand der Beschäftigten! Es ist 1.MAIne Zeit! #TagderArbeit #1Mai pic.twitter.com/Xk54H9uG7B'}, {'author__screen_name': 'cducsubt', 'rts': 15, 'text': 'Klare Kante von @MGrosseBroemer im Bundestag: Die schreckliche Straftat in #Chemnitz muss aufgeklärt und die Täter zur Rechenschaft gezogen werden. Und in Richtung AfD: \"Man marschiert nicht an der Seite des Rechtsextremismus, man bekämpft ihn!\" pic.twitter.com/wNY2rtFJMW'}, {'author__screen_name': 'DeppendorfU', 'rts': 14, 'text': 'Die Tarn -Maske der Höcke-Gauland -Weidel AfD ist nach Chemnitz endgültig gefallen! Es sind Rechtsradikale , die sich mit Nazis mehr und mehr vermengen. Diese Mischung hat dieses Land und Europa schon einmal ins Verderben geführt.'}, {'author__screen_name': 'Linksfraktion', 'rts': 14, 'text': 'Ihnen einen schönen Urlaub - und der Kellnerin einen guten Lohn! Wir wünschen allen eine schöne #Ferien-Zeit. Zeit für eine politische Pause gibt es aber nicht. Denn Viele können es sich keinen #Urlaub leisten. Daher fordern wir 12€ #Mindestlohn:  http://www.linksfraktion.de/themen/a-z/detailansicht/mindestlohn\\xa0… pic.twitter.com/Mb73HGgH2A'}, {'author__screen_name': 'spdbt', 'rts': 12, 'text': 'A. #Nahles: „Wir haben umfangreiche Verabredungen im Koalitionsvertrag zum Thema Migration und #Asyl. Dazu stehen wir. Wir fordern die Union auf, ihre internen Streitigkeiten zu beenden. Theaterstücke im Dienste von Landtagswahlen sind nicht angemessen.“'}, {'author__screen_name': 'spdde', 'rts': 12, 'text': 'Diese 5 Punkte haben wir heute in der Koalition vereinbart: pic.twitter.com/BiBoGKsT4K'}, {'author__screen_name': 'spdde', 'rts': 12, 'text': 'Wir stehen zu einer humanitären Flüchtlingspolitik mit klaren Regeln. Unsere 5 Punkte für eine europäische Migrations- und Flüchtlingspolitik findet ihr hier:  https://link.spd.de/5Punkte\\xa0 pic.twitter.com/g08oqJBeUP'}, {'author__screen_name': 'AfDimBundestag', 'rts': 11, 'text': '#AfD-Fraktion:🔹Vorsitz:Dr. @Alice_Weidel, Dr. Alexander Gauland🔹Vize:Dr. @R_Hartwig_AfD, Peter Felser, Tino Chrupalla, @Leif_Erik_Holm, @Beatrix_vStorch🔹1. Parlamentarischer Geschäftsführer:Dr. Bernd Baumann🔹Weitere PGF:Jürgen Braun, Dr. @EspendillerM, Hansjörg Müller pic.twitter.com/IVjIqanAO2'}, {'author__screen_name': 'Linksfraktion', 'rts': 11, 'text': 'Neuer Monat, gleiches Spiel: Die #Bundesagentur für Arbeit rechnet wieder ca. eine Million Menschen aus der aktuellen #Arbeitslosenstatistik heraus. Nicht als erwerbslos gezählt wurden zB Arbeitslose, die krank sind, einen Ein-Euro-Job haben oder an Weiterbildungen teilnehmen. pic.twitter.com/Wj5AWFmhg7'}, {'author__screen_name': 'jeremycorbyn', 'rts': 11, 'text': \"@dieLinke @katjakipping I was pleased to meet @KatjaKipping from Germany's @DieLinke party today.We discussed how progressive parties and movements inside and outside the European Union can work together to end austerity and privatisation, and promote international peace. pic.twitter.com/QSw0c2ZERN\"}, {'author__screen_name': 'mesale_tolu', 'rts': 11, 'text': 'Ich bin immer noch in der Türkei. Es sind derzeit mehr als 150 Kolleg*innen inhaftiert, weil sie ihren Job getan haben. Solange die Journalist*innen eingesperrt sind, kann man nicht von einer Verbesserung hinsichtlich der Presse- und Meinungsfreiheit sprechen. #FreeThemAll'}, {'author__screen_name': 'robinalexander_', 'rts': 11, 'text': 'Krass! Erfahrener CSU-MdB herrscht auf Fraktionsebene vor Journalisten CDU-MdB an: „Ihr spinnt doch. Der Merkel ist das dt Volk egal, der Merkel sind die Abgeordneten egal. Und ihr lasst Euch erzählen, sie sei die letzte Super-Europäerin“ @welt'}, {'author__screen_name': 'fdpbt', 'rts': 11, 'text': 'Die @fdpbt trägt heute auch #Kippa. Das ist unser Zeichen für die Solidarität mit #Israel und gegen jede Form von #Antisemitismus. #berlinträgtkippa #bundestag #70JahreIsrael pic.twitter.com/4lfqGqOknl'}, {'author__screen_name': 'MartinSchulz', 'rts': 11, 'text': 'In 7 Tagen können wir uns aufregen, dass rechte Hetzer im Bundestag sitzen. Oder wir können diese 7 Tage nutzen, das zu verhindern.'}, {'author__screen_name': 'larsklingbeil', 'rts': 11, 'text': 'Ähm, weil ihr es gemeinsam mit der @CSU jahrelang blockiert habt, liebe @CDU? https://twitter.com/cdu/status/1019195092635148289\\xa0…'}, {'author__screen_name': 'Linksfraktion', 'rts': 11, 'text': 'Jedes 3. Kind in Deutschland lernt #Armut kennen, 2 Mio. von #HartzIV betroffen. #Kinderarmut = schlechtere Bildungschancen, Teilhabe & Gesundheit. Deshalb: 328€ #Kindergeld, 573€ Grundsicherung/Kind, #Bildung gebührenfrei, #kostenlosesMittagessen in #Kita & #Schule! #Kindertag pic.twitter.com/akvuP4vFmi'}, {'author__screen_name': 'ErikMarquardt', 'rts': 10, 'text': 'Ich bin momentan auf der Seawatch auf dem Mittelmeer.Fast jeden Tag sterben hier Menschen und EU-Staaten streiten sich jetzt darüber, ob man Menschen in Lebensgefahr noch Menschenrechte zubilligt. Beschämend.Wir werden weiter retten. Ganz egal, ob man uns dafür hasst. #aquarius pic.twitter.com/cmn5lDDzcQ'}, {'author__screen_name': 'GrueneBundestag', 'rts': 10, 'text': 'Astronautin, Entdecker, Künstlerin, Lokführer: In jedem #Kind steckt Potential, eigene Träume & Wünsche zu verwirklichen. Weil bei uns nicht alle Kinder die Chance haben, zu entwicklen, was in ihnen steckt, setzen wir uns für #Kinderrechte ein. #Kindertag #Bildung #SchutzvorArmut pic.twitter.com/Lfo3H9KChL'}, '...(remaining elements truncated)...']>"
      ]
     },
     "execution_count": 7,
     "metadata": {},
     "output_type": "execute_result"
    }
   ],
   "source": [
    "stats = Status.objects.annotate(\n",
    "    rts = Count('retweeted_by__id')\n",
    ").order_by('-rts')\n",
    "stats.values('rts','text','author__screen_name')"
   ]
  }
 ],
 "metadata": {
  "kernelspec": {
   "display_name": "tmvenv",
   "language": "python",
   "name": "tmvenv"
  },
  "language_info": {
   "codemirror_mode": {
    "name": "ipython",
    "version": 3
   },
   "file_extension": ".py",
   "mimetype": "text/x-python",
   "name": "python",
   "nbconvert_exporter": "python",
   "pygments_lexer": "ipython3",
   "version": "3.4.3"
  }
 },
 "nbformat": 4,
 "nbformat_minor": 2
}
